{
 "cells": [
  {
   "cell_type": "markdown",
   "id": "a7f01ae3",
   "metadata": {},
   "source": [
    "# KNN Optimisation\n"
   ]
  },
  {
   "cell_type": "code",
   "execution_count": 28,
   "id": "df4da720",
   "metadata": {},
   "outputs": [],
   "source": [
    "import numpy as np\n",
    "import pandas as pd\n",
    "\n",
    "import plotly.express as px\n",
    "import plotly.graph_objects as go\n"
   ]
  },
  {
   "cell_type": "markdown",
   "id": "2d434d95",
   "metadata": {},
   "source": [
    "## kNN Search Algorithm\n",
    "\n",
    "We will use the kNN search (and later the kNN regressor) as a running example.\n",
    "\n",
    "### kNN Search\n",
    "\n",
    "The kNN search is a simple algorithm that finds the k nearest neighbours of a query point in a dataset.\n",
    "It can be described as follows:\n",
    "\n",
    "1. Calculate the distance between the query point and all points in the dataset.\n",
    "2. Sort the distances and find the k smallest distances.\n",
    "3. Return the indices of the k smallest distances."
   ]
  },
  {
   "cell_type": "markdown",
   "id": "de5bdb23",
   "metadata": {},
   "source": [
    "### Numpy implementation"
   ]
  },
  {
   "cell_type": "code",
   "execution_count": 3,
   "id": "f11f4c9a",
   "metadata": {},
   "outputs": [],
   "source": [
    "def euclidean_distances_numpy(query_points: np.ndarray, dataset: np.ndarray) -> np.ndarray:\n",
    "    \"\"\"Calculate Euclidean distances between all query points and all dataset points using NumPy.\n",
    "\n",
    "    We consider the input arrays to be in the shape of (n_points, n_dimensions).\n",
    "\n",
    "    Args:\n",
    "        query_points (np.ndarray): Query points (2D array).\n",
    "        dataset (np.ndarray): Dataset of reference points (2D array).\n",
    "\n",
    "    Returns:\n",
    "        np.ndarray: Euclidean distances between query points and dataset points.\n",
    "    \"\"\"\n",
    "    return np.sqrt(np.sum((dataset[:, np.newaxis, :] - query_points) ** 2, axis=-1))\n",
    "\n",
    "\n",
    "def knn_search_numpy(\n",
    "    query_points: np.ndarray,\n",
    "    dataset: np.ndarray,\n",
    "    k: int,\n",
    ") -> np.ndarray:\n",
    "    \"\"\"\n",
    "    Finds the k nearest neighbors for a single query point using NumPy.\n",
    "\n",
    "    Args:\n",
    "        query_points (np.ndarray): Query points (2D array).\n",
    "        dataset (np.ndarray): Dataset of reference points (2D array).\n",
    "        k (int): The number of neighbors to find.\n",
    "\n",
    "    Returns:\n",
    "        np.ndarray: Indices of the k nearest neighbors in the dataset.\n",
    "    \"\"\"\n",
    "    distances = euclidean_distances_numpy(query_points, dataset)\n",
    "\n",
    "    # Find the indices of the k smallest distances\n",
    "    nearest_indices = np.argpartition(distances, k, axis=0)[:k].T\n",
    "\n",
    "    return nearest_indices"
   ]
  },
  {
   "cell_type": "markdown",
   "id": "da17522b",
   "metadata": {},
   "source": [
    "### Helper plotting function"
   ]
  },
  {
   "cell_type": "code",
   "execution_count": null,
   "id": "b4e58d71",
   "metadata": {},
   "outputs": [],
   "source": [
    "def visualise_knn(query_points: np.ndarray, dataset: np.ndarray, neighbours: np.ndarray) -> go.Figure:\n",
    "    # Plot all data points\n",
    "    fig = go.Figure()\n",
    "    fig.add_trace(\n",
    "        go.Scatter(\n",
    "            x=dataset[:, 0],\n",
    "            y=dataset[:, 1],\n",
    "            mode=\"markers\",\n",
    "            marker=dict(size=8, color=\"lightgrey\"),\n",
    "            name=\"Dataset Points\",\n",
    "        )\n",
    "    )\n",
    "\n",
    "    show_legend = True\n",
    "    for query_point, point_neighbours in zip(query_points, neighbours):\n",
    "        # Plot the query point\n",
    "        fig.add_trace(\n",
    "            go.Scatter(\n",
    "                x=[query_point[0]],\n",
    "                y=[query_point[1]],\n",
    "                mode=\"markers\",\n",
    "                marker=dict(size=14, color=\"red\", symbol=\"x\"),\n",
    "                name=\"Query Point\",\n",
    "                showlegend=show_legend,\n",
    "            )\n",
    "        )\n",
    "\n",
    "        # Draw lines from query point to each neighbour for clarity\n",
    "        for neighbour in point_neighbours:\n",
    "            fig.add_trace(\n",
    "                go.Scatter(\n",
    "                    x=[query_point[0], neighbour[0]],\n",
    "                    y=[query_point[1], neighbour[1]],\n",
    "                    mode=\"lines\",\n",
    "                    line=dict(color=\"royalblue\", dash=\"dot\"),\n",
    "                    showlegend=False,\n",
    "                )\n",
    "            )\n",
    "\n",
    "        # Plot the k nearest neighbours\n",
    "        fig.add_trace(\n",
    "            go.Scatter(\n",
    "                x=point_neighbours[:, 0],\n",
    "                y=point_neighbours[:, 1],\n",
    "                mode=\"markers\",\n",
    "                marker=dict(size=12, color=\"royalblue\", symbol=\"circle-open\"),\n",
    "                name=\"Nearest Neighbours\",\n",
    "                showlegend=show_legend,\n",
    "            )\n",
    "        )\n",
    "\n",
    "        show_legend = False\n",
    "\n",
    "    fig.update_layout(\n",
    "        title=\"kNN Search Visualisation\",\n",
    "        xaxis_title=\"Sepal Width\",\n",
    "        yaxis_title=\"Sepal Length\",\n",
    "        legend=dict(yanchor=\"top\", y=0.99, xanchor=\"left\", x=0.01),\n",
    "        width=700,\n",
    "        height=500,\n",
    "        # Ensure axes have identical scales for accurate spatial interpretation\n",
    "        xaxis=dict(\n",
    "            scaleanchor=\"y\",  # Link x-axis scale to y-axis\n",
    "            scaleratio=1,     # 1:1 aspect ratio\n",
    "        ),\n",
    "        yaxis=dict(\n",
    "            constrain=\"domain\",  # Prevent stretching of y-axis\n",
    "        ),\n",
    "    )\n",
    "\n",
    "    return fig\n"
   ]
  },
  {
   "cell_type": "markdown",
   "id": "2c86b487",
   "metadata": {},
   "source": [
    "### Demonstration\n",
    "\n",
    "Let's demonstrate the kNN search algorithm on a simple 2D dataset. We will use the popular Iris dataset, and select just the first two features."
   ]
  },
  {
   "cell_type": "code",
   "execution_count": 96,
   "id": "531b32d7",
   "metadata": {},
   "outputs": [
    {
     "name": "stdout",
     "output_type": "stream",
     "text": [
      "Nearest neighbour indices: [[134  83  92]\n",
      " [109  50 120]]\n",
      "Nearest neighbours of [[2.5 6. ]\n",
      " [3.5 7. ]]:\n",
      "[[[2.6 6.1]\n",
      "  [2.7 6. ]\n",
      "  [2.6 5.8]]\n",
      "\n",
      " [[3.6 7.2]\n",
      "  [3.2 7. ]\n",
      "  [3.2 6.9]]]\n"
     ]
    }
   ],
   "source": [
    "# Load a simple 2D dataset (Iris, first two features)\n",
    "dataset = px.data.iris()[[\"sepal_width\", \"sepal_length\"]].to_numpy()\n",
    "\n",
    "# Select a query point (e.g., a random point not in the dataset)\n",
    "query_points = np.array([[2.5, 6], [3.5, 7.0]])\n",
    "\n",
    "# Find k nearest neighbours using the previously defined function\n",
    "neighbour_indices = knn_search_numpy(query_points, dataset, k=3)\n",
    "neighbours = dataset[neighbour_indices]\n",
    "\n",
    "print(f\"Nearest neighbour indices: {neighbour_indices}\")\n",
    "print(f\"Nearest neighbours of {query_points}:\\n{neighbours}\")"
   ]
  },
  {
   "cell_type": "code",
   "execution_count": 97,
   "id": "9fe669e2",
   "metadata": {},
   "outputs": [
    {
     "data": {
      "application/vnd.plotly.v1+json": {
       "config": {
        "plotlyServerURL": "https://plot.ly"
       },
       "data": [
        {
         "marker": {
          "color": "lightgrey",
          "size": 8
         },
         "mode": "markers",
         "name": "Dataset Points",
         "type": "scatter",
         "x": {
          "bdata": "AAAAAAAADEAAAAAAAAAIQJqZmZmZmQlAzczMzMzMCEDNzMzMzMwMQDMzMzMzMw9AMzMzMzMzC0AzMzMzMzMLQDMzMzMzMwdAzczMzMzMCECamZmZmZkNQDMzMzMzMwtAAAAAAAAACEAAAAAAAAAIQAAAAAAAABBAmpmZmZmZEUAzMzMzMzMPQAAAAAAAAAxAZmZmZmZmDkBmZmZmZmYOQDMzMzMzMwtAmpmZmZmZDUDNzMzMzMwMQGZmZmZmZgpAMzMzMzMzC0AAAAAAAAAIQDMzMzMzMwtAAAAAAAAADEAzMzMzMzMLQJqZmZmZmQlAzczMzMzMCEAzMzMzMzMLQGZmZmZmZhBAzczMzMzMEEDNzMzMzMwIQJqZmZmZmQlAAAAAAAAADEDNzMzMzMwIQAAAAAAAAAhAMzMzMzMzC0AAAAAAAAAMQGZmZmZmZgJAmpmZmZmZCUAAAAAAAAAMQGZmZmZmZg5AAAAAAAAACEBmZmZmZmYOQJqZmZmZmQlAmpmZmZmZDUBmZmZmZmYKQJqZmZmZmQlAmpmZmZmZCUDNzMzMzMwIQGZmZmZmZgJAZmZmZmZmBkBmZmZmZmYGQGZmZmZmZgpAMzMzMzMzA0AzMzMzMzMHQJqZmZmZmQVAAAAAAAAAAEAAAAAAAAAIQJqZmZmZmQFAMzMzMzMzB0AzMzMzMzMHQM3MzMzMzAhAAAAAAAAACECamZmZmZkFQJqZmZmZmQFAAAAAAAAABECamZmZmZkJQGZmZmZmZgZAAAAAAAAABEBmZmZmZmYGQDMzMzMzMwdAAAAAAAAACEBmZmZmZmYGQAAAAAAAAAhAMzMzMzMzB0DNzMzMzMwEQDMzMzMzMwNAMzMzMzMzA0CamZmZmZkFQJqZmZmZmQVAAAAAAAAACEAzMzMzMzMLQM3MzMzMzAhAZmZmZmZmAkAAAAAAAAAIQAAAAAAAAARAzczMzMzMBEAAAAAAAAAIQM3MzMzMzARAZmZmZmZmAkCamZmZmZkFQAAAAAAAAAhAMzMzMzMzB0AzMzMzMzMHQAAAAAAAAARAZmZmZmZmBkBmZmZmZmYKQJqZmZmZmQVAAAAAAAAACEAzMzMzMzMHQAAAAAAAAAhAAAAAAAAACEAAAAAAAAAEQDMzMzMzMwdAAAAAAAAABEDNzMzMzMwMQJqZmZmZmQlAmpmZmZmZBUAAAAAAAAAIQAAAAAAAAARAZmZmZmZmBkCamZmZmZkJQAAAAAAAAAhAZmZmZmZmDkDNzMzMzMwEQJqZmZmZmQFAmpmZmZmZCUBmZmZmZmYGQGZmZmZmZgZAmpmZmZmZBUBmZmZmZmYKQJqZmZmZmQlAZmZmZmZmBkAAAAAAAAAIQGZmZmZmZgZAAAAAAAAACEBmZmZmZmYGQGZmZmZmZg5AZmZmZmZmBkBmZmZmZmYGQM3MzMzMzARAAAAAAAAACEAzMzMzMzMLQM3MzMzMzAhAAAAAAAAACEDNzMzMzMwIQM3MzMzMzAhAzczMzMzMCECamZmZmZkFQJqZmZmZmQlAZmZmZmZmCkAAAAAAAAAIQAAAAAAAAARAAAAAAAAACEAzMzMzMzMLQAAAAAAAAAhA",
          "dtype": "f8"
         },
         "y": {
          "bdata": "ZmZmZmZmFECamZmZmZkTQM3MzMzMzBJAZmZmZmZmEkAAAAAAAAAUQJqZmZmZmRVAZmZmZmZmEkAAAAAAAAAUQJqZmZmZmRFAmpmZmZmZE0CamZmZmZkVQDMzMzMzMxNAMzMzMzMzE0AzMzMzMzMRQDMzMzMzMxdAzczMzMzMFkCamZmZmZkVQGZmZmZmZhRAzczMzMzMFkBmZmZmZmYUQJqZmZmZmRVAZmZmZmZmFEBmZmZmZmYSQGZmZmZmZhRAMzMzMzMzE0AAAAAAAAAUQAAAAAAAABRAzczMzMzMFEDNzMzMzMwUQM3MzMzMzBJAMzMzMzMzE0CamZmZmZkVQM3MzMzMzBRAAAAAAAAAFkCamZmZmZkTQAAAAAAAABRAAAAAAAAAFkCamZmZmZkTQJqZmZmZmRFAZmZmZmZmFEAAAAAAAAAUQAAAAAAAABJAmpmZmZmZEUAAAAAAAAAUQGZmZmZmZhRAMzMzMzMzE0BmZmZmZmYUQGZmZmZmZhJAMzMzMzMzFUAAAAAAAAAUQAAAAAAAABxAmpmZmZmZGUCamZmZmZkbQAAAAAAAABZAAAAAAAAAGkDNzMzMzMwWQDMzMzMzMxlAmpmZmZmZE0BmZmZmZmYaQM3MzMzMzBRAAAAAAAAAFECamZmZmZkXQAAAAAAAABhAZmZmZmZmGEBmZmZmZmYWQM3MzMzMzBpAZmZmZmZmFkAzMzMzMzMXQM3MzMzMzBhAZmZmZmZmFkCamZmZmZkXQGZmZmZmZhhAMzMzMzMzGUBmZmZmZmYYQJqZmZmZmRlAZmZmZmZmGkAzMzMzMzMbQM3MzMzMzBpAAAAAAAAAGEDNzMzMzMwWQAAAAAAAABZAAAAAAAAAFkAzMzMzMzMXQAAAAAAAABhAmpmZmZmZFUAAAAAAAAAYQM3MzMzMzBpAMzMzMzMzGUBmZmZmZmYWQAAAAAAAABZAAAAAAAAAFkBmZmZmZmYYQDMzMzMzMxdAAAAAAAAAFEBmZmZmZmYWQM3MzMzMzBZAzczMzMzMFkDNzMzMzMwYQGZmZmZmZhRAzczMzMzMFkAzMzMzMzMZQDMzMzMzMxdAZmZmZmZmHEAzMzMzMzMZQAAAAAAAABpAZmZmZmZmHkCamZmZmZkTQDMzMzMzMx1AzczMzMzMGkDNzMzMzMwcQAAAAAAAABpAmpmZmZmZGUAzMzMzMzMbQM3MzMzMzBZAMzMzMzMzF0CamZmZmZkZQAAAAAAAABpAzczMzMzMHkDNzMzMzMweQAAAAAAAABhAmpmZmZmZG0BmZmZmZmYWQM3MzMzMzB5AMzMzMzMzGUDNzMzMzMwaQM3MzMzMzBxAzczMzMzMGEBmZmZmZmYYQJqZmZmZmRlAzczMzMzMHECamZmZmZkdQJqZmZmZmR9AmpmZmZmZGUAzMzMzMzMZQGZmZmZmZhhAzczMzMzMHkAzMzMzMzMZQJqZmZmZmRlAAAAAAAAAGECamZmZmZkbQM3MzMzMzBpAmpmZmZmZG0AzMzMzMzMXQDMzMzMzMxtAzczMzMzMGkDNzMzMzMwaQDMzMzMzMxlAAAAAAAAAGkDNzMzMzMwYQJqZmZmZmRdA",
          "dtype": "f8"
         }
        },
        {
         "marker": {
          "color": "red",
          "size": 14,
          "symbol": "x"
         },
         "mode": "markers",
         "name": "Query Point",
         "showlegend": true,
         "type": "scatter",
         "x": [
          2.5
         ],
         "y": [
          6
         ]
        },
        {
         "line": {
          "color": "royalblue",
          "dash": "dot"
         },
         "mode": "lines",
         "showlegend": false,
         "type": "scatter",
         "x": [
          2.5,
          2.6
         ],
         "y": [
          6,
          6.1
         ]
        },
        {
         "line": {
          "color": "royalblue",
          "dash": "dot"
         },
         "mode": "lines",
         "showlegend": false,
         "type": "scatter",
         "x": [
          2.5,
          2.7
         ],
         "y": [
          6,
          6
         ]
        },
        {
         "line": {
          "color": "royalblue",
          "dash": "dot"
         },
         "mode": "lines",
         "showlegend": false,
         "type": "scatter",
         "x": [
          2.5,
          2.6
         ],
         "y": [
          6,
          5.8
         ]
        },
        {
         "marker": {
          "color": "royalblue",
          "size": 12,
          "symbol": "circle-open"
         },
         "mode": "markers",
         "name": "Nearest Neighbours",
         "showlegend": true,
         "type": "scatter",
         "x": {
          "bdata": "zczMzMzMBECamZmZmZkFQM3MzMzMzARA",
          "dtype": "f8"
         },
         "y": {
          "bdata": "ZmZmZmZmGEAAAAAAAAAYQDMzMzMzMxdA",
          "dtype": "f8"
         }
        },
        {
         "marker": {
          "color": "red",
          "size": 14,
          "symbol": "x"
         },
         "mode": "markers",
         "name": "Query Point",
         "showlegend": false,
         "type": "scatter",
         "x": [
          3.5
         ],
         "y": [
          7
         ]
        },
        {
         "line": {
          "color": "royalblue",
          "dash": "dot"
         },
         "mode": "lines",
         "showlegend": false,
         "type": "scatter",
         "x": [
          3.5,
          3.6
         ],
         "y": [
          7,
          7.2
         ]
        },
        {
         "line": {
          "color": "royalblue",
          "dash": "dot"
         },
         "mode": "lines",
         "showlegend": false,
         "type": "scatter",
         "x": [
          3.5,
          3.2
         ],
         "y": [
          7,
          7
         ]
        },
        {
         "line": {
          "color": "royalblue",
          "dash": "dot"
         },
         "mode": "lines",
         "showlegend": false,
         "type": "scatter",
         "x": [
          3.5,
          3.2
         ],
         "y": [
          7,
          6.9
         ]
        },
        {
         "marker": {
          "color": "royalblue",
          "size": 12,
          "symbol": "circle-open"
         },
         "mode": "markers",
         "name": "Nearest Neighbours",
         "showlegend": false,
         "type": "scatter",
         "x": {
          "bdata": "zczMzMzMDECamZmZmZkJQJqZmZmZmQlA",
          "dtype": "f8"
         },
         "y": {
          "bdata": "zczMzMzMHEAAAAAAAAAcQJqZmZmZmRtA",
          "dtype": "f8"
         }
        }
       ],
       "layout": {
        "height": 500,
        "legend": {
         "x": 0.01,
         "xanchor": "left",
         "y": 0.99,
         "yanchor": "top"
        },
        "template": {
         "data": {
          "bar": [
           {
            "error_x": {
             "color": "#2a3f5f"
            },
            "error_y": {
             "color": "#2a3f5f"
            },
            "marker": {
             "line": {
              "color": "#E5ECF6",
              "width": 0.5
             },
             "pattern": {
              "fillmode": "overlay",
              "size": 10,
              "solidity": 0.2
             }
            },
            "type": "bar"
           }
          ],
          "barpolar": [
           {
            "marker": {
             "line": {
              "color": "#E5ECF6",
              "width": 0.5
             },
             "pattern": {
              "fillmode": "overlay",
              "size": 10,
              "solidity": 0.2
             }
            },
            "type": "barpolar"
           }
          ],
          "carpet": [
           {
            "aaxis": {
             "endlinecolor": "#2a3f5f",
             "gridcolor": "white",
             "linecolor": "white",
             "minorgridcolor": "white",
             "startlinecolor": "#2a3f5f"
            },
            "baxis": {
             "endlinecolor": "#2a3f5f",
             "gridcolor": "white",
             "linecolor": "white",
             "minorgridcolor": "white",
             "startlinecolor": "#2a3f5f"
            },
            "type": "carpet"
           }
          ],
          "choropleth": [
           {
            "colorbar": {
             "outlinewidth": 0,
             "ticks": ""
            },
            "type": "choropleth"
           }
          ],
          "contour": [
           {
            "colorbar": {
             "outlinewidth": 0,
             "ticks": ""
            },
            "colorscale": [
             [
              0,
              "#0d0887"
             ],
             [
              0.1111111111111111,
              "#46039f"
             ],
             [
              0.2222222222222222,
              "#7201a8"
             ],
             [
              0.3333333333333333,
              "#9c179e"
             ],
             [
              0.4444444444444444,
              "#bd3786"
             ],
             [
              0.5555555555555556,
              "#d8576b"
             ],
             [
              0.6666666666666666,
              "#ed7953"
             ],
             [
              0.7777777777777778,
              "#fb9f3a"
             ],
             [
              0.8888888888888888,
              "#fdca26"
             ],
             [
              1,
              "#f0f921"
             ]
            ],
            "type": "contour"
           }
          ],
          "contourcarpet": [
           {
            "colorbar": {
             "outlinewidth": 0,
             "ticks": ""
            },
            "type": "contourcarpet"
           }
          ],
          "heatmap": [
           {
            "colorbar": {
             "outlinewidth": 0,
             "ticks": ""
            },
            "colorscale": [
             [
              0,
              "#0d0887"
             ],
             [
              0.1111111111111111,
              "#46039f"
             ],
             [
              0.2222222222222222,
              "#7201a8"
             ],
             [
              0.3333333333333333,
              "#9c179e"
             ],
             [
              0.4444444444444444,
              "#bd3786"
             ],
             [
              0.5555555555555556,
              "#d8576b"
             ],
             [
              0.6666666666666666,
              "#ed7953"
             ],
             [
              0.7777777777777778,
              "#fb9f3a"
             ],
             [
              0.8888888888888888,
              "#fdca26"
             ],
             [
              1,
              "#f0f921"
             ]
            ],
            "type": "heatmap"
           }
          ],
          "histogram": [
           {
            "marker": {
             "pattern": {
              "fillmode": "overlay",
              "size": 10,
              "solidity": 0.2
             }
            },
            "type": "histogram"
           }
          ],
          "histogram2d": [
           {
            "colorbar": {
             "outlinewidth": 0,
             "ticks": ""
            },
            "colorscale": [
             [
              0,
              "#0d0887"
             ],
             [
              0.1111111111111111,
              "#46039f"
             ],
             [
              0.2222222222222222,
              "#7201a8"
             ],
             [
              0.3333333333333333,
              "#9c179e"
             ],
             [
              0.4444444444444444,
              "#bd3786"
             ],
             [
              0.5555555555555556,
              "#d8576b"
             ],
             [
              0.6666666666666666,
              "#ed7953"
             ],
             [
              0.7777777777777778,
              "#fb9f3a"
             ],
             [
              0.8888888888888888,
              "#fdca26"
             ],
             [
              1,
              "#f0f921"
             ]
            ],
            "type": "histogram2d"
           }
          ],
          "histogram2dcontour": [
           {
            "colorbar": {
             "outlinewidth": 0,
             "ticks": ""
            },
            "colorscale": [
             [
              0,
              "#0d0887"
             ],
             [
              0.1111111111111111,
              "#46039f"
             ],
             [
              0.2222222222222222,
              "#7201a8"
             ],
             [
              0.3333333333333333,
              "#9c179e"
             ],
             [
              0.4444444444444444,
              "#bd3786"
             ],
             [
              0.5555555555555556,
              "#d8576b"
             ],
             [
              0.6666666666666666,
              "#ed7953"
             ],
             [
              0.7777777777777778,
              "#fb9f3a"
             ],
             [
              0.8888888888888888,
              "#fdca26"
             ],
             [
              1,
              "#f0f921"
             ]
            ],
            "type": "histogram2dcontour"
           }
          ],
          "mesh3d": [
           {
            "colorbar": {
             "outlinewidth": 0,
             "ticks": ""
            },
            "type": "mesh3d"
           }
          ],
          "parcoords": [
           {
            "line": {
             "colorbar": {
              "outlinewidth": 0,
              "ticks": ""
             }
            },
            "type": "parcoords"
           }
          ],
          "pie": [
           {
            "automargin": true,
            "type": "pie"
           }
          ],
          "scatter": [
           {
            "fillpattern": {
             "fillmode": "overlay",
             "size": 10,
             "solidity": 0.2
            },
            "type": "scatter"
           }
          ],
          "scatter3d": [
           {
            "line": {
             "colorbar": {
              "outlinewidth": 0,
              "ticks": ""
             }
            },
            "marker": {
             "colorbar": {
              "outlinewidth": 0,
              "ticks": ""
             }
            },
            "type": "scatter3d"
           }
          ],
          "scattercarpet": [
           {
            "marker": {
             "colorbar": {
              "outlinewidth": 0,
              "ticks": ""
             }
            },
            "type": "scattercarpet"
           }
          ],
          "scattergeo": [
           {
            "marker": {
             "colorbar": {
              "outlinewidth": 0,
              "ticks": ""
             }
            },
            "type": "scattergeo"
           }
          ],
          "scattergl": [
           {
            "marker": {
             "colorbar": {
              "outlinewidth": 0,
              "ticks": ""
             }
            },
            "type": "scattergl"
           }
          ],
          "scattermap": [
           {
            "marker": {
             "colorbar": {
              "outlinewidth": 0,
              "ticks": ""
             }
            },
            "type": "scattermap"
           }
          ],
          "scattermapbox": [
           {
            "marker": {
             "colorbar": {
              "outlinewidth": 0,
              "ticks": ""
             }
            },
            "type": "scattermapbox"
           }
          ],
          "scatterpolar": [
           {
            "marker": {
             "colorbar": {
              "outlinewidth": 0,
              "ticks": ""
             }
            },
            "type": "scatterpolar"
           }
          ],
          "scatterpolargl": [
           {
            "marker": {
             "colorbar": {
              "outlinewidth": 0,
              "ticks": ""
             }
            },
            "type": "scatterpolargl"
           }
          ],
          "scatterternary": [
           {
            "marker": {
             "colorbar": {
              "outlinewidth": 0,
              "ticks": ""
             }
            },
            "type": "scatterternary"
           }
          ],
          "surface": [
           {
            "colorbar": {
             "outlinewidth": 0,
             "ticks": ""
            },
            "colorscale": [
             [
              0,
              "#0d0887"
             ],
             [
              0.1111111111111111,
              "#46039f"
             ],
             [
              0.2222222222222222,
              "#7201a8"
             ],
             [
              0.3333333333333333,
              "#9c179e"
             ],
             [
              0.4444444444444444,
              "#bd3786"
             ],
             [
              0.5555555555555556,
              "#d8576b"
             ],
             [
              0.6666666666666666,
              "#ed7953"
             ],
             [
              0.7777777777777778,
              "#fb9f3a"
             ],
             [
              0.8888888888888888,
              "#fdca26"
             ],
             [
              1,
              "#f0f921"
             ]
            ],
            "type": "surface"
           }
          ],
          "table": [
           {
            "cells": {
             "fill": {
              "color": "#EBF0F8"
             },
             "line": {
              "color": "white"
             }
            },
            "header": {
             "fill": {
              "color": "#C8D4E3"
             },
             "line": {
              "color": "white"
             }
            },
            "type": "table"
           }
          ]
         },
         "layout": {
          "annotationdefaults": {
           "arrowcolor": "#2a3f5f",
           "arrowhead": 0,
           "arrowwidth": 1
          },
          "autotypenumbers": "strict",
          "coloraxis": {
           "colorbar": {
            "outlinewidth": 0,
            "ticks": ""
           }
          },
          "colorscale": {
           "diverging": [
            [
             0,
             "#8e0152"
            ],
            [
             0.1,
             "#c51b7d"
            ],
            [
             0.2,
             "#de77ae"
            ],
            [
             0.3,
             "#f1b6da"
            ],
            [
             0.4,
             "#fde0ef"
            ],
            [
             0.5,
             "#f7f7f7"
            ],
            [
             0.6,
             "#e6f5d0"
            ],
            [
             0.7,
             "#b8e186"
            ],
            [
             0.8,
             "#7fbc41"
            ],
            [
             0.9,
             "#4d9221"
            ],
            [
             1,
             "#276419"
            ]
           ],
           "sequential": [
            [
             0,
             "#0d0887"
            ],
            [
             0.1111111111111111,
             "#46039f"
            ],
            [
             0.2222222222222222,
             "#7201a8"
            ],
            [
             0.3333333333333333,
             "#9c179e"
            ],
            [
             0.4444444444444444,
             "#bd3786"
            ],
            [
             0.5555555555555556,
             "#d8576b"
            ],
            [
             0.6666666666666666,
             "#ed7953"
            ],
            [
             0.7777777777777778,
             "#fb9f3a"
            ],
            [
             0.8888888888888888,
             "#fdca26"
            ],
            [
             1,
             "#f0f921"
            ]
           ],
           "sequentialminus": [
            [
             0,
             "#0d0887"
            ],
            [
             0.1111111111111111,
             "#46039f"
            ],
            [
             0.2222222222222222,
             "#7201a8"
            ],
            [
             0.3333333333333333,
             "#9c179e"
            ],
            [
             0.4444444444444444,
             "#bd3786"
            ],
            [
             0.5555555555555556,
             "#d8576b"
            ],
            [
             0.6666666666666666,
             "#ed7953"
            ],
            [
             0.7777777777777778,
             "#fb9f3a"
            ],
            [
             0.8888888888888888,
             "#fdca26"
            ],
            [
             1,
             "#f0f921"
            ]
           ]
          },
          "colorway": [
           "#636efa",
           "#EF553B",
           "#00cc96",
           "#ab63fa",
           "#FFA15A",
           "#19d3f3",
           "#FF6692",
           "#B6E880",
           "#FF97FF",
           "#FECB52"
          ],
          "font": {
           "color": "#2a3f5f"
          },
          "geo": {
           "bgcolor": "white",
           "lakecolor": "white",
           "landcolor": "#E5ECF6",
           "showlakes": true,
           "showland": true,
           "subunitcolor": "white"
          },
          "hoverlabel": {
           "align": "left"
          },
          "hovermode": "closest",
          "mapbox": {
           "style": "light"
          },
          "paper_bgcolor": "white",
          "plot_bgcolor": "#E5ECF6",
          "polar": {
           "angularaxis": {
            "gridcolor": "white",
            "linecolor": "white",
            "ticks": ""
           },
           "bgcolor": "#E5ECF6",
           "radialaxis": {
            "gridcolor": "white",
            "linecolor": "white",
            "ticks": ""
           }
          },
          "scene": {
           "xaxis": {
            "backgroundcolor": "#E5ECF6",
            "gridcolor": "white",
            "gridwidth": 2,
            "linecolor": "white",
            "showbackground": true,
            "ticks": "",
            "zerolinecolor": "white"
           },
           "yaxis": {
            "backgroundcolor": "#E5ECF6",
            "gridcolor": "white",
            "gridwidth": 2,
            "linecolor": "white",
            "showbackground": true,
            "ticks": "",
            "zerolinecolor": "white"
           },
           "zaxis": {
            "backgroundcolor": "#E5ECF6",
            "gridcolor": "white",
            "gridwidth": 2,
            "linecolor": "white",
            "showbackground": true,
            "ticks": "",
            "zerolinecolor": "white"
           }
          },
          "shapedefaults": {
           "line": {
            "color": "#2a3f5f"
           }
          },
          "ternary": {
           "aaxis": {
            "gridcolor": "white",
            "linecolor": "white",
            "ticks": ""
           },
           "baxis": {
            "gridcolor": "white",
            "linecolor": "white",
            "ticks": ""
           },
           "bgcolor": "#E5ECF6",
           "caxis": {
            "gridcolor": "white",
            "linecolor": "white",
            "ticks": ""
           }
          },
          "title": {
           "x": 0.05
          },
          "xaxis": {
           "automargin": true,
           "gridcolor": "white",
           "linecolor": "white",
           "ticks": "",
           "title": {
            "standoff": 15
           },
           "zerolinecolor": "white",
           "zerolinewidth": 2
          },
          "yaxis": {
           "automargin": true,
           "gridcolor": "white",
           "linecolor": "white",
           "ticks": "",
           "title": {
            "standoff": 15
           },
           "zerolinecolor": "white",
           "zerolinewidth": 2
          }
         }
        },
        "title": {
         "text": "kNN Search Visualisation"
        },
        "width": 700,
        "xaxis": {
         "scaleanchor": "y",
         "scaleratio": 1,
         "title": {
          "text": "Sepal Width"
         }
        },
        "yaxis": {
         "constrain": "domain",
         "title": {
          "text": "Sepal Length"
         }
        }
       }
      }
     },
     "metadata": {},
     "output_type": "display_data"
    }
   ],
   "source": [
    "visualise_knn(query_points, dataset, neighbours)"
   ]
  },
  {
   "cell_type": "markdown",
   "id": "e4f52870",
   "metadata": {},
   "source": [
    "### Performance\n",
    "\n",
    "Let's measure the performance (run time) of our algorithm. We will use the `%timeit` magic command to measure the time it takes to run the algorithm."
   ]
  },
  {
   "cell_type": "code",
   "execution_count": 99,
   "id": "9fe843aa",
   "metadata": {},
   "outputs": [],
   "source": [
    "n_dataset_points: int = 10_000\n",
    "n_query_points: int = 100\n",
    "n_dim: int = 3\n",
    "k: int = 5\n",
    "\n",
    "\n",
    "def create_random_data(\n",
    "    n_points: int, n_dim: int, *, seed: int = 42\n",
    ") -> np.ndarray:\n",
    "    np.random.seed(seed)\n",
    "    return np.random.sample((n_points, n_dim)).astype(np.float32)\n",
    "\n",
    "dataset = create_random_data(n_dataset_points, n_dim, seed=420)\n"
   ]
  },
  {
   "cell_type": "code",
   "execution_count": 100,
   "id": "3f20ee3a",
   "metadata": {},
   "outputs": [],
   "source": [
    "execution_times = []"
   ]
  },
  {
   "cell_type": "code",
   "execution_count": 101,
   "id": "2c7e1169",
   "metadata": {},
   "outputs": [
    {
     "name": "stdout",
     "output_type": "stream",
     "text": [
      "29.1 ms ± 108 μs per loop (mean ± std. dev. of 7 runs, 10 loops each)\n",
      "310 ms ± 3.33 ms per loop (mean ± std. dev. of 7 runs, 1 loop each)\n",
      "3.47 s ± 28.7 ms per loop (mean ± std. dev. of 7 runs, 1 loop each)\n"
     ]
    }
   ],
   "source": [
    "for n_query_points in [100, 1000, 10000]:\n",
    "    query_points = create_random_data(n_query_points, n_dim)\n",
    "    execution_time = %timeit -o knn_search_numpy(query_points, dataset, k=k)\n",
    "    execution_times.append(\n",
    "        {\n",
    "            \"n_query_points\": n_query_points,\n",
    "            \"n_dataset_points\": n_dataset_points,\n",
    "            \"n_dim\": n_dim,\n",
    "            \"k\": k,\n",
    "            \"execution_time\": execution_time.average,\n",
    "            \"function\": \"knn_search_numpy\",\n",
    "        }\n",
    "    )\n"
   ]
  },
  {
   "cell_type": "code",
   "execution_count": 102,
   "id": "95a91ac4",
   "metadata": {},
   "outputs": [
    {
     "name": "stdout",
     "output_type": "stream",
     "text": [
      "19.3 ms ± 100 μs per loop (mean ± std. dev. of 7 runs, 10 loops each)\n",
      "199 ms ± 1.27 ms per loop (mean ± std. dev. of 7 runs, 10 loops each)\n",
      "2.04 s ± 25.6 ms per loop (mean ± std. dev. of 7 runs, 1 loop each)\n"
     ]
    }
   ],
   "source": [
    "for n_query_points in [100, 1000, 10000]:\n",
    "    query_points = create_random_data(n_query_points, n_dim)\n",
    "    execution_time = %timeit -o euclidean_distances_numpy(query_points, dataset)\n",
    "    execution_times.append(\n",
    "        {\n",
    "            \"n_query_points\": n_query_points,\n",
    "            \"n_dataset_points\": n_dataset_points,\n",
    "            \"n_dim\": n_dim,\n",
    "            \"execution_time\": execution_time.average,\n",
    "            \"function\": \"euclidean_distances_numpy\",\n",
    "        }\n",
    "    )\n"
   ]
  },
  {
   "cell_type": "code",
   "execution_count": 104,
   "id": "ea40043c",
   "metadata": {},
   "outputs": [
    {
     "data": {
      "application/vnd.plotly.v1+json": {
       "config": {
        "plotlyServerURL": "https://plot.ly"
       },
       "data": [
        {
         "hovertemplate": "function=knn_search_numpy<br>Number of Query Points=%{x}<br>Execution Time (s)=%{y}<extra></extra>",
         "legendgroup": "knn_search_numpy",
         "line": {
          "color": "#636efa",
          "dash": "solid"
         },
         "marker": {
          "symbol": "circle"
         },
         "mode": "lines+markers",
         "name": "knn_search_numpy",
         "orientation": "v",
         "showlegend": true,
         "type": "scatter",
         "x": {
          "bdata": "ZADoAxAn",
          "dtype": "i2"
         },
         "xaxis": "x",
         "y": {
          "bdata": "mZmZs37SnT/bti2559DTP7dtE6eqxAtA",
          "dtype": "f8"
         },
         "yaxis": "y"
        },
        {
         "hovertemplate": "function=euclidean_distances_numpy<br>Number of Query Points=%{x}<br>Execution Time (s)=%{y}<extra></extra>",
         "legendgroup": "euclidean_distances_numpy",
         "line": {
          "color": "#EF553B",
          "dash": "solid"
         },
         "marker": {
          "symbol": "circle"
         },
         "mode": "lines+markers",
         "name": "euclidean_distances_numpy",
         "orientation": "v",
         "showlegend": true,
         "type": "scatter",
         "x": {
          "bdata": "ZADoAxAn",
          "dtype": "i2"
         },
         "xaxis": "x",
         "y": {
          "bdata": "MzMzA7XEkz/GV3xpqYPJP27bblKMWABA",
          "dtype": "f8"
         },
         "yaxis": "y"
        }
       ],
       "layout": {
        "legend": {
         "title": {
          "text": "function"
         },
         "tracegroupgap": 0
        },
        "template": {
         "data": {
          "bar": [
           {
            "error_x": {
             "color": "#2a3f5f"
            },
            "error_y": {
             "color": "#2a3f5f"
            },
            "marker": {
             "line": {
              "color": "#E5ECF6",
              "width": 0.5
             },
             "pattern": {
              "fillmode": "overlay",
              "size": 10,
              "solidity": 0.2
             }
            },
            "type": "bar"
           }
          ],
          "barpolar": [
           {
            "marker": {
             "line": {
              "color": "#E5ECF6",
              "width": 0.5
             },
             "pattern": {
              "fillmode": "overlay",
              "size": 10,
              "solidity": 0.2
             }
            },
            "type": "barpolar"
           }
          ],
          "carpet": [
           {
            "aaxis": {
             "endlinecolor": "#2a3f5f",
             "gridcolor": "white",
             "linecolor": "white",
             "minorgridcolor": "white",
             "startlinecolor": "#2a3f5f"
            },
            "baxis": {
             "endlinecolor": "#2a3f5f",
             "gridcolor": "white",
             "linecolor": "white",
             "minorgridcolor": "white",
             "startlinecolor": "#2a3f5f"
            },
            "type": "carpet"
           }
          ],
          "choropleth": [
           {
            "colorbar": {
             "outlinewidth": 0,
             "ticks": ""
            },
            "type": "choropleth"
           }
          ],
          "contour": [
           {
            "colorbar": {
             "outlinewidth": 0,
             "ticks": ""
            },
            "colorscale": [
             [
              0,
              "#0d0887"
             ],
             [
              0.1111111111111111,
              "#46039f"
             ],
             [
              0.2222222222222222,
              "#7201a8"
             ],
             [
              0.3333333333333333,
              "#9c179e"
             ],
             [
              0.4444444444444444,
              "#bd3786"
             ],
             [
              0.5555555555555556,
              "#d8576b"
             ],
             [
              0.6666666666666666,
              "#ed7953"
             ],
             [
              0.7777777777777778,
              "#fb9f3a"
             ],
             [
              0.8888888888888888,
              "#fdca26"
             ],
             [
              1,
              "#f0f921"
             ]
            ],
            "type": "contour"
           }
          ],
          "contourcarpet": [
           {
            "colorbar": {
             "outlinewidth": 0,
             "ticks": ""
            },
            "type": "contourcarpet"
           }
          ],
          "heatmap": [
           {
            "colorbar": {
             "outlinewidth": 0,
             "ticks": ""
            },
            "colorscale": [
             [
              0,
              "#0d0887"
             ],
             [
              0.1111111111111111,
              "#46039f"
             ],
             [
              0.2222222222222222,
              "#7201a8"
             ],
             [
              0.3333333333333333,
              "#9c179e"
             ],
             [
              0.4444444444444444,
              "#bd3786"
             ],
             [
              0.5555555555555556,
              "#d8576b"
             ],
             [
              0.6666666666666666,
              "#ed7953"
             ],
             [
              0.7777777777777778,
              "#fb9f3a"
             ],
             [
              0.8888888888888888,
              "#fdca26"
             ],
             [
              1,
              "#f0f921"
             ]
            ],
            "type": "heatmap"
           }
          ],
          "histogram": [
           {
            "marker": {
             "pattern": {
              "fillmode": "overlay",
              "size": 10,
              "solidity": 0.2
             }
            },
            "type": "histogram"
           }
          ],
          "histogram2d": [
           {
            "colorbar": {
             "outlinewidth": 0,
             "ticks": ""
            },
            "colorscale": [
             [
              0,
              "#0d0887"
             ],
             [
              0.1111111111111111,
              "#46039f"
             ],
             [
              0.2222222222222222,
              "#7201a8"
             ],
             [
              0.3333333333333333,
              "#9c179e"
             ],
             [
              0.4444444444444444,
              "#bd3786"
             ],
             [
              0.5555555555555556,
              "#d8576b"
             ],
             [
              0.6666666666666666,
              "#ed7953"
             ],
             [
              0.7777777777777778,
              "#fb9f3a"
             ],
             [
              0.8888888888888888,
              "#fdca26"
             ],
             [
              1,
              "#f0f921"
             ]
            ],
            "type": "histogram2d"
           }
          ],
          "histogram2dcontour": [
           {
            "colorbar": {
             "outlinewidth": 0,
             "ticks": ""
            },
            "colorscale": [
             [
              0,
              "#0d0887"
             ],
             [
              0.1111111111111111,
              "#46039f"
             ],
             [
              0.2222222222222222,
              "#7201a8"
             ],
             [
              0.3333333333333333,
              "#9c179e"
             ],
             [
              0.4444444444444444,
              "#bd3786"
             ],
             [
              0.5555555555555556,
              "#d8576b"
             ],
             [
              0.6666666666666666,
              "#ed7953"
             ],
             [
              0.7777777777777778,
              "#fb9f3a"
             ],
             [
              0.8888888888888888,
              "#fdca26"
             ],
             [
              1,
              "#f0f921"
             ]
            ],
            "type": "histogram2dcontour"
           }
          ],
          "mesh3d": [
           {
            "colorbar": {
             "outlinewidth": 0,
             "ticks": ""
            },
            "type": "mesh3d"
           }
          ],
          "parcoords": [
           {
            "line": {
             "colorbar": {
              "outlinewidth": 0,
              "ticks": ""
             }
            },
            "type": "parcoords"
           }
          ],
          "pie": [
           {
            "automargin": true,
            "type": "pie"
           }
          ],
          "scatter": [
           {
            "fillpattern": {
             "fillmode": "overlay",
             "size": 10,
             "solidity": 0.2
            },
            "type": "scatter"
           }
          ],
          "scatter3d": [
           {
            "line": {
             "colorbar": {
              "outlinewidth": 0,
              "ticks": ""
             }
            },
            "marker": {
             "colorbar": {
              "outlinewidth": 0,
              "ticks": ""
             }
            },
            "type": "scatter3d"
           }
          ],
          "scattercarpet": [
           {
            "marker": {
             "colorbar": {
              "outlinewidth": 0,
              "ticks": ""
             }
            },
            "type": "scattercarpet"
           }
          ],
          "scattergeo": [
           {
            "marker": {
             "colorbar": {
              "outlinewidth": 0,
              "ticks": ""
             }
            },
            "type": "scattergeo"
           }
          ],
          "scattergl": [
           {
            "marker": {
             "colorbar": {
              "outlinewidth": 0,
              "ticks": ""
             }
            },
            "type": "scattergl"
           }
          ],
          "scattermap": [
           {
            "marker": {
             "colorbar": {
              "outlinewidth": 0,
              "ticks": ""
             }
            },
            "type": "scattermap"
           }
          ],
          "scattermapbox": [
           {
            "marker": {
             "colorbar": {
              "outlinewidth": 0,
              "ticks": ""
             }
            },
            "type": "scattermapbox"
           }
          ],
          "scatterpolar": [
           {
            "marker": {
             "colorbar": {
              "outlinewidth": 0,
              "ticks": ""
             }
            },
            "type": "scatterpolar"
           }
          ],
          "scatterpolargl": [
           {
            "marker": {
             "colorbar": {
              "outlinewidth": 0,
              "ticks": ""
             }
            },
            "type": "scatterpolargl"
           }
          ],
          "scatterternary": [
           {
            "marker": {
             "colorbar": {
              "outlinewidth": 0,
              "ticks": ""
             }
            },
            "type": "scatterternary"
           }
          ],
          "surface": [
           {
            "colorbar": {
             "outlinewidth": 0,
             "ticks": ""
            },
            "colorscale": [
             [
              0,
              "#0d0887"
             ],
             [
              0.1111111111111111,
              "#46039f"
             ],
             [
              0.2222222222222222,
              "#7201a8"
             ],
             [
              0.3333333333333333,
              "#9c179e"
             ],
             [
              0.4444444444444444,
              "#bd3786"
             ],
             [
              0.5555555555555556,
              "#d8576b"
             ],
             [
              0.6666666666666666,
              "#ed7953"
             ],
             [
              0.7777777777777778,
              "#fb9f3a"
             ],
             [
              0.8888888888888888,
              "#fdca26"
             ],
             [
              1,
              "#f0f921"
             ]
            ],
            "type": "surface"
           }
          ],
          "table": [
           {
            "cells": {
             "fill": {
              "color": "#EBF0F8"
             },
             "line": {
              "color": "white"
             }
            },
            "header": {
             "fill": {
              "color": "#C8D4E3"
             },
             "line": {
              "color": "white"
             }
            },
            "type": "table"
           }
          ]
         },
         "layout": {
          "annotationdefaults": {
           "arrowcolor": "#2a3f5f",
           "arrowhead": 0,
           "arrowwidth": 1
          },
          "autotypenumbers": "strict",
          "coloraxis": {
           "colorbar": {
            "outlinewidth": 0,
            "ticks": ""
           }
          },
          "colorscale": {
           "diverging": [
            [
             0,
             "#8e0152"
            ],
            [
             0.1,
             "#c51b7d"
            ],
            [
             0.2,
             "#de77ae"
            ],
            [
             0.3,
             "#f1b6da"
            ],
            [
             0.4,
             "#fde0ef"
            ],
            [
             0.5,
             "#f7f7f7"
            ],
            [
             0.6,
             "#e6f5d0"
            ],
            [
             0.7,
             "#b8e186"
            ],
            [
             0.8,
             "#7fbc41"
            ],
            [
             0.9,
             "#4d9221"
            ],
            [
             1,
             "#276419"
            ]
           ],
           "sequential": [
            [
             0,
             "#0d0887"
            ],
            [
             0.1111111111111111,
             "#46039f"
            ],
            [
             0.2222222222222222,
             "#7201a8"
            ],
            [
             0.3333333333333333,
             "#9c179e"
            ],
            [
             0.4444444444444444,
             "#bd3786"
            ],
            [
             0.5555555555555556,
             "#d8576b"
            ],
            [
             0.6666666666666666,
             "#ed7953"
            ],
            [
             0.7777777777777778,
             "#fb9f3a"
            ],
            [
             0.8888888888888888,
             "#fdca26"
            ],
            [
             1,
             "#f0f921"
            ]
           ],
           "sequentialminus": [
            [
             0,
             "#0d0887"
            ],
            [
             0.1111111111111111,
             "#46039f"
            ],
            [
             0.2222222222222222,
             "#7201a8"
            ],
            [
             0.3333333333333333,
             "#9c179e"
            ],
            [
             0.4444444444444444,
             "#bd3786"
            ],
            [
             0.5555555555555556,
             "#d8576b"
            ],
            [
             0.6666666666666666,
             "#ed7953"
            ],
            [
             0.7777777777777778,
             "#fb9f3a"
            ],
            [
             0.8888888888888888,
             "#fdca26"
            ],
            [
             1,
             "#f0f921"
            ]
           ]
          },
          "colorway": [
           "#636efa",
           "#EF553B",
           "#00cc96",
           "#ab63fa",
           "#FFA15A",
           "#19d3f3",
           "#FF6692",
           "#B6E880",
           "#FF97FF",
           "#FECB52"
          ],
          "font": {
           "color": "#2a3f5f"
          },
          "geo": {
           "bgcolor": "white",
           "lakecolor": "white",
           "landcolor": "#E5ECF6",
           "showlakes": true,
           "showland": true,
           "subunitcolor": "white"
          },
          "hoverlabel": {
           "align": "left"
          },
          "hovermode": "closest",
          "mapbox": {
           "style": "light"
          },
          "paper_bgcolor": "white",
          "plot_bgcolor": "#E5ECF6",
          "polar": {
           "angularaxis": {
            "gridcolor": "white",
            "linecolor": "white",
            "ticks": ""
           },
           "bgcolor": "#E5ECF6",
           "radialaxis": {
            "gridcolor": "white",
            "linecolor": "white",
            "ticks": ""
           }
          },
          "scene": {
           "xaxis": {
            "backgroundcolor": "#E5ECF6",
            "gridcolor": "white",
            "gridwidth": 2,
            "linecolor": "white",
            "showbackground": true,
            "ticks": "",
            "zerolinecolor": "white"
           },
           "yaxis": {
            "backgroundcolor": "#E5ECF6",
            "gridcolor": "white",
            "gridwidth": 2,
            "linecolor": "white",
            "showbackground": true,
            "ticks": "",
            "zerolinecolor": "white"
           },
           "zaxis": {
            "backgroundcolor": "#E5ECF6",
            "gridcolor": "white",
            "gridwidth": 2,
            "linecolor": "white",
            "showbackground": true,
            "ticks": "",
            "zerolinecolor": "white"
           }
          },
          "shapedefaults": {
           "line": {
            "color": "#2a3f5f"
           }
          },
          "ternary": {
           "aaxis": {
            "gridcolor": "white",
            "linecolor": "white",
            "ticks": ""
           },
           "baxis": {
            "gridcolor": "white",
            "linecolor": "white",
            "ticks": ""
           },
           "bgcolor": "#E5ECF6",
           "caxis": {
            "gridcolor": "white",
            "linecolor": "white",
            "ticks": ""
           }
          },
          "title": {
           "x": 0.05
          },
          "xaxis": {
           "automargin": true,
           "gridcolor": "white",
           "linecolor": "white",
           "ticks": "",
           "title": {
            "standoff": 15
           },
           "zerolinecolor": "white",
           "zerolinewidth": 2
          },
          "yaxis": {
           "automargin": true,
           "gridcolor": "white",
           "linecolor": "white",
           "ticks": "",
           "title": {
            "standoff": 15
           },
           "zerolinecolor": "white",
           "zerolinewidth": 2
          }
         }
        },
        "title": {
         "text": "Execution Time: kNN Search"
        },
        "xaxis": {
         "anchor": "y",
         "domain": [
          0,
          1
         ],
         "title": {
          "text": "Number of Query Points"
         },
         "type": "log"
        },
        "yaxis": {
         "anchor": "x",
         "domain": [
          0,
          1
         ],
         "title": {
          "text": "Execution Time (s)"
         },
         "type": "log"
        }
       }
      }
     },
     "metadata": {},
     "output_type": "display_data"
    }
   ],
   "source": [
    "px.line(\n",
    "    execution_times,\n",
    "    x=\"n_query_points\",\n",
    "    y=\"execution_time\",\n",
    "    title=\"Execution Time: kNN Search\",\n",
    "    labels={\"n_query_points\": \"Number of Query Points\", \"execution_time\": \"Execution Time (s)\"},\n",
    "    log_x=True,\n",
    "    log_y=True,\n",
    "    markers=True,\n",
    "    color=\"function\",\n",
    ")"
   ]
  },
  {
   "cell_type": "markdown",
   "id": "d7917aa2",
   "metadata": {},
   "source": [
    "This is basically what we are interested in:\n",
    "- Measure the run time of a specific function.\n",
    "- See how it scales with the size of the input.\n",
    "- Compare to other functions, in this case we measure the sub-function `euclidean_distances_numpy`. We would usually do this using a profiler, such as py-spy, but in this case we can use this simple and illustrative approach.\n",
    "- Later, we will compare to other implementations."
   ]
  },
  {
   "cell_type": "markdown",
   "id": "8bbef249",
   "metadata": {},
   "source": [
    "## JAX Numpy and JIT\n",
    "\n",
    "[JAX Quickstart](https://docs.jax.dev/en/latest/quickstart.html):\n",
    "> JAX is a library for array-oriented numerical computation (à la NumPy), with automatic differentiation and JIT compilation to enable high-performance machine learning research.\n",
    "\n",
    "\n",
    "\n",
    "JAX provides a NumPy-compatible API (`jax.numpy`, often imported as `jnp`) that allows users to write array-based scientific code using familiar NumPy syntax. Unlike standard NumPy, JAX operations are designed to run efficiently on CPUs, GPUs, and TPUs, enabling hardware acceleration for numerical computations.\n",
    "\n",
    "A key feature of JAX is its Just-In-Time (JIT) compilation, accessed via the `jax.jit` decorator or function. JIT compilation automatically transforms Python functions into highly optimised machine code, fusing operations and reducing Python overhead. This results in substantial performance improvements, especially for large-scale or repeated computations.\n",
    "\n",
    "By combining the JAX NumPy API with JIT compilation, we can write clear, concise scientific code that is automatically optimised for modern hardware.\n",
    "\n",
    "\n",
    "### Practical example\n",
    "\n",
    "Let's demonstrate this with a simple example form the JAX documentation:"
   ]
  },
  {
   "cell_type": "code",
   "execution_count": 110,
   "id": "1a01f9f9",
   "metadata": {},
   "outputs": [
    {
     "name": "stdout",
     "output_type": "stream",
     "text": [
      "[0.        1.05      2.1       3.1499999 4.2      ]\n"
     ]
    }
   ],
   "source": [
    "import jax\n",
    "import jax.numpy as jnp\n",
    "\n",
    "def selu(x: jnp.ndarray, alpha: float = 1.67, lmbda: float = 1.05) -> jnp.ndarray:\n",
    "    return lmbda * jnp.where(x > 0, x, alpha * jnp.exp(x) - alpha)\n",
    "\n",
    "\n",
    "x = jnp.arange(5.0)\n",
    "print(selu(x))"
   ]
  },
  {
   "cell_type": "markdown",
   "id": "a2b054db",
   "metadata": {},
   "source": [
    "Note also we use `jnp.array` instead of `np.array` in the JAX version. Here, we created from scratch as a JAX array. Often, we would convert from a NumPy array.\n",
    "\n",
    "Conversion from NumPy to JAX arrays is efficient if the NumPy array is on the default device (CPU) and has a compatible dtype and memory layout—JAX will use zero-copy conversion in this case, simply wrapping the existing memory. However, if the array is not compatible (e.g., wrong dtype, not C-contiguous, or on a different device), JAX will make a copy. Thus, zero-copy is possible but not guaranteed; ensure arrays are C-contiguous and of supported dtype for best efficiency.\n",
    "\n",
    "\n",
    "\n",
    "\n",
    "\n",
    "\n",
    "\n",
    "\n",
    "\n"
   ]
  },
  {
   "cell_type": "code",
   "execution_count": 111,
   "id": "7e19f55f",
   "metadata": {},
   "outputs": [
    {
     "name": "stdout",
     "output_type": "stream",
     "text": [
      "1.38 ms ± 34.2 μs per loop (mean ± std. dev. of 7 runs, 1,000 loops each)\n"
     ]
    }
   ],
   "source": [
    "key = jax.random.key(1701)\n",
    "x = jax.random.normal(key, (1_000_000,))\n",
    "\n",
    "%timeit selu(x)"
   ]
  },
  {
   "cell_type": "code",
   "execution_count": 113,
   "id": "4701b92a",
   "metadata": {},
   "outputs": [
    {
     "name": "stdout",
     "output_type": "stream",
     "text": [
      "[-0.83556366  0.33142313 -0.9244633 ]\n"
     ]
    }
   ],
   "source": [
    "selu_jit = jax.jit(selu)\n",
    "\n",
    "print(selu_jit(x)[:3])"
   ]
  },
  {
   "cell_type": "markdown",
   "id": "b4a569bd",
   "metadata": {},
   "source": [
    "Two important things happened above:\n",
    "\n",
    "1. We instructed to Just-In-Time (JIT) compile the function when we call it.\n",
    "2. The function *was* compiled in the `print` call. It was compiled for the *concrete input type and shape*.\n",
    "\n",
    "\n",
    "\n",
    "\n",
    "\n"
   ]
  },
  {
   "cell_type": "code",
   "execution_count": 116,
   "id": "9d6c4790",
   "metadata": {},
   "outputs": [
    {
     "name": "stdout",
     "output_type": "stream",
     "text": [
      "411 μs ± 32.3 μs per loop (mean ± std. dev. of 7 runs, 1,000 loops each)\n"
     ]
    }
   ],
   "source": [
    "%timeit selu_jit(x).block_until_ready()"
   ]
  },
  {
   "cell_type": "markdown",
   "id": "2abab23d",
   "metadata": {},
   "source": [
    "The compiled function is significantly faster than the uncompiled one!\n",
    "\n",
    "Note the use of `block_until_ready`. *JAX is asynchronous by default*, and return something like futures. For timing the whole calculation, we need to wait for the result to be ready."
   ]
  },
  {
   "cell_type": "markdown",
   "id": "983c7d45",
   "metadata": {},
   "source": [
    "We can also empirically verify that the compilation must be done again for a different input shape, leading to an increase in the execution time."
   ]
  },
  {
   "cell_type": "code",
   "execution_count": 120,
   "id": "b3e79fd8",
   "metadata": {},
   "outputs": [
    {
     "name": "stdout",
     "output_type": "stream",
     "text": [
      "83.2 ms ± 0 ns per loop (mean ± std. dev. of 1 run, 1 loop each)\n"
     ]
    }
   ],
   "source": [
    "%timeit -n 1 -r 1 selu_jit(x[:-1]).block_until_ready()"
   ]
  },
  {
   "cell_type": "markdown",
   "id": "b7692fc3",
   "metadata": {},
   "source": [
    "### Exercise: JIT compiling Euclidean distance\n",
    "\n",
    "1. Create a `jax.numpy` version of the Euclidean distance function `euclidean_distances_numpy`.\n",
    "2. Create a JIT-compiled version of the new function.\n",
    "3. Compare the performance of the numpy version, and the uncompiled and compiled jax version.\n",
    "4. Check that the JAX version yields the same result as the numpy version.\n",
    "\n",
    "Optionally:\n",
    "\n",
    "5. Compare the scaling of the performance of all the versions with respect to the number of query points or the number of dimensions."
   ]
  },
  {
   "cell_type": "code",
   "execution_count": 126,
   "id": "d0fb6d67",
   "metadata": {},
   "outputs": [],
   "source": [
    "# %%writefile euclidean_distances_no_jit.py\n",
    "\n",
    "import jax\n",
    "import jax.numpy as jnp\n",
    "\n",
    "\n",
    "def euclidean_distances_jax(\n",
    "    query_points: jnp.ndarray, dataset: jnp.ndarray\n",
    ") -> jnp.ndarray:\n",
    "    \"\"\"\n",
    "    Calculates the Euclidean distance between a set of query points and a dataset of points.\n",
    "\n",
    "    Args:\n",
    "        query_points (jnp.ndarray): Array of shape (n_queries, n_features).\n",
    "        dataset (jnp.ndarray): Array of shape (n_samples, n_features).\n",
    "\n",
    "    Returns:\n",
    "        jnp.ndarray: The Euclidean distance between the query points and the dataset.\n",
    "    \"\"\"\n",
    "    # Broadcasting (dataset - query_point) subtracts query_point from each row of dataset\n",
    "    return jnp.sqrt(jnp.sum((dataset[:, jnp.newaxis, :] - query_points) ** 2, axis=-1))\n",
    "\n",
    "\n",
    "euclidean_distances_jax_jit = jax.jit(euclidean_distances_jax)"
   ]
  },
  {
   "cell_type": "code",
   "execution_count": 129,
   "id": "f0821e3a",
   "metadata": {},
   "outputs": [],
   "source": [
    "n_dataset_points: int = 10_000\n",
    "n_query_points: int = 100\n",
    "n_dim: int = 3\n",
    "k: int = 5\n",
    "\n",
    "\n",
    "dataset = create_random_data(n_dataset_points, n_dim, seed=420)\n",
    "query_points = create_random_data(n_query_points, n_dim, seed=421)\n",
    "\n",
    "dataset_jax = jnp.array(dataset)\n",
    "query_points_jax = jnp.array(query_points)\n",
    "\n",
    "np.testing.assert_allclose(euclidean_distances_numpy(query_points, dataset), euclidean_distances_jax(query_points_jax, dataset_jax))\n",
    "np.testing.assert_allclose(euclidean_distances_numpy(query_points, dataset), euclidean_distances_jax_jit(query_points_jax, dataset_jax), rtol=1e-6)"
   ]
  },
  {
   "cell_type": "code",
   "execution_count": 131,
   "id": "c35b7a6a",
   "metadata": {},
   "outputs": [
    {
     "name": "stdout",
     "output_type": "stream",
     "text": [
      "20.3 ms ± 192 μs per loop (mean ± std. dev. of 7 runs, 10 loops each)\n",
      "1.73 ms ± 6.72 μs per loop (mean ± std. dev. of 7 runs, 1,000 loops each)\n",
      "247 μs ± 2.11 μs per loop (mean ± std. dev. of 7 runs, 1,000 loops each)\n"
     ]
    }
   ],
   "source": [
    "%timeit euclidean_distances_numpy(query_points, dataset)\n",
    "%timeit euclidean_distances_jax(query_points_jax, dataset_jax).block_until_ready()\n",
    "%timeit euclidean_distances_jax_jit(query_points_jax, dataset_jax).block_until_ready()"
   ]
  },
  {
   "cell_type": "code",
   "execution_count": 160,
   "id": "1a68b689",
   "metadata": {},
   "outputs": [
    {
     "name": "stdout",
     "output_type": "stream",
     "text": [
      "166 μs ± 14.8 μs per loop (mean ± std. dev. of 7 runs, 1,000 loops each)\n",
      "14.3 ms ± 109 μs per loop (mean ± std. dev. of 7 runs, 100 loops each)\n",
      "134 ms ± 231 μs per loop (mean ± std. dev. of 7 runs, 10 loops each)\n",
      "1.39 s ± 15.1 ms per loop (mean ± std. dev. of 7 runs, 1 loop each)\n",
      "140 μs ± 3.58 μs per loop (mean ± std. dev. of 7 runs, 10,000 loops each)\n",
      "17.4 ms ± 238 μs per loop (mean ± std. dev. of 7 runs, 100 loops each)\n",
      "169 ms ± 2.26 ms per loop (mean ± std. dev. of 7 runs, 10 loops each)\n",
      "1.74 s ± 25.1 ms per loop (mean ± std. dev. of 7 runs, 1 loop each)\n",
      "79.6 μs ± 300 ns per loop (mean ± std. dev. of 7 runs, 10,000 loops each)\n",
      "7.72 ms ± 73.9 μs per loop (mean ± std. dev. of 7 runs, 100 loops each)\n",
      "75.5 ms ± 2.43 ms per loop (mean ± std. dev. of 7 runs, 10 loops each)\n",
      "782 ms ± 19.7 ms per loop (mean ± std. dev. of 7 runs, 1 loop each)\n",
      "96.7 μs ± 1.73 μs per loop (mean ± std. dev. of 7 runs, 10,000 loops each)\n",
      "11.1 ms ± 36.2 μs per loop (mean ± std. dev. of 7 runs, 100 loops each)\n",
      "107 ms ± 1.42 ms per loop (mean ± std. dev. of 7 runs, 10 loops each)\n",
      "1.17 s ± 34.4 ms per loop (mean ± std. dev. of 7 runs, 1 loop each)\n",
      "15.4 μs ± 923 ns per loop (mean ± std. dev. of 7 runs, 100,000 loops each)\n",
      "245 μs ± 5.05 μs per loop (mean ± std. dev. of 7 runs, 1,000 loops each)\n",
      "1.71 ms ± 38.9 μs per loop (mean ± std. dev. of 7 runs, 1,000 loops each)\n",
      "17.8 ms ± 830 μs per loop (mean ± std. dev. of 7 runs, 100 loops each)\n",
      "16.2 μs ± 616 ns per loop (mean ± std. dev. of 7 runs, 100,000 loops each)\n",
      "274 μs ± 5.59 μs per loop (mean ± std. dev. of 7 runs, 1,000 loops each)\n",
      "2.07 ms ± 59.9 μs per loop (mean ± std. dev. of 7 runs, 1,000 loops each)\n",
      "20.6 ms ± 637 μs per loop (mean ± std. dev. of 7 runs, 10 loops each)\n"
     ]
    }
   ],
   "source": [
    "euclidean_execution_times = []\n",
    "euclidean_distances_jax_jit.__name__ = \"euclidean_distances_jax_jit\"\n",
    "\n",
    "for function in [euclidean_distances_numpy, euclidean_distances_jax, euclidean_distances_jax_jit]:\n",
    "    for n_dim in [2, 4]:\n",
    "        dataset = create_random_data(n_dataset_points, n_dim)\n",
    "        for n_query_points in [1, 100, 1_000, 10_000]:\n",
    "            query_points = create_random_data(n_query_points, n_dim)\n",
    "            if \"numpy\" in function.__name__:\n",
    "                execution_time = %timeit -o function(query_points, dataset)\n",
    "            else:\n",
    "                function(query_points, dataset).block_until_ready()\n",
    "                execution_time = %timeit -o function(query_points, dataset).block_until_ready()\n",
    "            euclidean_execution_times.append(\n",
    "                {\n",
    "                    \"n_query_points\": n_query_points,\n",
    "                    \"n_dataset_points\": n_dataset_points,\n",
    "                    \"n_dim\": n_dim,\n",
    "                    \"execution_time\": execution_time.average,\n",
    "                    \"function\": function.__name__,\n",
    "                }\n",
    "            )\n"
   ]
  },
  {
   "cell_type": "code",
   "execution_count": 162,
   "id": "8ac0fcb7",
   "metadata": {},
   "outputs": [
    {
     "data": {
      "application/vnd.plotly.v1+json": {
       "config": {
        "plotlyServerURL": "https://plot.ly"
       },
       "data": [
        {
         "hovertemplate": "function=euclidean_distances_numpy<br>n_dim=2<br>Number of Query Points=%{x}<br>Execution Time (s)=%{y}<extra></extra>",
         "legendgroup": "euclidean_distances_numpy",
         "line": {
          "color": "#636efa",
          "dash": "solid"
         },
         "marker": {
          "symbol": "circle"
         },
         "mode": "lines+markers",
         "name": "euclidean_distances_numpy",
         "orientation": "v",
         "showlegend": true,
         "type": "scatter",
         "x": {
          "bdata": "AQBkAOgDECc=",
          "dtype": "i2"
         },
         "xaxis": "x2",
         "y": {
          "bdata": "VRpyriu2JT9L9HfCS0CNPx3UATbhNME/SZJ0lccy9j8=",
          "dtype": "f8"
         },
         "yaxis": "y2"
        },
        {
         "hovertemplate": "function=euclidean_distances_numpy<br>n_dim=4<br>Number of Query Points=%{x}<br>Execution Time (s)=%{y}<extra></extra>",
         "legendgroup": "euclidean_distances_numpy",
         "line": {
          "color": "#636efa",
          "dash": "solid"
         },
         "marker": {
          "symbol": "circle"
         },
         "mode": "lines+markers",
         "name": "euclidean_distances_numpy",
         "orientation": "v",
         "showlegend": false,
         "type": "scatter",
         "x": {
          "bdata": "AQBkAOgDECc=",
          "dtype": "i2"
         },
         "xaxis": "x",
         "y": {
          "bdata": "nu+nhmJdIj815NyiosmRP+IrPo76nMU/bts2W9nW+z8=",
          "dtype": "f8"
         },
         "yaxis": "y"
        },
        {
         "hovertemplate": "function=euclidean_distances_jax<br>n_dim=2<br>Number of Query Points=%{x}<br>Execution Time (s)=%{y}<extra></extra>",
         "legendgroup": "euclidean_distances_jax",
         "line": {
          "color": "#EF553B",
          "dash": "solid"
         },
         "marker": {
          "symbol": "circle"
         },
         "mode": "lines+markers",
         "name": "euclidean_distances_jax",
         "orientation": "v",
         "showlegend": true,
         "type": "scatter",
         "x": {
          "bdata": "AQBkAOgDECc=",
          "dtype": "i2"
         },
         "xaxis": "x2",
         "y": {
          "bdata": "918oYuzcFD93AbG9HKN/P77iKz6RUbM/27YN0QEI6T8=",
          "dtype": "f8"
         },
         "yaxis": "y2"
        },
        {
         "hovertemplate": "function=euclidean_distances_jax<br>n_dim=4<br>Number of Query Points=%{x}<br>Execution Time (s)=%{y}<extra></extra>",
         "legendgroup": "euclidean_distances_jax",
         "line": {
          "color": "#EF553B",
          "dash": "solid"
         },
         "marker": {
          "symbol": "circle"
         },
         "mode": "lines+markers",
         "name": "euclidean_distances_jax",
         "orientation": "v",
         "showlegend": false,
         "type": "scatter",
         "x": {
          "bdata": "AQBkAOgDECc=",
          "dtype": "i2"
         },
         "xaxis": "x",
         "y": {
          "bdata": "12Bf7iBbGT9FfyffY9CGP3VQB92/Rrs/SZIEE+O28j8=",
          "dtype": "f8"
         },
         "yaxis": "y"
        },
        {
         "hovertemplate": "function=euclidean_distances_jax_jit<br>n_dim=2<br>Number of Query Points=%{x}<br>Execution Time (s)=%{y}<extra></extra>",
         "legendgroup": "euclidean_distances_jax_jit",
         "line": {
          "color": "#00cc96",
          "dash": "solid"
         },
         "marker": {
          "symbol": "circle"
         },
         "mode": "lines+markers",
         "name": "euclidean_distances_jax_jit",
         "orientation": "v",
         "showlegend": true,
         "type": "scatter",
         "x": {
          "bdata": "AQBkAOgDECc=",
          "dtype": "i2"
         },
         "xaxis": "x2",
         "y": {
          "bdata": "AfS6wzMz8D6PwvWoSw0wP2X4zai7/ls/b4xgJG1Bkj8=",
          "dtype": "f8"
         },
         "yaxis": "y2"
        },
        {
         "hovertemplate": "function=euclidean_distances_jax_jit<br>n_dim=4<br>Number of Query Points=%{x}<br>Execution Time (s)=%{y}<extra></extra>",
         "legendgroup": "euclidean_distances_jax_jit",
         "line": {
          "color": "#00cc96",
          "dash": "solid"
         },
         "marker": {
          "symbol": "circle"
         },
         "mode": "lines+markers",
         "name": "euclidean_distances_jax_jit",
         "orientation": "v",
         "showlegend": false,
         "type": "scatter",
         "x": {
          "bdata": "AQBkAOgDECc=",
          "dtype": "i2"
         },
         "xaxis": "x",
         "y": {
          "bdata": "Hb6JYukH8T6n0pCzVvoxP/U0oVvi9mA/zczM8pcjlT8=",
          "dtype": "f8"
         },
         "yaxis": "y"
        }
       ],
       "layout": {
        "annotations": [
         {
          "font": {},
          "showarrow": false,
          "text": "n_dim=4",
          "textangle": 90,
          "x": 0.98,
          "xanchor": "left",
          "xref": "paper",
          "y": 0.2425,
          "yanchor": "middle",
          "yref": "paper"
         },
         {
          "font": {},
          "showarrow": false,
          "text": "n_dim=2",
          "textangle": 90,
          "x": 0.98,
          "xanchor": "left",
          "xref": "paper",
          "y": 0.7575000000000001,
          "yanchor": "middle",
          "yref": "paper"
         }
        ],
        "legend": {
         "title": {
          "text": "function"
         },
         "tracegroupgap": 0
        },
        "template": {
         "data": {
          "bar": [
           {
            "error_x": {
             "color": "#2a3f5f"
            },
            "error_y": {
             "color": "#2a3f5f"
            },
            "marker": {
             "line": {
              "color": "#E5ECF6",
              "width": 0.5
             },
             "pattern": {
              "fillmode": "overlay",
              "size": 10,
              "solidity": 0.2
             }
            },
            "type": "bar"
           }
          ],
          "barpolar": [
           {
            "marker": {
             "line": {
              "color": "#E5ECF6",
              "width": 0.5
             },
             "pattern": {
              "fillmode": "overlay",
              "size": 10,
              "solidity": 0.2
             }
            },
            "type": "barpolar"
           }
          ],
          "carpet": [
           {
            "aaxis": {
             "endlinecolor": "#2a3f5f",
             "gridcolor": "white",
             "linecolor": "white",
             "minorgridcolor": "white",
             "startlinecolor": "#2a3f5f"
            },
            "baxis": {
             "endlinecolor": "#2a3f5f",
             "gridcolor": "white",
             "linecolor": "white",
             "minorgridcolor": "white",
             "startlinecolor": "#2a3f5f"
            },
            "type": "carpet"
           }
          ],
          "choropleth": [
           {
            "colorbar": {
             "outlinewidth": 0,
             "ticks": ""
            },
            "type": "choropleth"
           }
          ],
          "contour": [
           {
            "colorbar": {
             "outlinewidth": 0,
             "ticks": ""
            },
            "colorscale": [
             [
              0,
              "#0d0887"
             ],
             [
              0.1111111111111111,
              "#46039f"
             ],
             [
              0.2222222222222222,
              "#7201a8"
             ],
             [
              0.3333333333333333,
              "#9c179e"
             ],
             [
              0.4444444444444444,
              "#bd3786"
             ],
             [
              0.5555555555555556,
              "#d8576b"
             ],
             [
              0.6666666666666666,
              "#ed7953"
             ],
             [
              0.7777777777777778,
              "#fb9f3a"
             ],
             [
              0.8888888888888888,
              "#fdca26"
             ],
             [
              1,
              "#f0f921"
             ]
            ],
            "type": "contour"
           }
          ],
          "contourcarpet": [
           {
            "colorbar": {
             "outlinewidth": 0,
             "ticks": ""
            },
            "type": "contourcarpet"
           }
          ],
          "heatmap": [
           {
            "colorbar": {
             "outlinewidth": 0,
             "ticks": ""
            },
            "colorscale": [
             [
              0,
              "#0d0887"
             ],
             [
              0.1111111111111111,
              "#46039f"
             ],
             [
              0.2222222222222222,
              "#7201a8"
             ],
             [
              0.3333333333333333,
              "#9c179e"
             ],
             [
              0.4444444444444444,
              "#bd3786"
             ],
             [
              0.5555555555555556,
              "#d8576b"
             ],
             [
              0.6666666666666666,
              "#ed7953"
             ],
             [
              0.7777777777777778,
              "#fb9f3a"
             ],
             [
              0.8888888888888888,
              "#fdca26"
             ],
             [
              1,
              "#f0f921"
             ]
            ],
            "type": "heatmap"
           }
          ],
          "histogram": [
           {
            "marker": {
             "pattern": {
              "fillmode": "overlay",
              "size": 10,
              "solidity": 0.2
             }
            },
            "type": "histogram"
           }
          ],
          "histogram2d": [
           {
            "colorbar": {
             "outlinewidth": 0,
             "ticks": ""
            },
            "colorscale": [
             [
              0,
              "#0d0887"
             ],
             [
              0.1111111111111111,
              "#46039f"
             ],
             [
              0.2222222222222222,
              "#7201a8"
             ],
             [
              0.3333333333333333,
              "#9c179e"
             ],
             [
              0.4444444444444444,
              "#bd3786"
             ],
             [
              0.5555555555555556,
              "#d8576b"
             ],
             [
              0.6666666666666666,
              "#ed7953"
             ],
             [
              0.7777777777777778,
              "#fb9f3a"
             ],
             [
              0.8888888888888888,
              "#fdca26"
             ],
             [
              1,
              "#f0f921"
             ]
            ],
            "type": "histogram2d"
           }
          ],
          "histogram2dcontour": [
           {
            "colorbar": {
             "outlinewidth": 0,
             "ticks": ""
            },
            "colorscale": [
             [
              0,
              "#0d0887"
             ],
             [
              0.1111111111111111,
              "#46039f"
             ],
             [
              0.2222222222222222,
              "#7201a8"
             ],
             [
              0.3333333333333333,
              "#9c179e"
             ],
             [
              0.4444444444444444,
              "#bd3786"
             ],
             [
              0.5555555555555556,
              "#d8576b"
             ],
             [
              0.6666666666666666,
              "#ed7953"
             ],
             [
              0.7777777777777778,
              "#fb9f3a"
             ],
             [
              0.8888888888888888,
              "#fdca26"
             ],
             [
              1,
              "#f0f921"
             ]
            ],
            "type": "histogram2dcontour"
           }
          ],
          "mesh3d": [
           {
            "colorbar": {
             "outlinewidth": 0,
             "ticks": ""
            },
            "type": "mesh3d"
           }
          ],
          "parcoords": [
           {
            "line": {
             "colorbar": {
              "outlinewidth": 0,
              "ticks": ""
             }
            },
            "type": "parcoords"
           }
          ],
          "pie": [
           {
            "automargin": true,
            "type": "pie"
           }
          ],
          "scatter": [
           {
            "fillpattern": {
             "fillmode": "overlay",
             "size": 10,
             "solidity": 0.2
            },
            "type": "scatter"
           }
          ],
          "scatter3d": [
           {
            "line": {
             "colorbar": {
              "outlinewidth": 0,
              "ticks": ""
             }
            },
            "marker": {
             "colorbar": {
              "outlinewidth": 0,
              "ticks": ""
             }
            },
            "type": "scatter3d"
           }
          ],
          "scattercarpet": [
           {
            "marker": {
             "colorbar": {
              "outlinewidth": 0,
              "ticks": ""
             }
            },
            "type": "scattercarpet"
           }
          ],
          "scattergeo": [
           {
            "marker": {
             "colorbar": {
              "outlinewidth": 0,
              "ticks": ""
             }
            },
            "type": "scattergeo"
           }
          ],
          "scattergl": [
           {
            "marker": {
             "colorbar": {
              "outlinewidth": 0,
              "ticks": ""
             }
            },
            "type": "scattergl"
           }
          ],
          "scattermap": [
           {
            "marker": {
             "colorbar": {
              "outlinewidth": 0,
              "ticks": ""
             }
            },
            "type": "scattermap"
           }
          ],
          "scattermapbox": [
           {
            "marker": {
             "colorbar": {
              "outlinewidth": 0,
              "ticks": ""
             }
            },
            "type": "scattermapbox"
           }
          ],
          "scatterpolar": [
           {
            "marker": {
             "colorbar": {
              "outlinewidth": 0,
              "ticks": ""
             }
            },
            "type": "scatterpolar"
           }
          ],
          "scatterpolargl": [
           {
            "marker": {
             "colorbar": {
              "outlinewidth": 0,
              "ticks": ""
             }
            },
            "type": "scatterpolargl"
           }
          ],
          "scatterternary": [
           {
            "marker": {
             "colorbar": {
              "outlinewidth": 0,
              "ticks": ""
             }
            },
            "type": "scatterternary"
           }
          ],
          "surface": [
           {
            "colorbar": {
             "outlinewidth": 0,
             "ticks": ""
            },
            "colorscale": [
             [
              0,
              "#0d0887"
             ],
             [
              0.1111111111111111,
              "#46039f"
             ],
             [
              0.2222222222222222,
              "#7201a8"
             ],
             [
              0.3333333333333333,
              "#9c179e"
             ],
             [
              0.4444444444444444,
              "#bd3786"
             ],
             [
              0.5555555555555556,
              "#d8576b"
             ],
             [
              0.6666666666666666,
              "#ed7953"
             ],
             [
              0.7777777777777778,
              "#fb9f3a"
             ],
             [
              0.8888888888888888,
              "#fdca26"
             ],
             [
              1,
              "#f0f921"
             ]
            ],
            "type": "surface"
           }
          ],
          "table": [
           {
            "cells": {
             "fill": {
              "color": "#EBF0F8"
             },
             "line": {
              "color": "white"
             }
            },
            "header": {
             "fill": {
              "color": "#C8D4E3"
             },
             "line": {
              "color": "white"
             }
            },
            "type": "table"
           }
          ]
         },
         "layout": {
          "annotationdefaults": {
           "arrowcolor": "#2a3f5f",
           "arrowhead": 0,
           "arrowwidth": 1
          },
          "autotypenumbers": "strict",
          "coloraxis": {
           "colorbar": {
            "outlinewidth": 0,
            "ticks": ""
           }
          },
          "colorscale": {
           "diverging": [
            [
             0,
             "#8e0152"
            ],
            [
             0.1,
             "#c51b7d"
            ],
            [
             0.2,
             "#de77ae"
            ],
            [
             0.3,
             "#f1b6da"
            ],
            [
             0.4,
             "#fde0ef"
            ],
            [
             0.5,
             "#f7f7f7"
            ],
            [
             0.6,
             "#e6f5d0"
            ],
            [
             0.7,
             "#b8e186"
            ],
            [
             0.8,
             "#7fbc41"
            ],
            [
             0.9,
             "#4d9221"
            ],
            [
             1,
             "#276419"
            ]
           ],
           "sequential": [
            [
             0,
             "#0d0887"
            ],
            [
             0.1111111111111111,
             "#46039f"
            ],
            [
             0.2222222222222222,
             "#7201a8"
            ],
            [
             0.3333333333333333,
             "#9c179e"
            ],
            [
             0.4444444444444444,
             "#bd3786"
            ],
            [
             0.5555555555555556,
             "#d8576b"
            ],
            [
             0.6666666666666666,
             "#ed7953"
            ],
            [
             0.7777777777777778,
             "#fb9f3a"
            ],
            [
             0.8888888888888888,
             "#fdca26"
            ],
            [
             1,
             "#f0f921"
            ]
           ],
           "sequentialminus": [
            [
             0,
             "#0d0887"
            ],
            [
             0.1111111111111111,
             "#46039f"
            ],
            [
             0.2222222222222222,
             "#7201a8"
            ],
            [
             0.3333333333333333,
             "#9c179e"
            ],
            [
             0.4444444444444444,
             "#bd3786"
            ],
            [
             0.5555555555555556,
             "#d8576b"
            ],
            [
             0.6666666666666666,
             "#ed7953"
            ],
            [
             0.7777777777777778,
             "#fb9f3a"
            ],
            [
             0.8888888888888888,
             "#fdca26"
            ],
            [
             1,
             "#f0f921"
            ]
           ]
          },
          "colorway": [
           "#636efa",
           "#EF553B",
           "#00cc96",
           "#ab63fa",
           "#FFA15A",
           "#19d3f3",
           "#FF6692",
           "#B6E880",
           "#FF97FF",
           "#FECB52"
          ],
          "font": {
           "color": "#2a3f5f"
          },
          "geo": {
           "bgcolor": "white",
           "lakecolor": "white",
           "landcolor": "#E5ECF6",
           "showlakes": true,
           "showland": true,
           "subunitcolor": "white"
          },
          "hoverlabel": {
           "align": "left"
          },
          "hovermode": "closest",
          "mapbox": {
           "style": "light"
          },
          "paper_bgcolor": "white",
          "plot_bgcolor": "#E5ECF6",
          "polar": {
           "angularaxis": {
            "gridcolor": "white",
            "linecolor": "white",
            "ticks": ""
           },
           "bgcolor": "#E5ECF6",
           "radialaxis": {
            "gridcolor": "white",
            "linecolor": "white",
            "ticks": ""
           }
          },
          "scene": {
           "xaxis": {
            "backgroundcolor": "#E5ECF6",
            "gridcolor": "white",
            "gridwidth": 2,
            "linecolor": "white",
            "showbackground": true,
            "ticks": "",
            "zerolinecolor": "white"
           },
           "yaxis": {
            "backgroundcolor": "#E5ECF6",
            "gridcolor": "white",
            "gridwidth": 2,
            "linecolor": "white",
            "showbackground": true,
            "ticks": "",
            "zerolinecolor": "white"
           },
           "zaxis": {
            "backgroundcolor": "#E5ECF6",
            "gridcolor": "white",
            "gridwidth": 2,
            "linecolor": "white",
            "showbackground": true,
            "ticks": "",
            "zerolinecolor": "white"
           }
          },
          "shapedefaults": {
           "line": {
            "color": "#2a3f5f"
           }
          },
          "ternary": {
           "aaxis": {
            "gridcolor": "white",
            "linecolor": "white",
            "ticks": ""
           },
           "baxis": {
            "gridcolor": "white",
            "linecolor": "white",
            "ticks": ""
           },
           "bgcolor": "#E5ECF6",
           "caxis": {
            "gridcolor": "white",
            "linecolor": "white",
            "ticks": ""
           }
          },
          "title": {
           "x": 0.05
          },
          "xaxis": {
           "automargin": true,
           "gridcolor": "white",
           "linecolor": "white",
           "ticks": "",
           "title": {
            "standoff": 15
           },
           "zerolinecolor": "white",
           "zerolinewidth": 2
          },
          "yaxis": {
           "automargin": true,
           "gridcolor": "white",
           "linecolor": "white",
           "ticks": "",
           "title": {
            "standoff": 15
           },
           "zerolinecolor": "white",
           "zerolinewidth": 2
          }
         }
        },
        "title": {
         "text": "Execution Time: kNN Search"
        },
        "xaxis": {
         "anchor": "y",
         "domain": [
          0,
          0.98
         ],
         "title": {
          "text": "Number of Query Points"
         },
         "type": "log"
        },
        "xaxis2": {
         "anchor": "y2",
         "domain": [
          0,
          0.98
         ],
         "matches": "x",
         "showticklabels": false,
         "type": "log"
        },
        "yaxis": {
         "anchor": "x",
         "domain": [
          0,
          0.485
         ],
         "title": {
          "text": "Execution Time (s)"
         },
         "type": "log"
        },
        "yaxis2": {
         "anchor": "x2",
         "domain": [
          0.515,
          1
         ],
         "matches": "y",
         "title": {
          "text": "Execution Time (s)"
         },
         "type": "log"
        }
       }
      }
     },
     "metadata": {},
     "output_type": "display_data"
    }
   ],
   "source": [
    "px.line(\n",
    "    euclidean_execution_times,\n",
    "    x=\"n_query_points\",\n",
    "    y=\"execution_time\",\n",
    "    title=\"Execution Time: kNN Search\",\n",
    "    labels={\"n_query_points\": \"Number of Query Points\", \"execution_time\": \"Execution Time (s)\"},\n",
    "    log_x=True,\n",
    "    log_y=True,\n",
    "    markers=True,\n",
    "    color=\"function\",\n",
    "    facet_row=\"n_dim\",\n",
    ")"
   ]
  },
  {
   "cell_type": "markdown",
   "id": "f67d5a5f",
   "metadata": {},
   "source": [
    "## Numba JIT compilation\n",
    "\n",
    "### What is Numba?\n",
    "\n",
    "[Numba documantaion](https://numba.pydata.org) says:\n",
    "> Numba is an open source JIT compiler that translates a subset of Python and NumPy code into fast machine code.\n",
    "\n",
    "Numba is a powerful just-in-time (JIT) compiler for Python that specialises in accelerating numerical and scientific computations. By compiling Python functions to optimised machine code at runtime, Numba can dramatically speed up array operations and mathematical algorithms, especially those using NumPy. For this workshop, Numba is particularly valuable because it enables high-performance execution of custom scientific code with minimal changes to standard Python syntax. This allows us to achieve near C-level speeds for k-Nearest Neighbours (kNN) and other data science tasks, all while maintaining the readability and flexibility of Python.\n"
   ]
  },
  {
   "cell_type": "markdown",
   "id": "05509c00",
   "metadata": {},
   "source": [
    "### Simple example"
   ]
  },
  {
   "cell_type": "code",
   "execution_count": 164,
   "id": "e02a026a",
   "metadata": {},
   "outputs": [
    {
     "name": "stdout",
     "output_type": "stream",
     "text": [
      "[[  9.  10.  11.  12.  13.  14.  15.  16.  17.  18.]\n",
      " [ 19.  20.  21.  22.  23.  24.  25.  26.  27.  28.]\n",
      " [ 29.  30.  31.  32.  33.  34.  35.  36.  37.  38.]\n",
      " [ 39.  40.  41.  42.  43.  44.  45.  46.  47.  48.]\n",
      " [ 49.  50.  51.  52.  53.  54.  55.  56.  57.  58.]\n",
      " [ 59.  60.  61.  62.  63.  64.  65.  66.  67.  68.]\n",
      " [ 69.  70.  71.  72.  73.  74.  75.  76.  77.  78.]\n",
      " [ 79.  80.  81.  82.  83.  84.  85.  86.  87.  88.]\n",
      " [ 89.  90.  91.  92.  93.  94.  95.  96.  97.  98.]\n",
      " [ 99. 100. 101. 102. 103. 104. 105. 106. 107. 108.]]\n"
     ]
    }
   ],
   "source": [
    "import numba\n",
    "\n",
    "x = np.arange(100).reshape(10, 10)\n",
    "\n",
    "def go_fast(a: np.ndarray) -> np.ndarray: # Function is compiled to machine code when called the first time\n",
    "    trace = 0.0\n",
    "    for i in range(a.shape[0]):   # Numba likes loops\n",
    "        trace += np.tanh(a[i, i]) # Numba likes NumPy functions\n",
    "    return a + trace              # Numba likes NumPy broadcasting\n",
    "\n",
    "go_fast_jit = numba.jit(go_fast)\n",
    "\n",
    "print(go_fast_jit(x))"
   ]
  },
  {
   "cell_type": "code",
   "execution_count": 165,
   "id": "d30ac302",
   "metadata": {},
   "outputs": [
    {
     "name": "stdout",
     "output_type": "stream",
     "text": [
      "8.28 μs ± 46.3 ns per loop (mean ± std. dev. of 7 runs, 100,000 loops each)\n",
      "758 ns ± 24.7 ns per loop (mean ± std. dev. of 7 runs, 1,000,000 loops each)\n"
     ]
    }
   ],
   "source": [
    "%timeit go_fast(x)\n",
    "%timeit go_fast_jit(x)"
   ]
  },
  {
   "cell_type": "markdown",
   "id": "05f2c9fe",
   "metadata": {},
   "source": [
    "Important in our context:\n",
    "\n",
    "- Numpy arrays don't need to be converted to a different type.\n",
    "- Numba \"likes loops\" - we may need to rewrite the code to use loops instead of vectorised operations.\n"
   ]
  },
  {
   "cell_type": "markdown",
   "id": "9158e7fd",
   "metadata": {},
   "source": [
    "### Exercise: Numba JIT compilation\n",
    "\n",
    "1. Create a Numba JIT-compiled version of the Euclidean distance function `euclidean_distances_numpy`.\n",
    "2. Verify that the JIT-compiled version yields the same result as the numpy version.\n",
    "3. Compare the performance of the numpy version, and the uncompiled and compiled numba version.\n"
   ]
  },
  {
   "cell_type": "code",
   "execution_count": 178,
   "id": "56e52b55",
   "metadata": {},
   "outputs": [],
   "source": [
    "euclidean_distances_numba_jit = numba.jit(euclidean_distances_numpy)\n",
    "\n",
    "np.testing.assert_allclose(euclidean_distances_numpy(query_points, dataset), euclidean_distances_numba_jit(query_points, dataset))"
   ]
  },
  {
   "cell_type": "code",
   "execution_count": 181,
   "id": "923fc202",
   "metadata": {},
   "outputs": [
    {
     "name": "stdout",
     "output_type": "stream",
     "text": [
      "1.79 s ± 13.5 ms per loop (mean ± std. dev. of 7 runs, 1 loop each)\n",
      "1.16 s ± 30.5 ms per loop (mean ± std. dev. of 7 runs, 1 loop each)\n"
     ]
    }
   ],
   "source": [
    "%timeit euclidean_distances_numpy(query_points, dataset)\n",
    "%timeit euclidean_distances_numba_jit(query_points, dataset)"
   ]
  },
  {
   "cell_type": "markdown",
   "id": "4de51edd",
   "metadata": {},
   "source": [
    "### Numba performance tuning\n",
    "\n",
    "The following are important options and techniques for optimising Numba code, as summarised from the official [Numba performance tips](https://numba.readthedocs.io/en/stable/user/performance-tips.html):\n",
    "\n",
    "1. Use `@numba.njit` (no Python mode):\n",
    "   - Prefer `@numba.njit` (or `@numba.jit(nopython=True)`) to ensure code is compiled in \"nopython\" mode, avoiding the Python interpreter for maximum speed.\n",
    "\n",
    "2. Enable parallel execution:\n",
    "   - Use `parallel=True` in the decorator (e.g., `@numba.njit(parallel=True)`) to allow Numba to automatically parallelise supported loops using `numba.prange`.\n",
    "   - Replace `range` with `numba.prange` in outer loops to enable parallelism.\n",
    "\n",
    "3. Enable fast math optimisations:\n",
    "   - Use `fastmath=True` to allow the compiler to apply aggressive floating-point optimisations, potentially sacrificing some numerical precision for speed.\n",
    "   - Example: `@numba.njit(fastmath=True)`\n",
    "\n",
    "4. Prefer simple, explicit loops:\n",
    "   - Numba excels with explicit for-loops and simple array operations.\n",
    "   - Avoid complex Python features, object arrays, or unsupported NumPy functions.\n",
    "\n",
    "5. Minimise Python object usage:\n",
    "   - Use NumPy arrays and primitive types; avoid lists of objects or dictionaries inside JIT-compiled functions.\n",
    "\n",
    "6. Preallocate arrays:\n",
    "   - Allocate output arrays before entering loops to avoid dynamic resizing, which is slow and not supported in nopython mode.\n",
    "\n",
    "7. Use supported NumPy functions:\n",
    "   - Stick to NumPy functions and methods that are supported by Numba for best performance.\n",
    "\n"
   ]
  },
  {
   "cell_type": "markdown",
   "id": "394fe50c",
   "metadata": {},
   "source": [
    "### Exercise: Numba performance tuning\n",
    "\n",
    "1. First, try `njit`, `fastmath=True`, and `parallel=True` on the `euclidean_distances_numpy` function. Measure the performance.\n",
    "2. Try the same options on the `euclidean_distances_numba_optimised` defined below. Compare the performance to the previous versions.\n"
   ]
  },
  {
   "cell_type": "code",
   "execution_count": 190,
   "id": "41d6820b",
   "metadata": {},
   "outputs": [
    {
     "name": "stdout",
     "output_type": "stream",
     "text": [
      "1.12 s ± 8.41 ms per loop (mean ± std. dev. of 7 runs, 1 loop each)\n"
     ]
    }
   ],
   "source": [
    "euclidean_distances_numba_perf = numba.njit(fastmath=True, parallel=False)(euclidean_distances_numpy)\n",
    "# parallel=True does not work\n",
    "# there seems to be only a very small speed up from fastmath\n",
    "\n",
    "np.testing.assert_allclose(euclidean_distances_numpy(query_points, dataset), euclidean_distances_numba_perf(query_points, dataset))\n",
    "\n",
    "%timeit euclidean_distances_numba_perf(query_points, dataset)"
   ]
  },
  {
   "cell_type": "code",
   "execution_count": 194,
   "id": "ff5a451a",
   "metadata": {},
   "outputs": [],
   "source": [
    "def euclidean_distances_numba_optimised(query_points: np.ndarray, dataset: np.ndarray) -> np.ndarray:\n",
    "    M = query_points.shape[0]\n",
    "    N = dataset.shape[0]\n",
    "    D = query_points.shape[1]\n",
    "    distances = np.empty((N, M), dtype=dataset.dtype)\n",
    "    for i in range(N):\n",
    "        for j in range(M):\n",
    "            d = 0.0\n",
    "            for k in range(D):\n",
    "                tmp = dataset[i, k] - query_points[j, k]\n",
    "                d += tmp * tmp\n",
    "            distances[i, j] = np.sqrt(d)\n",
    "    return distances\n"
   ]
  },
  {
   "cell_type": "code",
   "execution_count": 197,
   "id": "a99de4a9",
   "metadata": {},
   "outputs": [
    {
     "name": "stdout",
     "output_type": "stream",
     "text": [
      "249 ms ± 2.57 ms per loop (mean ± std. dev. of 7 runs, 1 loop each)\n"
     ]
    }
   ],
   "source": [
    "euclidean_distances_numba_optimised_jit = numba.njit(fastmath=True, parallel=False)(euclidean_distances_numba_optimised)\n",
    "\n",
    "np.testing.assert_allclose(euclidean_distances_numpy(query_points, dataset), euclidean_distances_numba_optimised_jit(query_points, dataset), rtol=1e-6)\n",
    "\n",
    "%timeit euclidean_distances_numba_optimised_jit(query_points, dataset)"
   ]
  },
  {
   "cell_type": "code",
   "execution_count": null,
   "id": "d0f2cdb2",
   "metadata": {},
   "outputs": [],
   "source": []
  }
 ],
 "metadata": {
  "kernelspec": {
   "display_name": ".venv",
   "language": "python",
   "name": "python3"
  },
  "language_info": {
   "codemirror_mode": {
    "name": "ipython",
    "version": 3
   },
   "file_extension": ".py",
   "mimetype": "text/x-python",
   "name": "python",
   "nbconvert_exporter": "python",
   "pygments_lexer": "ipython3",
   "version": "3.12.5"
  }
 },
 "nbformat": 4,
 "nbformat_minor": 5
}
