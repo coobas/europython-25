{
 "cells": [
  {
   "cell_type": "markdown",
   "id": "f5cadf8c",
   "metadata": {},
   "source": [
    "# Accelerating Scientific Python: JAX, Numba, and Ray in Action\n",
    "\n",
    "## Quick Start with Google Colab\n",
    "\n",
    "### 1: Open This Notebook \n",
    "Click the link below to open the tutorial notebook directly in Google Colab:\n",
    "\n",
    "[![Open In Colab](https://colab.research.google.com/assets/colab-badge.svg)](https://colab.research.google.com/github/coobas/europython-25/blob/main/instructions.ipynb)\n",
    "\n",
    "### 2. Clone the Repository\n",
    "\n",
    "```bash\n",
    "git clone https://github.com/coobas/europython-25.git\n",
    "cd europython-25\n",
    "```\n"
   ]
  }
 ],
 "metadata": {
  "language_info": {
   "name": "python"
  }
 },
 "nbformat": 4,
 "nbformat_minor": 5
}
