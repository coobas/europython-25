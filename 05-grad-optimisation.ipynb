{
 "cells": [
  {
   "cell_type": "markdown",
   "id": "3497647e",
   "metadata": {},
   "source": [
    "# Gradients and derivatives with JAX"
   ]
  },
  {
   "cell_type": "markdown",
   "id": "490e97c2",
   "metadata": {},
   "source": [
    "## JAX can compute derivatives of functions\n",
    "\n",
    "- JAX can automatically compute gradients of scalar-valued functions using `jax.grad`, enabling efficient optimisation and machine learning workflows.\n",
    "- JAX automatically computes exact derivatives, not numerical approximations.\n",
    "- JAX also provides `jax.jacobian` to compute the full Jacobian matrix, which is essential for sensitivity analysis and advanced optimisation.\n",
    "- Higher-order derivatives are supported via repeated application of `jax.grad`, or using `jax.hessian`.\n",
    "- JAX's differentiation is based on composable, functional transformations, making it easy to combine with JIT compilation (`jax.jit`) for high performance.\n",
    "- JAX's autodiff works seamlessly on CPUs, GPUs, and TPUs, enabling scalable scientific computing.\n",
    "\n",
    "This automatic differentiation capability is essential e.g. for gradient-based optimisation, as we'll see in the location optimisation example below.\n"
   ]
  },
  {
   "cell_type": "code",
   "execution_count": null,
   "id": "d8631bbe",
   "metadata": {},
   "outputs": [],
   "source": [
    "from IPython import get_ipython\n",
    "\n",
    "is_colab = \"google.colab\" in str(get_ipython())\n",
    "\n",
    "# Download the data which are part of this repo\n",
    "if is_colab:\n",
    "    import urllib.request\n",
    "    url = \"https://github.com/coobas/europython-25/raw/refs/heads/main/data.parquet\"\n",
    "    urllib.request.urlretrieve(url, \"data.parquet\")"
   ]
  },
  {
   "cell_type": "code",
   "execution_count": null,
   "id": "1b8faadc",
   "metadata": {},
   "outputs": [],
   "source": [
    "import numpy as np\n",
    "import jax.numpy as jnp\n",
    "import jax\n",
    "import pandas as pd\n",
    "import plotly.express as px"
   ]
  },
  {
   "cell_type": "markdown",
   "id": "575b4791",
   "metadata": {},
   "source": [
    "## Basic usage\n"
   ]
  },
  {
   "cell_type": "code",
   "execution_count": null,
   "id": "4a5edf9d",
   "metadata": {},
   "outputs": [],
   "source": [
    "def f(x):\n",
    "    return x**2 + 2*x + 1\n",
    "\n",
    "# Create the gradient function\n",
    "grad_f = jax.grad(f)\n",
    "\n",
    "# Compute the gradient at a point\n",
    "grad_f(3.0)  # Returns 8.0 (derivative of x²+2x+1 is 2x+2)"
   ]
  },
  {
   "cell_type": "markdown",
   "id": "f6673fb7",
   "metadata": {},
   "source": [
    "For functions with multiple arguments, use the `argnums` parameter:"
   ]
  },
  {
   "cell_type": "code",
   "execution_count": null,
   "id": "7370b9cc",
   "metadata": {},
   "outputs": [],
   "source": [
    "def loss(w, b):\n",
    "    return w**2 + b**2\n",
    "\n",
    "# Gradient with respect to first argument (w)\n",
    "grad_w = jax.grad(loss, argnums=0)\n",
    "\n",
    "# Gradient with respect to both arguments\n",
    "grad_both = jax.grad(loss, argnums=(0, 1))\n",
    "\n",
    "grad_both(1.0, 2.0)  # Returns (2.0, 4.0)"
   ]
  },
  {
   "cell_type": "markdown",
   "id": "80be1f5b",
   "metadata": {},
   "source": [
    "### Exercise: Gradient of a function using jax.numpy\n",
    "\n",
    "`jax.grad` works with functions built using `jax.numpy`. Let's compute the gradient of a\n",
    "function involving `jnp.sum` and `jnp.sin`.\n",
    "\n",
    "Consider $k(v) = \\sum_i \\sin(v_i)$, where $v$ is a vector. The gradient $\\nabla k(v)$ is a vector where\n",
    "the j-th element is $\\frac{\\partial k}{\\partial v_j} = \\cos(v_j)$.\n",
    "\n",
    "1. Implement the function `k(v)`.\n",
    "2. Construct the gradient `k_grad(v)` using `jax.grad`.\n",
    "3. Test the gradient by comparing the analytical gradient with the numerical gradient.\n"
   ]
  },
  {
   "cell_type": "code",
   "execution_count": null,
   "id": "33f6ace2",
   "metadata": {},
   "outputs": [],
   "source": []
  },
  {
   "cell_type": "markdown",
   "id": "877d6ec6",
   "metadata": {},
   "source": [
    "## Mini-project: Optimising location of a property\n",
    "\n",
    "Say we would like to find the optimal location for buying a property that:\n",
    "- Minimises the distance to some reference points\n",
    "- Is within a given price range (not too expensive, not too cheap)"
   ]
  },
  {
   "cell_type": "markdown",
   "id": "968a6e22",
   "metadata": {},
   "source": [
    "### Fundamental functions\n",
    "\n",
    "Someone has provided price data and implemented useful functions for kNN regression, which we can use to estimate the price at any given location."
   ]
  },
  {
   "cell_type": "code",
   "execution_count": null,
   "id": "378c24e6",
   "metadata": {},
   "outputs": [],
   "source": [
    "def euclidean_distances_jax(\n",
    "    query_points: jnp.ndarray, dataset: jnp.ndarray\n",
    ") -> jnp.ndarray:\n",
    "    return jnp.sqrt(jnp.sum((dataset[:, jnp.newaxis, :] - query_points) ** 2, axis=-1))\n",
    "\n",
    "\n",
    "euclidean_distances_jax_jit = jax.jit(euclidean_distances_jax)\n",
    "\n",
    "\n",
    "def knn_search_jax(\n",
    "    query_points: jnp.ndarray,\n",
    "    dataset: jnp.ndarray,\n",
    "    k: int,\n",
    ") -> jnp.ndarray:\n",
    "    distances = euclidean_distances_jax_jit(query_points, dataset)\n",
    "    values, nearest_indices = jax.lax.top_k(-distances.T, k)\n",
    "    return nearest_indices\n",
    "\n",
    "\n",
    "knn_search_jax_jit = jax.jit(knn_search_jax, static_argnames=[\"k\"])\n"
   ]
  },
  {
   "cell_type": "code",
   "execution_count": null,
   "id": "acb57cdc",
   "metadata": {},
   "outputs": [],
   "source": [
    "def knn_mean_jax(query_points: jnp.ndarray, dataset: jnp.ndarray, values: jnp.ndarray, k: int) -> jnp.ndarray:\n",
    "    \"\"\"\n",
    "    Predict target values for the provided data.\n",
    "\n",
    "    Parameters\n",
    "    ----------\n",
    "    query_points : jnp.ndarray\n",
    "        Array of shape (n_samples, n_features) containing the points for which predictions are required.\n",
    "    dataset : jnp.ndarray\n",
    "        Array of shape (n_train_samples, n_features) containing the training data.\n",
    "    values : jnp.ndarray\n",
    "        Array of shape (n_train_samples,) containing the values of the training data.\n",
    "    k : int\n",
    "        Number of nearest neighbours to consider for each prediction.\n",
    "\n",
    "    Returns\n",
    "    -------\n",
    "    jnp.ndarray of shape (n_samples,)\n",
    "        Predicted target values.\n",
    "    \"\"\"\n",
    "\n",
    "    # Find k nearest neighbours for each query point\n",
    "    neighbor_indices = knn_search_jax_jit(\n",
    "        query_points, dataset, k=k\n",
    "    )\n",
    "\n",
    "    # Get the neighbour values of the nearest neighbours\n",
    "    neighbor_values = values[neighbor_indices]\n",
    "\n",
    "    # Return the mean of the neighbour targets (regression prediction)\n",
    "    return jnp.mean(neighbor_values, axis=1).squeeze()\n",
    "\n",
    "\n",
    "knn_mean_jax_jit = jax.jit(knn_mean_jax, static_argnames=[\"k\"])"
   ]
  },
  {
   "cell_type": "code",
   "execution_count": null,
   "id": "20a7774f",
   "metadata": {},
   "outputs": [],
   "source": [
    "price_data = pd.read_parquet(\"data.parquet\")"
   ]
  },
  {
   "cell_type": "code",
   "execution_count": null,
   "id": "8779c8ba",
   "metadata": {},
   "outputs": [],
   "source": [
    "px.scatter(price_data.query(\"floor == 0\"), x=\"x\", y=\"y\", color=\"price\").update_layout(yaxis_scaleanchor=\"x\", yaxis_constrain=\"domain\")"
   ]
  },
  {
   "cell_type": "code",
   "execution_count": null,
   "id": "f3ca0e7e",
   "metadata": {},
   "outputs": [],
   "source": [
    "dataset = price_data[[\"x\", \"y\", \"floor\"]].to_numpy().astype(np.float32)\n",
    "values = price_data[\"price\"].to_numpy().astype(np.float32)"
   ]
  },
  {
   "cell_type": "code",
   "execution_count": null,
   "id": "965dfa25",
   "metadata": {},
   "outputs": [],
   "source": [
    "# just to check if the knn_mean_jax is working\n",
    "query_points = np.array([[7, 0.5, 1]])\n",
    "knn_mean_jax(query_points, dataset, values, k=5)"
   ]
  },
  {
   "cell_type": "markdown",
   "id": "b37c831e",
   "metadata": {},
   "source": [
    "### Objective function and constraints definition\n",
    "\n",
    "We define the objective function as the mean distance to the reference points.\n",
    "\n",
    "Also, we define the constraints as:\n",
    "- Coordinates are within the bounds [-10, -10, 0] and [10, 10, 10] (the dimensions are x, y, floor)\n",
    "- The price is between 700 and 1500\n",
    "  - Note that the price is a nonlinear constraint.\n",
    "  "
   ]
  },
  {
   "cell_type": "code",
   "execution_count": null,
   "id": "45804a2e",
   "metadata": {},
   "outputs": [],
   "source": [
    "locations = np.array([\n",
    "    [2.5, 3.8],    # School\n",
    "    [-1.2, 0.5],   # Work\n",
    "    [4.1, -2.3],   # Parents\n",
    "    [-0.8, 2.9],   # Sports Club\n",
    "], dtype=np.float32)\n",
    "min_price_bound = 700\n",
    "max_price_bound = 1500\n",
    "k = 5\n",
    "\n",
    "\n",
    "def objective(x: jnp.ndarray) -> float:\n",
    "    # Compute Euclidean distances to each location\n",
    "    dists = euclidean_distances_jax_jit(x[:2], locations)\n",
    "    # Return the mean distance\n",
    "    return jnp.mean(dists)\n",
    "\n",
    "\n",
    "def price(x: jnp.ndarray) -> float:\n",
    "    price = knn_mean_jax_jit(x, dataset, values, k=k)\n",
    "    return price"
   ]
  },
  {
   "cell_type": "code",
   "execution_count": null,
   "id": "cd4975e2",
   "metadata": {},
   "outputs": [],
   "source": [
    "x_test = jnp.array([2, 1, 3])\n",
    "print(f\"Objective: {objective(x_test)}\")\n",
    "print(f\"Price: {price(x_test)}\")"
   ]
  },
  {
   "cell_type": "code",
   "execution_count": null,
   "id": "04048372",
   "metadata": {},
   "outputs": [],
   "source": [
    "import scipy.optimize\n",
    "\n",
    "\n",
    "x_bounds = scipy.optimize.Bounds([-10, -10, 0], [10, 10, 10])\n",
    "\n",
    "price_constraint = scipy.optimize.NonlinearConstraint(price, min_price_bound, max_price_bound, jac=jax.jacobian(price))\n"
   ]
  },
  {
   "cell_type": "markdown",
   "id": "951422ea",
   "metadata": {},
   "source": [
    "### Exercise: Use `scipy.optimize` to find the optimal location\n",
    "\n",
    "Use the [Trust-Region Constrained Algorithm (method='trust-constr')](https://docs.scipy.org/doc/scipy/tutorial/optimize.html#trust-region-constrained-algorithm-method-trust-constr) of `scipy.optimize.minimize` to find the optimal location.\n",
    "- Use some random starting point `x0`.\n",
    "- Provide the Jacobian and Hessian of the objective function, constructed using JAX.\n",
    "  - You can eventually JIT-compile the Jacobian and Hessian.\n",
    "- Do not forget the bounds and constraints.\n",
    "- Plot the result using `plot_locations_and_optimum`."
   ]
  },
  {
   "cell_type": "code",
   "execution_count": null,
   "id": "5856dbd8",
   "metadata": {},
   "outputs": [],
   "source": []
  },
  {
   "cell_type": "code",
   "execution_count": null,
   "id": "fea64c48",
   "metadata": {},
   "outputs": [],
   "source": [
    "import plotly.graph_objects as go\n",
    "\n",
    "def plot_locations_and_optimum(\n",
    "    locations: np.ndarray,\n",
    "    optimum: jnp.ndarray\n",
    ") -> None:\n",
    "    \"\"\"\n",
    "    Visualise the location points and the optimum found by optimisation using Plotly.\n",
    "\n",
    "    Args:\n",
    "        locations (list): List of Location objects with x, y, and name attributes.\n",
    "        optimum (jnp.ndarray): Optimised coordinates (at least 2D).\n",
    "\n",
    "    This function creates an interactive scatter plot of the key locations\n",
    "    (e.g., School, Work, Parents, Sports Club) and overlays the optimum\n",
    "    location found by the optimisation routine. This aids in interpreting\n",
    "    the optimisation result in the context of the real-world locations.\n",
    "\n",
    "    Example:\n",
    "        plot_locations_and_optimum(locations, x_opt.x)\n",
    "    \"\"\"\n",
    "    # Extract x and y coordinates and names from the locations\n",
    "    xs = locations[:, 0]\n",
    "    ys = locations[:, 1]\n",
    "    names = [f\"Location {i}\" for i in range(len(locations))]\n",
    "\n",
    "    # Prepare the scatter plot for locations\n",
    "    location_trace = go.Scatter(\n",
    "        x=xs,\n",
    "        y=ys,\n",
    "        mode=\"markers+text\",\n",
    "        name=\"Locations\",\n",
    "        marker=dict(size=14, color=\"blue\"),\n",
    "        text=names,\n",
    "        textposition=\"top right\"\n",
    "    )\n",
    "\n",
    "    # Prepare the scatter plot for the optimum\n",
    "    optimum_trace = go.Scatter(\n",
    "        x=[float(optimum[0])],\n",
    "        y=[float(optimum[1])],\n",
    "        mode=\"markers+text\",\n",
    "        name=\"Optimum\",\n",
    "        marker=dict(size=20, color=\"red\", symbol=\"star\"),\n",
    "        text=[\"Optimum\"],\n",
    "        textposition=\"bottom left\"\n",
    "    )\n",
    "\n",
    "    layout = go.Layout(\n",
    "        title=\"Location Points and Optimum from Optimisation\",\n",
    "        xaxis=dict(title=\"X coordinate\"),\n",
    "        yaxis=dict(title=\"Y coordinate\"),\n",
    "        legend=dict(x=0.01, y=0.99),\n",
    "        width=700,\n",
    "        height=700\n",
    "    )\n",
    "\n",
    "    fig = go.Figure(data=[location_trace, optimum_trace], layout=layout)\n",
    "    fig.show()"
   ]
  },
  {
   "cell_type": "code",
   "execution_count": null,
   "id": "f53ff1a7",
   "metadata": {},
   "outputs": [],
   "source": []
  }
 ],
 "metadata": {
  "kernelspec": {
   "display_name": ".venv",
   "language": "python",
   "name": "python3"
  },
  "language_info": {
   "codemirror_mode": {
    "name": "ipython",
    "version": 3
   },
   "file_extension": ".py",
   "mimetype": "text/x-python",
   "name": "python",
   "nbconvert_exporter": "python",
   "pygments_lexer": "ipython3",
   "version": "3.12.5"
  }
 },
 "nbformat": 4,
 "nbformat_minor": 5
}
