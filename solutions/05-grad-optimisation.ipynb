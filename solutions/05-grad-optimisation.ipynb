{
 "cells": [
  {
   "cell_type": "markdown",
   "id": "3497647e",
   "metadata": {},
   "source": [
    "# Gradients and derivatives with JAX"
   ]
  },
  {
   "cell_type": "markdown",
   "id": "490e97c2",
   "metadata": {},
   "source": [
    "## JAX can compute derivatives of functions\n",
    "\n",
    "- JAX can automatically compute gradients of scalar-valued functions using `jax.grad`, enabling efficient optimisation and machine learning workflows.\n",
    "- JAX also provides `jax.jacobian` to compute the full Jacobian matrix, which is essential for sensitivity analysis and advanced optimisation.\n",
    "- Higher-order derivatives are supported via repeated application of `jax.grad`, or using `jax.hessian`.\n",
    "- JAX's differentiation is based on composable, functional transformations, making it easy to combine with JIT compilation (`jax.jit`) for high performance.\n",
    "- JAX's autodiff works seamlessly on CPUs, GPUs, and TPUs, enabling scalable scientific computing.\n"
   ]
  },
  {
   "cell_type": "code",
   "execution_count": 47,
   "id": "d8631bbe",
   "metadata": {},
   "outputs": [],
   "source": [
    "# Run this in Google Collab, perhaps not elsewhere\n",
    "# Skip if you've already done this\n",
    "\n",
    "# !git clone https://github.com/coobas/europython-25.git\n",
    "# !mkdir -p local_data\n",
    "# !cp europython-25/*.parquet local_data/"
   ]
  },
  {
   "cell_type": "code",
   "execution_count": 48,
   "id": "1b8faadc",
   "metadata": {},
   "outputs": [],
   "source": [
    "import numpy as np\n",
    "import jax.numpy as jnp\n",
    "import jax\n",
    "import pandas as pd\n",
    "import plotly.express as px"
   ]
  },
  {
   "cell_type": "markdown",
   "id": "575b4791",
   "metadata": {},
   "source": [
    "## Basics"
   ]
  },
  {
   "cell_type": "code",
   "execution_count": null,
   "id": "80be1f5b",
   "metadata": {},
   "outputs": [],
   "source": []
  },
  {
   "cell_type": "markdown",
   "id": "877d6ec6",
   "metadata": {},
   "source": [
    "## Mini-project: Optimising location of a property"
   ]
  },
  {
   "cell_type": "code",
   "execution_count": 20,
   "id": "378c24e6",
   "metadata": {},
   "outputs": [],
   "source": [
    "def euclidean_distances_jax(\n",
    "    query_points: jnp.ndarray, dataset: jnp.ndarray\n",
    ") -> jnp.ndarray:\n",
    "    return jnp.sqrt(jnp.sum((dataset[:, jnp.newaxis, :] - query_points) ** 2, axis=-1))\n",
    "\n",
    "\n",
    "euclidean_distances_jax_jit = jax.jit(euclidean_distances_jax)\n",
    "\n",
    "\n",
    "def knn_search_jax(\n",
    "    query_points: jnp.ndarray,\n",
    "    dataset: jnp.ndarray,\n",
    "    k: int,\n",
    ") -> jnp.ndarray:\n",
    "    distances = euclidean_distances_jax_jit(query_points, dataset)\n",
    "    values, nearest_indices = jax.lax.top_k(-distances.T, k)\n",
    "    return nearest_indices\n",
    "\n",
    "\n",
    "knn_search_jax_jit = jax.jit(knn_search_jax, static_argnames=[\"k\"])\n"
   ]
  },
  {
   "cell_type": "code",
   "execution_count": 21,
   "id": "acb57cdc",
   "metadata": {},
   "outputs": [],
   "source": [
    "def knn_mean_jax(query_points: jnp.ndarray, dataset: jnp.ndarray, values: jnp.ndarray, k: int) -> jnp.ndarray:\n",
    "    \"\"\"\n",
    "    Predict target values for the provided data.\n",
    "\n",
    "    Parameters\n",
    "    ----------\n",
    "    query_points : jnp.ndarray\n",
    "        Array of shape (n_samples, n_features) containing the points for which predictions are required.\n",
    "    dataset : jnp.ndarray\n",
    "        Array of shape (n_train_samples, n_features) containing the training data.\n",
    "    values : jnp.ndarray\n",
    "        Array of shape (n_train_samples,) containing the values of the training data.\n",
    "    k : int\n",
    "        Number of nearest neighbours to consider for each prediction.\n",
    "\n",
    "    Returns\n",
    "    -------\n",
    "    jnp.ndarray of shape (n_samples,)\n",
    "        Predicted target values.\n",
    "    \"\"\"\n",
    "\n",
    "    # Find k nearest neighbours for each query point\n",
    "    neighbor_indices = knn_search_jax_jit(\n",
    "        query_points, dataset, k=k\n",
    "    )\n",
    "\n",
    "    # Get the neighbour values of the nearest neighbours\n",
    "    neighbor_values = values[neighbor_indices]\n",
    "\n",
    "    # Return the mean of the neighbour targets (regression prediction)\n",
    "    return jnp.mean(neighbor_values, axis=1).squeeze()\n",
    "\n",
    "\n",
    "knn_mean_jax_jit = jax.jit(knn_mean_jax, static_argnames=[\"k\"])"
   ]
  },
  {
   "cell_type": "code",
   "execution_count": 22,
   "id": "20a7774f",
   "metadata": {},
   "outputs": [],
   "source": [
    "price_data = pd.read_parquet(\"data.parquet\")"
   ]
  },
  {
   "cell_type": "code",
   "execution_count": 23,
   "id": "8779c8ba",
   "metadata": {},
   "outputs": [
    {
     "data": {
      "application/vnd.plotly.v1+json": {
       "config": {
        "plotlyServerURL": "https://plot.ly"
       },
       "data": [
        {
         "hovertemplate": "x=%{x}<br>y=%{y}<br>price=%{marker.color}<extra></extra>",
         "legendgroup": "",
         "marker": {
          "color": {
           "bdata": "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",
           "dtype": "f8"
          },
          "coloraxis": "coloraxis",
          "symbol": "circle"
         },
         "mode": "markers",
         "name": "",
         "orientation": "v",
         "showlegend": false,
         "type": "scatter",
         "x": {
          "bdata": "D8u3+zYtI8CXL0Oq4KAQwLQzf3dQIA7A4B827YvIIkDouOmjVV4SQGB6kPvWL/e/jIs411+YGEDWCd3hkx4NwEYeAsluYyDAQ2qD1F3hFcB26bb/Wl0TwMaUlFwrzCPA+iiq2yS4E0AaiS6kZWICwMhr11ka9xrAVoKozMWeI0B2oGmZNwYiQFoK7XTmaQvAkMGEQtK18r/wEIC5ka36P2wBJbzp/ABAgCNc7A0C9L/GyaHElSogQDfgp5pgWR7AyM0OE0l+F8DAc/UCGPP9PwAURTRd55+/FKCXZM8sIUCAXpmriXvDP+Ql6lKwJArA8EiBFROfF0AOqb+HU+gawPBbVGWz3+s/QF4Of0C6/7/NbgMKI1EhwL4PwCm3vhjAUMbJRSjl7b8gUIMVNDjfP4vLPXuJ6iLA4pXCoFWMEMAa6mlAhLIawFT916/tChNA8MigYY3nEMCWPmEW1QQTwNx/jCyi9hxAmqpkRGuZFcCoRrOmFOcXQLxqMMiStSFA5tGH2+GLFcB4zWUToBYawGBnbe1j2di/0J+aay9iHUCActdGoagIwLndr5lV6hvAflHMkIhiAMCkhT7VJocfQEOoipiHmhXAoxT/m53zFsCQYekIZ30dQIRwiqoHmx/AUGN2KqFqE0A8jS/7V0EJQJC4wac+bRlAEGHu3Gz5IsCAjHEV5AwVwNiNHh73tvs/1Ht3CVgYAEChSny9/IsfwCgPvJx9evu/vv60szG0FMCUZCEnRg0MwABVz/1EVSLAEJlAqarlF0DQ189sEGD6PwAP/wFDvPW/GR4K680zGMAAEhAGms70P7R/wuFyyiPARrR6MeZnIcBAvg/p5SLzv2B0fwZcM/m/Puo5aSkcFECMGqMHz2wRwPAxCDFN3es/uLtPAP/YEcB0IiERDPYQQKD8suB+xu+/jHaX6N82IcBeJFScbQIawJbdyoR5Jg/ARykvGSSsIsDgrUcv1cj4v+rUnxYszh7AcLFfwuY+IMDIVY3f1Ff9P6uNdo2OLCLAuLS64J7HI8Bgir2QOQ73P6HCk4krhCDA2DddZAu7AkCG2jP4Kd4AwFKDryv57yPAuBXMkXeeIcAs2lgNS9cewKDDAGGRPAfAdD091sEXBsCuHJOMMfgRwPDlcHdLXCNAKANDnrOS/b949YAsE5b9v2o0gTVhNCJAwK5iEOZ5BkCYTPwviUkSwMwgw/MxSx3ABmdkklOkIkCAP/HzctQEwMafCYKhvRbA+OaR+dkBEcDaYcopimkjwDa8D0znpxZA8BT0BLRRAMAUygJekogPwCDERGr/wuC/kFBA9IHQ6b9y+GXE6PsawH6AU75YVxRAYCL0xvGA9D+sG7BPoKAGwDv4OS0trBjARgt3jXTZCsDoYJ1XN8L4v+ozhyJ8AhFAqjWXfZhNIsAMmVme/h0DwFxlN8xuzyJAPOQkQRIAGECU2hceSP0QwHgCjQ3Iqw1AqtICQD8TFECyV5YS/OQRwOH28UOf2xLA0OhGahXKF8AYOBotoU0iQMwzCXP6lCBAOOO6syZYIMAsDIAoljIeQFgh8T+7EwFAYZUjTAjBIMAYdnkV7dYEQJjyuZLRSBpAtMWtx67ADsCc9kr+WS4OQKiTXUT5sQHACI677crsA8Dcs5FhfiQPQBwmXNPfOxPAIOqssxGyCkDIQVS5tucjQJTJHcE1+BpACOzFgnTn+T+wOWZVQDURQBDYReWxZwxAiMMMWfhaCsAAC5V7ecXjv3MGUJXxhCDAgHCJd+w5yT+2jpt1gZoiwBiJHioGX/A/1A6BdxcgE0AA3tjkexafPxANobgvARDAmvgpivnYGsDQShnuYKwewADt7y303ta/tEHq72h5D8AML6NwgFoDwGqk5rYAnSNAHEXXLgQjAcCq+qys2F4AwDaehkQhsBvA2q5+DWS8IEBaNx7nJU4iQEDSTtALiNu/ioHWXQu4IcAQzumVOgsGQAXl/qAbzhjAEBf+d3tB+78c51/epNodwK6cBHckSxfA/PfbDSXGGED8U0QopCYZQBPS8TSBsRbAkHBNeHfQAEBwPcHHjrIAQFtyQZe1XxzAUxlZPjUtIsAc4Sh2tmgawLS6G4X9RAtAqI7hzegO+79wOf240wjuP4a2D8r6ICNAvIHNAWS6DkBg5veaWhrZP+zj232O+CFA0O378Od99j8gRHcmjivwPyzhtyGYFQpABIhiRlRhHkAmP2xX+18ZwHz6z8H1SxpA3EJxfUaSI8Cy2Pu9QE8jQPZgvn/AECHA/IM2JR+pF8CwCcdrgTr2v4yqP4LG2CHAwINZa2M+FkDAyC5ScYIZQPCbdK1GlyHAfNhjY4nFHEA2hICmp0YiwEAo63wuTh/ASlW3hFyjGMAAanxwlUmoPzxlNJdJ0iBAjOh07G//GkDgQRzFVbPtP2guJ5nzKRxAzDcFespOFUCALcw7nx/kv6jhQuw9QgxAfMTBpMa7FcCgoHOyRHHgv1qgfYpaOwLAyEzIBe6LD0Do+nyK23XyP3qdSPpjhiNASLlwNliUI8Cgd8MD6a0RwCiKSJGx0RXAAO5M2BIG7D+4pN2P+Hn4P/7kZfHBrSJA6IEaUw5v/L8cp3FU0QIYQIw8HGOwcwbAAKmVof8otT8syu/I7mYiwElWtaHCyyHAbnEKULIiDsCkOqfn1esgwKwP/W2WQhnAYPRSVmCaB8CUQ6IzA2cPwNjZoh5b3g1ANFBAn/9OBUCMP03M25sXQK4y3l3T/B/AbI5KDte/BEAe07V/J7whwOjdlqbXSBlAta5Zar4IIMAB3tukqKEgwKy+ArxXjg1AlKHqmtruFMBzsLbg1MsSwOBMBgTyo/y/+NnfK/TYIUC2JXnT03shwAYqE/NvIh7A9O6tnO5AGECAPVaqmj3sPx4DG0YsyxdAcDjd71urBcCIIL6EuzkFwESyJ1p/5QJAhM/JELW9IMAgyygZjmoaQCcHvnaLQBfA8kXlh56kB8BQq2zm93cCQJg9vJn9wSJAgHNIt18OF8DE2MxgzNEaQICARY26fbq/YHt6JlnA4r+vKRmGwwYYwF6OAjX2ciDANmNJtpZ2HcC2+FUbZjIhQITHLqpFthBALN+Ivo/yHECEdlP74fcjQPA8XnVhDRHAYtkZMU63IcDI4/n1nsIcQC8goJmVghjAkNMMGPyu/z98nu84vqAZwPCRMRKlkhjAgDYlpyc66b/EnyPsuQ8iwLyNcDb4sA9AAK5U1/vI4L9AQcpfzuQTQBwFLQxlrApAkJ/B6jQnAEAe2M51nuwGwBBqrS8PLh9ALG1kDyWiI8CA4X7F5wvXvzgpxXTb4w9A6HB2V0/yHkCgVEO33aojQFS83RbFBBlAiNdK3NPhIkDiI05K1jIfwCaCKpzYkiBAmGEkuXooIED+ul1g4/sjwFBEmZwtAB5AMHJIbHpM9r+kvEN6CgYSwHixK6MSU/K/PP7+eqQED0BYZpWsu9QhQBQAddWoKgXA9vOlPcOhEcB8hQwMt7IewA7UPNst/h3AKPHE9sOC/r+ucICKNv4RQBLISAi89xjAmCMTnwLFCsBqi0r6nd0MwOJRJwv3ESHAZGiVx6EgDsCc/rQWmPYIwKCCjkq98wNA+gmFt6nDH8BxJv/HuHwiwOSu7IFHvSHAoPlfkkWbFcCQ6Z6Ld/PuvwBUrOoFqb6/kLFidfp9FcBAqE+c3KoIwN1gAOl0qSPA4PQO24ygH8CcKl3a9lcNwIr4aG5teBLAXEhRUMlGIUBe9y6J0nQiwHq2+hghsCLA5PDwODvyGcAI23NifxUFQDC7m6pJhgFAlOF5ORdoAsByCgW+jh4VwHR8qdCVqCHAYEBcwBMX4D/UF3y3k08KwFYD8lRkZiHAjMOSYHgcA0D83LkEmnUHQKwWFDEVchHA0GlV3aMQCkBTkec++YkjwHTnGIuasRxAoF3n/U8M8r+UazbNP9wdQGBO16BBoyBAjHOnYyTLH0BYkTs4CeYcQGS+NOcNoBvA8D+2N74p5z84yr5feNITwKQtw4CP9BjAHmnZgzuUEkC2m26SNH0gwAB+XejaqBtADI+z4QG4CsDHuPja4cscwGxhfzo6ugnAqijeJwPnEkDAUEjYGBzTP5BZELQPO+A/sIit/UtuCUBg9qJqujXTv24XpjpCbhTAgGXlLsOwE0CKT1RusLYSQBQozXi2hAlAvFpZUd1QHED4jE1Ywm4cQOgcPEOKbiBAwC20sz1xCsDU6VYKm10FQOTAkptKUwVASB39yCTGHkACc+Zb6fYhQKe+DgvcKhXAQM/L2/CExT+s1JfOpFAUQDRKlo1piRtAaLi5YjjBHEDco3s+e1MJwKDrk1N9LyJAakBKh00FH8DcxsmEmnABQBhXI2u0OCDAAJKwl7/ZIUDMQckzVo4JwHDKIGVZT/+/ALyPrQj5pr8RhIywaj4iwLQn/O5OQiPAWqEKI4oiI8AE8pDLEOwhQMYiJZPuehNAirHvzLPMFsD4N11LMg0GQEAZiUau2MS/RObkJOVyBUCsfVVtwoEXQEAC2RYCf+a/5H6MUltBB0Com5A4uhoTQBKXY9PGSCJAlDdMh758D0C0QZ/oSnkaQBBJbmGLBgFAeIfQOwYk9b+XnNBKR4MjwLbVuZdMuBPA8lamqeYHHsA=",
          "dtype": "f8"
         },
         "xaxis": "x",
         "y": {
          "bdata": "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",
          "dtype": "f8"
         },
         "yaxis": "y"
        }
       ],
       "layout": {
        "coloraxis": {
         "colorbar": {
          "title": {
           "text": "price"
          }
         },
         "colorscale": [
          [
           0,
           "#0d0887"
          ],
          [
           0.1111111111111111,
           "#46039f"
          ],
          [
           0.2222222222222222,
           "#7201a8"
          ],
          [
           0.3333333333333333,
           "#9c179e"
          ],
          [
           0.4444444444444444,
           "#bd3786"
          ],
          [
           0.5555555555555556,
           "#d8576b"
          ],
          [
           0.6666666666666666,
           "#ed7953"
          ],
          [
           0.7777777777777778,
           "#fb9f3a"
          ],
          [
           0.8888888888888888,
           "#fdca26"
          ],
          [
           1,
           "#f0f921"
          ]
         ]
        },
        "legend": {
         "tracegroupgap": 0
        },
        "margin": {
         "t": 60
        },
        "template": {
         "data": {
          "bar": [
           {
            "error_x": {
             "color": "#2a3f5f"
            },
            "error_y": {
             "color": "#2a3f5f"
            },
            "marker": {
             "line": {
              "color": "#E5ECF6",
              "width": 0.5
             },
             "pattern": {
              "fillmode": "overlay",
              "size": 10,
              "solidity": 0.2
             }
            },
            "type": "bar"
           }
          ],
          "barpolar": [
           {
            "marker": {
             "line": {
              "color": "#E5ECF6",
              "width": 0.5
             },
             "pattern": {
              "fillmode": "overlay",
              "size": 10,
              "solidity": 0.2
             }
            },
            "type": "barpolar"
           }
          ],
          "carpet": [
           {
            "aaxis": {
             "endlinecolor": "#2a3f5f",
             "gridcolor": "white",
             "linecolor": "white",
             "minorgridcolor": "white",
             "startlinecolor": "#2a3f5f"
            },
            "baxis": {
             "endlinecolor": "#2a3f5f",
             "gridcolor": "white",
             "linecolor": "white",
             "minorgridcolor": "white",
             "startlinecolor": "#2a3f5f"
            },
            "type": "carpet"
           }
          ],
          "choropleth": [
           {
            "colorbar": {
             "outlinewidth": 0,
             "ticks": ""
            },
            "type": "choropleth"
           }
          ],
          "contour": [
           {
            "colorbar": {
             "outlinewidth": 0,
             "ticks": ""
            },
            "colorscale": [
             [
              0,
              "#0d0887"
             ],
             [
              0.1111111111111111,
              "#46039f"
             ],
             [
              0.2222222222222222,
              "#7201a8"
             ],
             [
              0.3333333333333333,
              "#9c179e"
             ],
             [
              0.4444444444444444,
              "#bd3786"
             ],
             [
              0.5555555555555556,
              "#d8576b"
             ],
             [
              0.6666666666666666,
              "#ed7953"
             ],
             [
              0.7777777777777778,
              "#fb9f3a"
             ],
             [
              0.8888888888888888,
              "#fdca26"
             ],
             [
              1,
              "#f0f921"
             ]
            ],
            "type": "contour"
           }
          ],
          "contourcarpet": [
           {
            "colorbar": {
             "outlinewidth": 0,
             "ticks": ""
            },
            "type": "contourcarpet"
           }
          ],
          "heatmap": [
           {
            "colorbar": {
             "outlinewidth": 0,
             "ticks": ""
            },
            "colorscale": [
             [
              0,
              "#0d0887"
             ],
             [
              0.1111111111111111,
              "#46039f"
             ],
             [
              0.2222222222222222,
              "#7201a8"
             ],
             [
              0.3333333333333333,
              "#9c179e"
             ],
             [
              0.4444444444444444,
              "#bd3786"
             ],
             [
              0.5555555555555556,
              "#d8576b"
             ],
             [
              0.6666666666666666,
              "#ed7953"
             ],
             [
              0.7777777777777778,
              "#fb9f3a"
             ],
             [
              0.8888888888888888,
              "#fdca26"
             ],
             [
              1,
              "#f0f921"
             ]
            ],
            "type": "heatmap"
           }
          ],
          "histogram": [
           {
            "marker": {
             "pattern": {
              "fillmode": "overlay",
              "size": 10,
              "solidity": 0.2
             }
            },
            "type": "histogram"
           }
          ],
          "histogram2d": [
           {
            "colorbar": {
             "outlinewidth": 0,
             "ticks": ""
            },
            "colorscale": [
             [
              0,
              "#0d0887"
             ],
             [
              0.1111111111111111,
              "#46039f"
             ],
             [
              0.2222222222222222,
              "#7201a8"
             ],
             [
              0.3333333333333333,
              "#9c179e"
             ],
             [
              0.4444444444444444,
              "#bd3786"
             ],
             [
              0.5555555555555556,
              "#d8576b"
             ],
             [
              0.6666666666666666,
              "#ed7953"
             ],
             [
              0.7777777777777778,
              "#fb9f3a"
             ],
             [
              0.8888888888888888,
              "#fdca26"
             ],
             [
              1,
              "#f0f921"
             ]
            ],
            "type": "histogram2d"
           }
          ],
          "histogram2dcontour": [
           {
            "colorbar": {
             "outlinewidth": 0,
             "ticks": ""
            },
            "colorscale": [
             [
              0,
              "#0d0887"
             ],
             [
              0.1111111111111111,
              "#46039f"
             ],
             [
              0.2222222222222222,
              "#7201a8"
             ],
             [
              0.3333333333333333,
              "#9c179e"
             ],
             [
              0.4444444444444444,
              "#bd3786"
             ],
             [
              0.5555555555555556,
              "#d8576b"
             ],
             [
              0.6666666666666666,
              "#ed7953"
             ],
             [
              0.7777777777777778,
              "#fb9f3a"
             ],
             [
              0.8888888888888888,
              "#fdca26"
             ],
             [
              1,
              "#f0f921"
             ]
            ],
            "type": "histogram2dcontour"
           }
          ],
          "mesh3d": [
           {
            "colorbar": {
             "outlinewidth": 0,
             "ticks": ""
            },
            "type": "mesh3d"
           }
          ],
          "parcoords": [
           {
            "line": {
             "colorbar": {
              "outlinewidth": 0,
              "ticks": ""
             }
            },
            "type": "parcoords"
           }
          ],
          "pie": [
           {
            "automargin": true,
            "type": "pie"
           }
          ],
          "scatter": [
           {
            "fillpattern": {
             "fillmode": "overlay",
             "size": 10,
             "solidity": 0.2
            },
            "type": "scatter"
           }
          ],
          "scatter3d": [
           {
            "line": {
             "colorbar": {
              "outlinewidth": 0,
              "ticks": ""
             }
            },
            "marker": {
             "colorbar": {
              "outlinewidth": 0,
              "ticks": ""
             }
            },
            "type": "scatter3d"
           }
          ],
          "scattercarpet": [
           {
            "marker": {
             "colorbar": {
              "outlinewidth": 0,
              "ticks": ""
             }
            },
            "type": "scattercarpet"
           }
          ],
          "scattergeo": [
           {
            "marker": {
             "colorbar": {
              "outlinewidth": 0,
              "ticks": ""
             }
            },
            "type": "scattergeo"
           }
          ],
          "scattergl": [
           {
            "marker": {
             "colorbar": {
              "outlinewidth": 0,
              "ticks": ""
             }
            },
            "type": "scattergl"
           }
          ],
          "scattermap": [
           {
            "marker": {
             "colorbar": {
              "outlinewidth": 0,
              "ticks": ""
             }
            },
            "type": "scattermap"
           }
          ],
          "scattermapbox": [
           {
            "marker": {
             "colorbar": {
              "outlinewidth": 0,
              "ticks": ""
             }
            },
            "type": "scattermapbox"
           }
          ],
          "scatterpolar": [
           {
            "marker": {
             "colorbar": {
              "outlinewidth": 0,
              "ticks": ""
             }
            },
            "type": "scatterpolar"
           }
          ],
          "scatterpolargl": [
           {
            "marker": {
             "colorbar": {
              "outlinewidth": 0,
              "ticks": ""
             }
            },
            "type": "scatterpolargl"
           }
          ],
          "scatterternary": [
           {
            "marker": {
             "colorbar": {
              "outlinewidth": 0,
              "ticks": ""
             }
            },
            "type": "scatterternary"
           }
          ],
          "surface": [
           {
            "colorbar": {
             "outlinewidth": 0,
             "ticks": ""
            },
            "colorscale": [
             [
              0,
              "#0d0887"
             ],
             [
              0.1111111111111111,
              "#46039f"
             ],
             [
              0.2222222222222222,
              "#7201a8"
             ],
             [
              0.3333333333333333,
              "#9c179e"
             ],
             [
              0.4444444444444444,
              "#bd3786"
             ],
             [
              0.5555555555555556,
              "#d8576b"
             ],
             [
              0.6666666666666666,
              "#ed7953"
             ],
             [
              0.7777777777777778,
              "#fb9f3a"
             ],
             [
              0.8888888888888888,
              "#fdca26"
             ],
             [
              1,
              "#f0f921"
             ]
            ],
            "type": "surface"
           }
          ],
          "table": [
           {
            "cells": {
             "fill": {
              "color": "#EBF0F8"
             },
             "line": {
              "color": "white"
             }
            },
            "header": {
             "fill": {
              "color": "#C8D4E3"
             },
             "line": {
              "color": "white"
             }
            },
            "type": "table"
           }
          ]
         },
         "layout": {
          "annotationdefaults": {
           "arrowcolor": "#2a3f5f",
           "arrowhead": 0,
           "arrowwidth": 1
          },
          "autotypenumbers": "strict",
          "coloraxis": {
           "colorbar": {
            "outlinewidth": 0,
            "ticks": ""
           }
          },
          "colorscale": {
           "diverging": [
            [
             0,
             "#8e0152"
            ],
            [
             0.1,
             "#c51b7d"
            ],
            [
             0.2,
             "#de77ae"
            ],
            [
             0.3,
             "#f1b6da"
            ],
            [
             0.4,
             "#fde0ef"
            ],
            [
             0.5,
             "#f7f7f7"
            ],
            [
             0.6,
             "#e6f5d0"
            ],
            [
             0.7,
             "#b8e186"
            ],
            [
             0.8,
             "#7fbc41"
            ],
            [
             0.9,
             "#4d9221"
            ],
            [
             1,
             "#276419"
            ]
           ],
           "sequential": [
            [
             0,
             "#0d0887"
            ],
            [
             0.1111111111111111,
             "#46039f"
            ],
            [
             0.2222222222222222,
             "#7201a8"
            ],
            [
             0.3333333333333333,
             "#9c179e"
            ],
            [
             0.4444444444444444,
             "#bd3786"
            ],
            [
             0.5555555555555556,
             "#d8576b"
            ],
            [
             0.6666666666666666,
             "#ed7953"
            ],
            [
             0.7777777777777778,
             "#fb9f3a"
            ],
            [
             0.8888888888888888,
             "#fdca26"
            ],
            [
             1,
             "#f0f921"
            ]
           ],
           "sequentialminus": [
            [
             0,
             "#0d0887"
            ],
            [
             0.1111111111111111,
             "#46039f"
            ],
            [
             0.2222222222222222,
             "#7201a8"
            ],
            [
             0.3333333333333333,
             "#9c179e"
            ],
            [
             0.4444444444444444,
             "#bd3786"
            ],
            [
             0.5555555555555556,
             "#d8576b"
            ],
            [
             0.6666666666666666,
             "#ed7953"
            ],
            [
             0.7777777777777778,
             "#fb9f3a"
            ],
            [
             0.8888888888888888,
             "#fdca26"
            ],
            [
             1,
             "#f0f921"
            ]
           ]
          },
          "colorway": [
           "#636efa",
           "#EF553B",
           "#00cc96",
           "#ab63fa",
           "#FFA15A",
           "#19d3f3",
           "#FF6692",
           "#B6E880",
           "#FF97FF",
           "#FECB52"
          ],
          "font": {
           "color": "#2a3f5f"
          },
          "geo": {
           "bgcolor": "white",
           "lakecolor": "white",
           "landcolor": "#E5ECF6",
           "showlakes": true,
           "showland": true,
           "subunitcolor": "white"
          },
          "hoverlabel": {
           "align": "left"
          },
          "hovermode": "closest",
          "mapbox": {
           "style": "light"
          },
          "paper_bgcolor": "white",
          "plot_bgcolor": "#E5ECF6",
          "polar": {
           "angularaxis": {
            "gridcolor": "white",
            "linecolor": "white",
            "ticks": ""
           },
           "bgcolor": "#E5ECF6",
           "radialaxis": {
            "gridcolor": "white",
            "linecolor": "white",
            "ticks": ""
           }
          },
          "scene": {
           "xaxis": {
            "backgroundcolor": "#E5ECF6",
            "gridcolor": "white",
            "gridwidth": 2,
            "linecolor": "white",
            "showbackground": true,
            "ticks": "",
            "zerolinecolor": "white"
           },
           "yaxis": {
            "backgroundcolor": "#E5ECF6",
            "gridcolor": "white",
            "gridwidth": 2,
            "linecolor": "white",
            "showbackground": true,
            "ticks": "",
            "zerolinecolor": "white"
           },
           "zaxis": {
            "backgroundcolor": "#E5ECF6",
            "gridcolor": "white",
            "gridwidth": 2,
            "linecolor": "white",
            "showbackground": true,
            "ticks": "",
            "zerolinecolor": "white"
           }
          },
          "shapedefaults": {
           "line": {
            "color": "#2a3f5f"
           }
          },
          "ternary": {
           "aaxis": {
            "gridcolor": "white",
            "linecolor": "white",
            "ticks": ""
           },
           "baxis": {
            "gridcolor": "white",
            "linecolor": "white",
            "ticks": ""
           },
           "bgcolor": "#E5ECF6",
           "caxis": {
            "gridcolor": "white",
            "linecolor": "white",
            "ticks": ""
           }
          },
          "title": {
           "x": 0.05
          },
          "xaxis": {
           "automargin": true,
           "gridcolor": "white",
           "linecolor": "white",
           "ticks": "",
           "title": {
            "standoff": 15
           },
           "zerolinecolor": "white",
           "zerolinewidth": 2
          },
          "yaxis": {
           "automargin": true,
           "gridcolor": "white",
           "linecolor": "white",
           "ticks": "",
           "title": {
            "standoff": 15
           },
           "zerolinecolor": "white",
           "zerolinewidth": 2
          }
         }
        },
        "xaxis": {
         "anchor": "y",
         "domain": [
          0,
          1
         ],
         "title": {
          "text": "x"
         }
        },
        "yaxis": {
         "anchor": "x",
         "constrain": "domain",
         "domain": [
          0,
          1
         ],
         "scaleanchor": "x",
         "title": {
          "text": "y"
         }
        }
       }
      }
     },
     "metadata": {},
     "output_type": "display_data"
    }
   ],
   "source": [
    "px.scatter(price_data.query(\"floor == 0\"), x=\"x\", y=\"y\", color=\"price\").update_layout(yaxis_scaleanchor=\"x\", yaxis_constrain=\"domain\")"
   ]
  },
  {
   "cell_type": "code",
   "execution_count": 24,
   "id": "f3ca0e7e",
   "metadata": {},
   "outputs": [],
   "source": [
    "dataset = price_data[[\"x\", \"y\", \"floor\"]].to_numpy().astype(np.float32)\n",
    "values = price_data[\"price\"].to_numpy().astype(np.float32)"
   ]
  },
  {
   "cell_type": "code",
   "execution_count": 29,
   "id": "527d147e",
   "metadata": {},
   "outputs": [],
   "source": [
    "query_points = np.array([[7, 0.5, 1]])"
   ]
  },
  {
   "cell_type": "code",
   "execution_count": 30,
   "id": "965dfa25",
   "metadata": {},
   "outputs": [
    {
     "data": {
      "text/plain": [
       "Array(552.65857, dtype=float32)"
      ]
     },
     "execution_count": 30,
     "metadata": {},
     "output_type": "execute_result"
    }
   ],
   "source": [
    "knn_mean_jax(query_points, dataset, values, k=5)"
   ]
  },
  {
   "cell_type": "code",
   "execution_count": 37,
   "id": "45804a2e",
   "metadata": {},
   "outputs": [],
   "source": [
    "locations = np.array([\n",
    "    [2.5, 3.8],    # School\n",
    "    [-1.2, 0.5],   # Work\n",
    "    [4.1, -2.3],   # Parents\n",
    "    [-0.8, 2.9],   # Sports Club\n",
    "], dtype=np.float32)\n",
    "min_price_bound = 700\n",
    "max_price_bound = 1500\n",
    "k = 5\n",
    "\n",
    "\n",
    "def objective(x: jnp.ndarray) -> float:\n",
    "    # Compute Euclidean distances to each location\n",
    "    dists = euclidean_distances_jax_jit(x[:2], locations)\n",
    "    # Return the mean distance\n",
    "    return jnp.mean(dists)\n",
    "\n",
    "\n",
    "def price(x: jnp.ndarray) -> float:\n",
    "    price = knn_mean_jax_jit(x, dataset, values, k=k)\n",
    "    return price"
   ]
  },
  {
   "cell_type": "code",
   "execution_count": 38,
   "id": "cd4975e2",
   "metadata": {},
   "outputs": [
    {
     "name": "stdout",
     "output_type": "stream",
     "text": [
      "Objective: 3.344606399536133\n",
      "Price: 1570.916015625\n"
     ]
    }
   ],
   "source": [
    "x_test = jnp.array([2, 1, 3])\n",
    "print(f\"Objective: {objective(x_test)}\")\n",
    "print(f\"Price: {price(x_test)}\")"
   ]
  },
  {
   "cell_type": "code",
   "execution_count": 41,
   "id": "5856dbd8",
   "metadata": {},
   "outputs": [
    {
     "name": "stdout",
     "output_type": "stream",
     "text": [
      "`xtol` termination condition is satisfied.\n",
      "Number of iterations: 188, function evaluations: 207, CG iterations: 185, optimality: 4.74e-02, constraint violation: 0.00e+00, execution time: 0.82 s.\n"
     ]
    },
    {
     "data": {
      "text/plain": [
       "           message: `xtol` termination condition is satisfied.\n",
       "           success: True\n",
       "            status: 2\n",
       "               fun: 3.0321483612060547\n",
       "                 x: [ 5.041e-01  1.814e+00  1.046e+00]\n",
       "               nit: 188\n",
       "              nfev: 207\n",
       "              njev: 63\n",
       "              nhev: 63\n",
       "          cg_niter: 185\n",
       "      cg_stop_cond: 2\n",
       "              grad: [ 4.835e-02  4.485e-03  0.000e+00]\n",
       "   lagrangian_grad: [ 4.739e-02  4.388e-03 -8.976e-10]\n",
       "            constr: [array([ 1.453e+03], dtype=float32), array([ 5.041e-01,  1.814e+00,  1.046e+00])]\n",
       "               jac: [array([[ 0.000e+00,  0.000e+00,  0.000e+00]],\n",
       "                          dtype=float32), array([[ 1.000e+00,  0.000e+00,  0.000e+00],\n",
       "                           [ 0.000e+00,  1.000e+00,  0.000e+00],\n",
       "                           [ 0.000e+00,  0.000e+00,  1.000e+00]])]\n",
       "       constr_nfev: [207, 0]\n",
       "       constr_njev: [207, 0]\n",
       "       constr_nhev: [0, 0]\n",
       "                 v: [array([ 4.050e-11]), array([-9.551e-04, -9.691e-05, -8.976e-10])]\n",
       "            method: tr_interior_point\n",
       "        optimality: 0.04739007\n",
       "  constr_violation: 0.0\n",
       "    execution_time: 0.819115161895752\n",
       "         tr_radius: 1.6778955143611318e-09\n",
       "    constr_penalty: 1.0\n",
       " barrier_parameter: 2.048000000000001e-09\n",
       " barrier_tolerance: 2.048000000000001e-09\n",
       "             niter: 188"
      ]
     },
     "execution_count": 41,
     "metadata": {},
     "output_type": "execute_result"
    }
   ],
   "source": [
    "import scipy.optimize\n",
    "\n",
    "\n",
    "x_bounds = scipy.optimize.Bounds([-10, -10, 0], [10, 10, 10])\n",
    "\n",
    "price_constraint = scipy.optimize.NonlinearConstraint(price, min_price_bound, max_price_bound, jac=jax.jacobian(price))\n",
    "\n",
    "\n",
    "objective_jac = jax.jacobian(objective)\n",
    "\n",
    "objective_hess = jax.hessian(objective)\n",
    "\n",
    "x_opt = scipy.optimize.minimize(\n",
    "    objective,\n",
    "    x0=[2, 2, 0],\n",
    "    method=\"trust-constr\",\n",
    "    jac=objective_jac,\n",
    "    hess=objective_hess,\n",
    "    constraints=[price_constraint],\n",
    "    # jac=\"2-point\",\n",
    "    # hess=scipy.optimize.BFGS(),\n",
    "    bounds=x_bounds,\n",
    "    options={\"verbose\": 1},\n",
    "    tol=1e-8,\n",
    ")\n",
    "\n",
    "x_opt\n"
   ]
  },
  {
   "cell_type": "code",
   "execution_count": 46,
   "id": "fea64c48",
   "metadata": {},
   "outputs": [
    {
     "data": {
      "application/vnd.plotly.v1+json": {
       "config": {
        "plotlyServerURL": "https://plot.ly"
       },
       "data": [
        {
         "marker": {
          "color": "blue",
          "size": 14
         },
         "mode": "markers+text",
         "name": "Locations",
         "text": [
          "Location 0",
          "Location 1",
          "Location 2",
          "Location 3"
         ],
         "textposition": "top right",
         "type": "scatter",
         "x": {
          "bdata": "AAAgQJqZmb8zM4NAzcxMvw==",
          "dtype": "f4"
         },
         "y": {
          "bdata": "MzNzQAAAAD8zMxPAmpk5QA==",
          "dtype": "f4"
         }
        },
        {
         "marker": {
          "color": "red",
          "size": 20,
          "symbol": "star"
         },
         "mode": "markers+text",
         "name": "Optimum",
         "text": [
          "Optimum"
         ],
         "textposition": "bottom left",
         "type": "scatter",
         "x": [
          0.5040801527082455
         ],
         "y": [
          1.8136110664022818
         ]
        }
       ],
       "layout": {
        "height": 700,
        "legend": {
         "x": 0.01,
         "y": 0.99
        },
        "template": {
         "data": {
          "bar": [
           {
            "error_x": {
             "color": "#2a3f5f"
            },
            "error_y": {
             "color": "#2a3f5f"
            },
            "marker": {
             "line": {
              "color": "#E5ECF6",
              "width": 0.5
             },
             "pattern": {
              "fillmode": "overlay",
              "size": 10,
              "solidity": 0.2
             }
            },
            "type": "bar"
           }
          ],
          "barpolar": [
           {
            "marker": {
             "line": {
              "color": "#E5ECF6",
              "width": 0.5
             },
             "pattern": {
              "fillmode": "overlay",
              "size": 10,
              "solidity": 0.2
             }
            },
            "type": "barpolar"
           }
          ],
          "carpet": [
           {
            "aaxis": {
             "endlinecolor": "#2a3f5f",
             "gridcolor": "white",
             "linecolor": "white",
             "minorgridcolor": "white",
             "startlinecolor": "#2a3f5f"
            },
            "baxis": {
             "endlinecolor": "#2a3f5f",
             "gridcolor": "white",
             "linecolor": "white",
             "minorgridcolor": "white",
             "startlinecolor": "#2a3f5f"
            },
            "type": "carpet"
           }
          ],
          "choropleth": [
           {
            "colorbar": {
             "outlinewidth": 0,
             "ticks": ""
            },
            "type": "choropleth"
           }
          ],
          "contour": [
           {
            "colorbar": {
             "outlinewidth": 0,
             "ticks": ""
            },
            "colorscale": [
             [
              0,
              "#0d0887"
             ],
             [
              0.1111111111111111,
              "#46039f"
             ],
             [
              0.2222222222222222,
              "#7201a8"
             ],
             [
              0.3333333333333333,
              "#9c179e"
             ],
             [
              0.4444444444444444,
              "#bd3786"
             ],
             [
              0.5555555555555556,
              "#d8576b"
             ],
             [
              0.6666666666666666,
              "#ed7953"
             ],
             [
              0.7777777777777778,
              "#fb9f3a"
             ],
             [
              0.8888888888888888,
              "#fdca26"
             ],
             [
              1,
              "#f0f921"
             ]
            ],
            "type": "contour"
           }
          ],
          "contourcarpet": [
           {
            "colorbar": {
             "outlinewidth": 0,
             "ticks": ""
            },
            "type": "contourcarpet"
           }
          ],
          "heatmap": [
           {
            "colorbar": {
             "outlinewidth": 0,
             "ticks": ""
            },
            "colorscale": [
             [
              0,
              "#0d0887"
             ],
             [
              0.1111111111111111,
              "#46039f"
             ],
             [
              0.2222222222222222,
              "#7201a8"
             ],
             [
              0.3333333333333333,
              "#9c179e"
             ],
             [
              0.4444444444444444,
              "#bd3786"
             ],
             [
              0.5555555555555556,
              "#d8576b"
             ],
             [
              0.6666666666666666,
              "#ed7953"
             ],
             [
              0.7777777777777778,
              "#fb9f3a"
             ],
             [
              0.8888888888888888,
              "#fdca26"
             ],
             [
              1,
              "#f0f921"
             ]
            ],
            "type": "heatmap"
           }
          ],
          "histogram": [
           {
            "marker": {
             "pattern": {
              "fillmode": "overlay",
              "size": 10,
              "solidity": 0.2
             }
            },
            "type": "histogram"
           }
          ],
          "histogram2d": [
           {
            "colorbar": {
             "outlinewidth": 0,
             "ticks": ""
            },
            "colorscale": [
             [
              0,
              "#0d0887"
             ],
             [
              0.1111111111111111,
              "#46039f"
             ],
             [
              0.2222222222222222,
              "#7201a8"
             ],
             [
              0.3333333333333333,
              "#9c179e"
             ],
             [
              0.4444444444444444,
              "#bd3786"
             ],
             [
              0.5555555555555556,
              "#d8576b"
             ],
             [
              0.6666666666666666,
              "#ed7953"
             ],
             [
              0.7777777777777778,
              "#fb9f3a"
             ],
             [
              0.8888888888888888,
              "#fdca26"
             ],
             [
              1,
              "#f0f921"
             ]
            ],
            "type": "histogram2d"
           }
          ],
          "histogram2dcontour": [
           {
            "colorbar": {
             "outlinewidth": 0,
             "ticks": ""
            },
            "colorscale": [
             [
              0,
              "#0d0887"
             ],
             [
              0.1111111111111111,
              "#46039f"
             ],
             [
              0.2222222222222222,
              "#7201a8"
             ],
             [
              0.3333333333333333,
              "#9c179e"
             ],
             [
              0.4444444444444444,
              "#bd3786"
             ],
             [
              0.5555555555555556,
              "#d8576b"
             ],
             [
              0.6666666666666666,
              "#ed7953"
             ],
             [
              0.7777777777777778,
              "#fb9f3a"
             ],
             [
              0.8888888888888888,
              "#fdca26"
             ],
             [
              1,
              "#f0f921"
             ]
            ],
            "type": "histogram2dcontour"
           }
          ],
          "mesh3d": [
           {
            "colorbar": {
             "outlinewidth": 0,
             "ticks": ""
            },
            "type": "mesh3d"
           }
          ],
          "parcoords": [
           {
            "line": {
             "colorbar": {
              "outlinewidth": 0,
              "ticks": ""
             }
            },
            "type": "parcoords"
           }
          ],
          "pie": [
           {
            "automargin": true,
            "type": "pie"
           }
          ],
          "scatter": [
           {
            "fillpattern": {
             "fillmode": "overlay",
             "size": 10,
             "solidity": 0.2
            },
            "type": "scatter"
           }
          ],
          "scatter3d": [
           {
            "line": {
             "colorbar": {
              "outlinewidth": 0,
              "ticks": ""
             }
            },
            "marker": {
             "colorbar": {
              "outlinewidth": 0,
              "ticks": ""
             }
            },
            "type": "scatter3d"
           }
          ],
          "scattercarpet": [
           {
            "marker": {
             "colorbar": {
              "outlinewidth": 0,
              "ticks": ""
             }
            },
            "type": "scattercarpet"
           }
          ],
          "scattergeo": [
           {
            "marker": {
             "colorbar": {
              "outlinewidth": 0,
              "ticks": ""
             }
            },
            "type": "scattergeo"
           }
          ],
          "scattergl": [
           {
            "marker": {
             "colorbar": {
              "outlinewidth": 0,
              "ticks": ""
             }
            },
            "type": "scattergl"
           }
          ],
          "scattermap": [
           {
            "marker": {
             "colorbar": {
              "outlinewidth": 0,
              "ticks": ""
             }
            },
            "type": "scattermap"
           }
          ],
          "scattermapbox": [
           {
            "marker": {
             "colorbar": {
              "outlinewidth": 0,
              "ticks": ""
             }
            },
            "type": "scattermapbox"
           }
          ],
          "scatterpolar": [
           {
            "marker": {
             "colorbar": {
              "outlinewidth": 0,
              "ticks": ""
             }
            },
            "type": "scatterpolar"
           }
          ],
          "scatterpolargl": [
           {
            "marker": {
             "colorbar": {
              "outlinewidth": 0,
              "ticks": ""
             }
            },
            "type": "scatterpolargl"
           }
          ],
          "scatterternary": [
           {
            "marker": {
             "colorbar": {
              "outlinewidth": 0,
              "ticks": ""
             }
            },
            "type": "scatterternary"
           }
          ],
          "surface": [
           {
            "colorbar": {
             "outlinewidth": 0,
             "ticks": ""
            },
            "colorscale": [
             [
              0,
              "#0d0887"
             ],
             [
              0.1111111111111111,
              "#46039f"
             ],
             [
              0.2222222222222222,
              "#7201a8"
             ],
             [
              0.3333333333333333,
              "#9c179e"
             ],
             [
              0.4444444444444444,
              "#bd3786"
             ],
             [
              0.5555555555555556,
              "#d8576b"
             ],
             [
              0.6666666666666666,
              "#ed7953"
             ],
             [
              0.7777777777777778,
              "#fb9f3a"
             ],
             [
              0.8888888888888888,
              "#fdca26"
             ],
             [
              1,
              "#f0f921"
             ]
            ],
            "type": "surface"
           }
          ],
          "table": [
           {
            "cells": {
             "fill": {
              "color": "#EBF0F8"
             },
             "line": {
              "color": "white"
             }
            },
            "header": {
             "fill": {
              "color": "#C8D4E3"
             },
             "line": {
              "color": "white"
             }
            },
            "type": "table"
           }
          ]
         },
         "layout": {
          "annotationdefaults": {
           "arrowcolor": "#2a3f5f",
           "arrowhead": 0,
           "arrowwidth": 1
          },
          "autotypenumbers": "strict",
          "coloraxis": {
           "colorbar": {
            "outlinewidth": 0,
            "ticks": ""
           }
          },
          "colorscale": {
           "diverging": [
            [
             0,
             "#8e0152"
            ],
            [
             0.1,
             "#c51b7d"
            ],
            [
             0.2,
             "#de77ae"
            ],
            [
             0.3,
             "#f1b6da"
            ],
            [
             0.4,
             "#fde0ef"
            ],
            [
             0.5,
             "#f7f7f7"
            ],
            [
             0.6,
             "#e6f5d0"
            ],
            [
             0.7,
             "#b8e186"
            ],
            [
             0.8,
             "#7fbc41"
            ],
            [
             0.9,
             "#4d9221"
            ],
            [
             1,
             "#276419"
            ]
           ],
           "sequential": [
            [
             0,
             "#0d0887"
            ],
            [
             0.1111111111111111,
             "#46039f"
            ],
            [
             0.2222222222222222,
             "#7201a8"
            ],
            [
             0.3333333333333333,
             "#9c179e"
            ],
            [
             0.4444444444444444,
             "#bd3786"
            ],
            [
             0.5555555555555556,
             "#d8576b"
            ],
            [
             0.6666666666666666,
             "#ed7953"
            ],
            [
             0.7777777777777778,
             "#fb9f3a"
            ],
            [
             0.8888888888888888,
             "#fdca26"
            ],
            [
             1,
             "#f0f921"
            ]
           ],
           "sequentialminus": [
            [
             0,
             "#0d0887"
            ],
            [
             0.1111111111111111,
             "#46039f"
            ],
            [
             0.2222222222222222,
             "#7201a8"
            ],
            [
             0.3333333333333333,
             "#9c179e"
            ],
            [
             0.4444444444444444,
             "#bd3786"
            ],
            [
             0.5555555555555556,
             "#d8576b"
            ],
            [
             0.6666666666666666,
             "#ed7953"
            ],
            [
             0.7777777777777778,
             "#fb9f3a"
            ],
            [
             0.8888888888888888,
             "#fdca26"
            ],
            [
             1,
             "#f0f921"
            ]
           ]
          },
          "colorway": [
           "#636efa",
           "#EF553B",
           "#00cc96",
           "#ab63fa",
           "#FFA15A",
           "#19d3f3",
           "#FF6692",
           "#B6E880",
           "#FF97FF",
           "#FECB52"
          ],
          "font": {
           "color": "#2a3f5f"
          },
          "geo": {
           "bgcolor": "white",
           "lakecolor": "white",
           "landcolor": "#E5ECF6",
           "showlakes": true,
           "showland": true,
           "subunitcolor": "white"
          },
          "hoverlabel": {
           "align": "left"
          },
          "hovermode": "closest",
          "mapbox": {
           "style": "light"
          },
          "paper_bgcolor": "white",
          "plot_bgcolor": "#E5ECF6",
          "polar": {
           "angularaxis": {
            "gridcolor": "white",
            "linecolor": "white",
            "ticks": ""
           },
           "bgcolor": "#E5ECF6",
           "radialaxis": {
            "gridcolor": "white",
            "linecolor": "white",
            "ticks": ""
           }
          },
          "scene": {
           "xaxis": {
            "backgroundcolor": "#E5ECF6",
            "gridcolor": "white",
            "gridwidth": 2,
            "linecolor": "white",
            "showbackground": true,
            "ticks": "",
            "zerolinecolor": "white"
           },
           "yaxis": {
            "backgroundcolor": "#E5ECF6",
            "gridcolor": "white",
            "gridwidth": 2,
            "linecolor": "white",
            "showbackground": true,
            "ticks": "",
            "zerolinecolor": "white"
           },
           "zaxis": {
            "backgroundcolor": "#E5ECF6",
            "gridcolor": "white",
            "gridwidth": 2,
            "linecolor": "white",
            "showbackground": true,
            "ticks": "",
            "zerolinecolor": "white"
           }
          },
          "shapedefaults": {
           "line": {
            "color": "#2a3f5f"
           }
          },
          "ternary": {
           "aaxis": {
            "gridcolor": "white",
            "linecolor": "white",
            "ticks": ""
           },
           "baxis": {
            "gridcolor": "white",
            "linecolor": "white",
            "ticks": ""
           },
           "bgcolor": "#E5ECF6",
           "caxis": {
            "gridcolor": "white",
            "linecolor": "white",
            "ticks": ""
           }
          },
          "title": {
           "x": 0.05
          },
          "xaxis": {
           "automargin": true,
           "gridcolor": "white",
           "linecolor": "white",
           "ticks": "",
           "title": {
            "standoff": 15
           },
           "zerolinecolor": "white",
           "zerolinewidth": 2
          },
          "yaxis": {
           "automargin": true,
           "gridcolor": "white",
           "linecolor": "white",
           "ticks": "",
           "title": {
            "standoff": 15
           },
           "zerolinecolor": "white",
           "zerolinewidth": 2
          }
         }
        },
        "title": {
         "text": "Location Points and Optimum from Optimisation"
        },
        "width": 700,
        "xaxis": {
         "title": {
          "text": "X coordinate"
         }
        },
        "yaxis": {
         "title": {
          "text": "Y coordinate"
         }
        }
       }
      }
     },
     "metadata": {},
     "output_type": "display_data"
    }
   ],
   "source": [
    "import plotly.graph_objects as go\n",
    "\n",
    "def plot_locations_and_optimum(\n",
    "    locations: np.ndarray,\n",
    "    optimum: jnp.ndarray\n",
    ") -> None:\n",
    "    \"\"\"\n",
    "    Visualise the location points and the optimum found by optimisation using Plotly.\n",
    "\n",
    "    Args:\n",
    "        locations (list): List of Location objects with x, y, and name attributes.\n",
    "        optimum (jnp.ndarray): Optimised coordinates (at least 2D).\n",
    "\n",
    "    This function creates an interactive scatter plot of the key locations\n",
    "    (e.g., School, Work, Parents, Sports Club) and overlays the optimum\n",
    "    location found by the optimisation routine. This aids in interpreting\n",
    "    the optimisation result in the context of the real-world locations.\n",
    "\n",
    "    Example:\n",
    "        plot_locations_and_optimum(locations, x_opt.x)\n",
    "    \"\"\"\n",
    "    # Extract x and y coordinates and names from the locations\n",
    "    xs = locations[:, 0]\n",
    "    ys = locations[:, 1]\n",
    "    names = [f\"Location {i}\" for i in range(len(locations))]\n",
    "\n",
    "    # Prepare the scatter plot for locations\n",
    "    location_trace = go.Scatter(\n",
    "        x=xs,\n",
    "        y=ys,\n",
    "        mode=\"markers+text\",\n",
    "        name=\"Locations\",\n",
    "        marker=dict(size=14, color=\"blue\"),\n",
    "        text=names,\n",
    "        textposition=\"top right\"\n",
    "    )\n",
    "\n",
    "    # Prepare the scatter plot for the optimum\n",
    "    optimum_trace = go.Scatter(\n",
    "        x=[float(optimum[0])],\n",
    "        y=[float(optimum[1])],\n",
    "        mode=\"markers+text\",\n",
    "        name=\"Optimum\",\n",
    "        marker=dict(size=20, color=\"red\", symbol=\"star\"),\n",
    "        text=[\"Optimum\"],\n",
    "        textposition=\"bottom left\"\n",
    "    )\n",
    "\n",
    "    layout = go.Layout(\n",
    "        title=\"Location Points and Optimum from Optimisation\",\n",
    "        xaxis=dict(title=\"X coordinate\"),\n",
    "        yaxis=dict(title=\"Y coordinate\"),\n",
    "        legend=dict(x=0.01, y=0.99),\n",
    "        width=700,\n",
    "        height=700\n",
    "    )\n",
    "\n",
    "    fig = go.Figure(data=[location_trace, optimum_trace], layout=layout)\n",
    "    fig.show()\n",
    "\n",
    "plot_locations_and_optimum(locations, x_opt.x)"
   ]
  },
  {
   "cell_type": "code",
   "execution_count": null,
   "id": "95fe6b31",
   "metadata": {},
   "outputs": [],
   "source": []
  },
  {
   "cell_type": "code",
   "execution_count": null,
   "id": "f53ff1a7",
   "metadata": {},
   "outputs": [],
   "source": []
  }
 ],
 "metadata": {
  "kernelspec": {
   "display_name": ".venv",
   "language": "python",
   "name": "python3"
  },
  "language_info": {
   "codemirror_mode": {
    "name": "ipython",
    "version": 3
   },
   "file_extension": ".py",
   "mimetype": "text/x-python",
   "name": "python",
   "nbconvert_exporter": "python",
   "pygments_lexer": "ipython3",
   "version": "3.12.5"
  }
 },
 "nbformat": 4,
 "nbformat_minor": 5
}
