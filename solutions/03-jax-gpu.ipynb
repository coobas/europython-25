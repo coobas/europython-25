{
  "cells": [
    {
      "cell_type": "markdown",
      "id": "a7f01ae3",
      "metadata": {
        "id": "a7f01ae3"
      },
      "source": [
        "# JAX on GPU\n",
        "\n",
        "In this notebook we will see how to run JAX code on GPU. We should see the difference in performance compared to CPU. This will be demonstrated on the already known Euclidean distance function.\n",
        "\n",
        "An advantage of JAX is that running on different devices, like GPU or TPU, is quite seamless. JAX can automatically run the code on the device that is available.\n",
        "\n",
        "## Caveats of GPU Computing with JAX\n",
        "\n",
        "While running JAX code on a GPU can provide significant speed-ups for large-scale numerical computations, there are several important caveats to keep in mind:\n",
        "\n",
        "- **Data Transfer Overhead**: Moving data between the CPU (host) and GPU (device) can be slow. For small datasets or frequent transfers, this overhead may outweigh the performance gains of GPU acceleration.\n",
        "\n",
        "- **JAX Array Semantics**: JAX operations are performed on `DeviceArray` objects, which reside on a specific device. Mixing NumPy arrays (on CPU) and JAX arrays (on GPU) can lead to implicit, costly data transfers. Always ensure your data is on the correct device before computation.\n",
        "\n",
        "- **GPU Memory Limitations**: GPUs typically have much less memory than CPUs. Large datasets may not fit in GPU memory, leading to out-of-memory errors.\n",
        "\n",
        "- **Non-Universal Speedup**: Not all algorithms benefit equally from GPU acceleration. Simple or memory-bound operations may not see significant improvements.\n",
        "\n",
        "- **Device Availability**: Code that runs on GPU in one environment (such as Colab) may fall back to CPU elsewhere. Always check which devices are available and handle the absence of a GPU gracefully.\n",
        "\n",
        "- **Reproducibility**: Floating-point computations on GPU may yield slightly different results compared to CPU, due to differences in hardware and parallel execution order.\n",
        "\n",
        "\n",
        "## Running in Colab\n",
        "\n",
        "Make sure to select the GPU runtime in the top right corner of the notebook.\n",
        "\n",
        "![How to change runtime to GPU in Colab](images/change-runtime-1.png)\n",
        "![How to change runtime to GPU in Colab](images/change-runtime-2.png)\n"
      ]
    },
    {
      "cell_type": "code",
      "execution_count": 1,
      "id": "df4da720",
      "metadata": {
        "id": "df4da720"
      },
      "outputs": [],
      "source": [
        "import numpy as np\n",
        "import pandas as pd\n",
        "import jax\n",
        "\n",
        "import plotly.express as px\n",
        "import plotly.graph_objects as go\n"
      ]
    },
    {
      "cell_type": "code",
      "execution_count": 3,
      "id": "p0aCmISh8oMT",
      "metadata": {
        "colab": {
          "base_uri": "https://localhost:8080/"
        },
        "id": "p0aCmISh8oMT",
        "outputId": "98ea08b4-2eaf-4c26-c2b9-2fe4d5f165d5"
      },
      "outputs": [
        {
          "name": "stdout",
          "output_type": "stream",
          "text": [
            "Jax devices: [CpuDevice(id=0)]\n",
            "WARNING:No GPU found!\n"
          ]
        }
      ],
      "source": [
        "print(f\"Jax devices: {jax.devices()}\")\n",
        "if not(any(device.platform == \"gpu\" for device in jax.devices())):\n",
        "    print(\"WARNING:No GPU found!\")"
      ]
    },
    {
      "cell_type": "markdown",
      "id": "2471889a",
      "metadata": {},
      "source": [
        "You should see something like\n",
        "```\n",
        "Jax devices: [CudaDevice(id=0)]\n",
        "```\n",
        "when running properly with a GPU device. There will be a warning if there is no GPU device.\n"
      ]
    },
    {
      "cell_type": "markdown",
      "id": "e4f52870",
      "metadata": {
        "id": "e4f52870"
      },
      "source": [
        "### Performance\n",
        "\n",
        "Let's measure the performance (run time) of our algorithm. We will use the `%timeit` magic command to measure the time it takes to run the algorithm."
      ]
    },
    {
      "cell_type": "code",
      "execution_count": 7,
      "id": "9fe843aa",
      "metadata": {
        "id": "9fe843aa"
      },
      "outputs": [],
      "source": [
        "n_dataset_points: int = 10_000\n",
        "n_query_points: int = 100\n",
        "n_dim: int = 3\n",
        "k: int = 5\n",
        "\n",
        "\n",
        "def create_random_data(\n",
        "    n_points: int, n_dim: int, *, seed: int = 42\n",
        ") -> np.ndarray:\n",
        "    np.random.seed(seed)\n",
        "    return np.random.sample((n_points, n_dim)).astype(np.float32)\n",
        "\n",
        "dataset = create_random_data(n_dataset_points, n_dim, seed=420)\n"
      ]
    },
    {
      "cell_type": "markdown",
      "id": "8bbef249",
      "metadata": {
        "id": "8bbef249"
      },
      "source": [
        "## JAX on GPU\n",
        "\n"
      ]
    },
    {
      "cell_type": "code",
      "execution_count": 8,
      "id": "1a01f9f9",
      "metadata": {
        "colab": {
          "base_uri": "https://localhost:8080/"
        },
        "id": "1a01f9f9",
        "outputId": "b30925d6-804d-4031-b085-ba8b4f1b269b"
      },
      "outputs": [
        {
          "name": "stdout",
          "output_type": "stream",
          "text": [
            "[0.        1.05      2.1       3.1499999 4.2      ]\n"
          ]
        }
      ],
      "source": [
        "import jax\n",
        "import jax.numpy as jnp\n",
        "\n",
        "def selu(x: jnp.ndarray, alpha: float = 1.67, lmbda: float = 1.05) -> jnp.ndarray:\n",
        "    return lmbda * jnp.where(x > 0, x, alpha * jnp.exp(x) - alpha)\n",
        "\n",
        "\n",
        "x = jnp.arange(5.0)\n",
        "print(selu(x))"
      ]
    },
    {
      "cell_type": "code",
      "execution_count": 9,
      "id": "3fkVsLRy9oVD",
      "metadata": {
        "colab": {
          "base_uri": "https://localhost:8080/"
        },
        "id": "3fkVsLRy9oVD",
        "outputId": "bbfe232b-b6f3-47b2-aa86-c838c5cbbf9e"
      },
      "outputs": [
        {
          "data": {
            "text/plain": [
              "CudaDevice(id=0)"
            ]
          },
          "execution_count": 9,
          "metadata": {},
          "output_type": "execute_result"
        }
      ],
      "source": [
        "x.device"
      ]
    },
    {
      "cell_type": "code",
      "execution_count": 10,
      "id": "7e19f55f",
      "metadata": {
        "colab": {
          "base_uri": "https://localhost:8080/"
        },
        "id": "7e19f55f",
        "outputId": "5c3297c7-9406-420f-f8a0-5471e39327ea"
      },
      "outputs": [
        {
          "name": "stdout",
          "output_type": "stream",
          "text": [
            "1.11 ms ± 95.1 µs per loop (mean ± std. dev. of 7 runs, 1 loop each)\n"
          ]
        }
      ],
      "source": [
        "key = jax.random.key(1701)\n",
        "x = jax.random.normal(key, (1_000_000,))\n",
        "\n",
        "%timeit selu(x).block_until_ready()"
      ]
    },
    {
      "cell_type": "code",
      "execution_count": 11,
      "id": "4701b92a",
      "metadata": {
        "colab": {
          "base_uri": "https://localhost:8080/"
        },
        "id": "4701b92a",
        "outputId": "e0ebc4cc-6b9e-495a-b7e9-18fd3864d20a"
      },
      "outputs": [
        {
          "name": "stdout",
          "output_type": "stream",
          "text": [
            "[-0.83556366  0.33142313 -0.9244633 ]\n"
          ]
        }
      ],
      "source": [
        "selu_jit = jax.jit(selu)\n",
        "\n",
        "print(selu_jit(x)[:3])"
      ]
    },
    {
      "cell_type": "markdown",
      "id": "b4a569bd",
      "metadata": {
        "id": "b4a569bd"
      },
      "source": [
        "Two important things happened above:\n",
        "\n",
        "1. We instructed to Just-In-Time (JIT) compile the function when we call it.\n",
        "2. The function *was* compiled in the `print` call. It was compiled for the *concrete input type and shape*.\n",
        "\n",
        "\n",
        "\n",
        "\n",
        "\n"
      ]
    },
    {
      "cell_type": "code",
      "execution_count": 12,
      "id": "9d6c4790",
      "metadata": {
        "colab": {
          "base_uri": "https://localhost:8080/"
        },
        "id": "9d6c4790",
        "outputId": "777d5fcd-be24-4cb1-f450-ebf0024c1ab3"
      },
      "outputs": [
        {
          "name": "stdout",
          "output_type": "stream",
          "text": [
            "175 µs ± 29.9 µs per loop (mean ± std. dev. of 7 runs, 10000 loops each)\n"
          ]
        }
      ],
      "source": [
        "%timeit selu_jit(x).block_until_ready()"
      ]
    },
    {
      "cell_type": "markdown",
      "id": "2abab23d",
      "metadata": {
        "id": "2abab23d"
      },
      "source": [
        "The compiled function is significantly faster than the uncompiled one!\n",
        "\n",
        "And also much faster than the CPU version (which was around 1 ms)!"
      ]
    },
    {
      "cell_type": "markdown",
      "id": "b7692fc3",
      "metadata": {
        "id": "b7692fc3"
      },
      "source": [
        "### Exercise: JIT compiling Euclidean distance\n",
        "\n",
        "1. Create a JIT-compiled version of the Euclidean distance function for GPU.\n",
        "2. Compare the performance of the CPU and GPU versions.\n",
        "\n",
        "Optionally:\n",
        "\n",
        "3. Check that the GPU version yields the same result as the CPU version.\n",
        "4. Compare the scaling of the performance of CPU and GPU versions with respect to the number of query points or the number of dimensions."
      ]
    },
    {
      "cell_type": "code",
      "execution_count": 17,
      "id": "d0fb6d67",
      "metadata": {
        "id": "d0fb6d67"
      },
      "outputs": [],
      "source": [
        "import jax\n",
        "import jax.numpy as jnp\n",
        "\n",
        "\n",
        "def euclidean_distances_jax(\n",
        "    query_points: jnp.ndarray, dataset: jnp.ndarray\n",
        ") -> jnp.ndarray:\n",
        "    \"\"\"\n",
        "    Calculates the Euclidean distance between a set of query points and a dataset of points.\n",
        "\n",
        "    Args:\n",
        "        query_points (jnp.ndarray): Array of shape (n_queries, n_features).\n",
        "        dataset (jnp.ndarray): Array of shape (n_samples, n_features).\n",
        "\n",
        "    Returns:\n",
        "        jnp.ndarray: The Euclidean distance between the query points and the dataset.\n",
        "    \"\"\"\n",
        "    # Broadcasting (dataset - query_point) subtracts query_point from each row of dataset\n",
        "    return jnp.sqrt(jnp.sum((dataset[:, jnp.newaxis, :] - query_points) ** 2, axis=-1))\n",
        "\n",
        "\n",
        "euclidean_distances_jax_jit = jax.jit(euclidean_distances_jax)"
      ]
    },
    {
      "cell_type": "code",
      "execution_count": 19,
      "id": "f0821e3a",
      "metadata": {
        "id": "f0821e3a"
      },
      "outputs": [],
      "source": [
        "n_dataset_points: int = 10_000\n",
        "n_query_points: int = 100\n",
        "n_dim: int = 3\n",
        "k: int = 5\n",
        "\n",
        "\n",
        "dataset = create_random_data(n_dataset_points, n_dim, seed=420)\n",
        "query_points = create_random_data(n_query_points, n_dim, seed=421)\n",
        "\n",
        "dataset_jax = jnp.array(dataset)\n",
        "query_points_jax = jnp.array(query_points)\n",
        "\n",
        "np.testing.assert_allclose(euclidean_distances_numpy(query_points, dataset), euclidean_distances_jax(query_points_jax, dataset_jax), rtol=1e-6)\n",
        "np.testing.assert_allclose(euclidean_distances_numpy(query_points, dataset), euclidean_distances_jax_jit(query_points_jax, dataset_jax), rtol=1e-6)"
      ]
    },
    {
      "cell_type": "code",
      "execution_count": 20,
      "id": "c35b7a6a",
      "metadata": {
        "colab": {
          "base_uri": "https://localhost:8080/"
        },
        "id": "c35b7a6a",
        "outputId": "1a0cb354-2780-40ae-b470-15512d6e3d30"
      },
      "outputs": [
        {
          "name": "stdout",
          "output_type": "stream",
          "text": [
            "28.8 ms ± 823 µs per loop (mean ± std. dev. of 7 runs, 10 loops each)\n",
            "1.14 ms ± 67.8 µs per loop (mean ± std. dev. of 7 runs, 1000 loops each)\n",
            "169 µs ± 27.9 µs per loop (mean ± std. dev. of 7 runs, 10000 loops each)\n"
          ]
        }
      ],
      "source": [
        "%timeit euclidean_distances_numpy(query_points, dataset)\n",
        "%timeit euclidean_distances_jax(query_points_jax, dataset_jax).block_until_ready()\n",
        "%timeit euclidean_distances_jax_jit(query_points_jax, dataset_jax).block_until_ready()"
      ]
    },
    {
      "cell_type": "code",
      "execution_count": 21,
      "id": "1a68b689",
      "metadata": {
        "colab": {
          "base_uri": "https://localhost:8080/"
        },
        "id": "1a68b689",
        "outputId": "b2cec047-4cf4-4ee2-eced-6712ca9301af"
      },
      "outputs": [
        {
          "name": "stdout",
          "output_type": "stream",
          "text": [
            "249 µs ± 6.35 µs per loop (mean ± std. dev. of 7 runs, 1000 loops each)\n",
            "28.4 ms ± 1.21 ms per loop (mean ± std. dev. of 7 runs, 10 loops each)\n",
            "308 ms ± 4.31 ms per loop (mean ± std. dev. of 7 runs, 1 loop each)\n",
            "3.52 s ± 294 ms per loop (mean ± std. dev. of 7 runs, 1 loop each)\n",
            "364 µs ± 131 µs per loop (mean ± std. dev. of 7 runs, 1000 loops each)\n",
            "36.3 ms ± 5.03 ms per loop (mean ± std. dev. of 7 runs, 10 loops each)\n",
            "373 ms ± 37 ms per loop (mean ± std. dev. of 7 runs, 1 loop each)\n",
            "3.89 s ± 258 ms per loop (mean ± std. dev. of 7 runs, 1 loop each)\n",
            "466 µs ± 16.8 µs per loop (mean ± std. dev. of 7 runs, 1000 loops each)\n",
            "14.7 ms ± 2.62 ms per loop (mean ± std. dev. of 7 runs, 100 loops each)\n",
            "157 ms ± 21.9 ms per loop (mean ± std. dev. of 7 runs, 10 loops each)\n",
            "1.63 s ± 224 ms per loop (mean ± std. dev. of 7 runs, 1 loop each)\n",
            "668 µs ± 199 µs per loop (mean ± std. dev. of 7 runs, 1000 loops each)\n",
            "19.6 ms ± 2.04 ms per loop (mean ± std. dev. of 7 runs, 100 loops each)\n",
            "206 ms ± 5.92 ms per loop (mean ± std. dev. of 7 runs, 1 loop each)\n",
            "2.09 s ± 209 ms per loop (mean ± std. dev. of 7 runs, 1 loop each)\n",
            "263 µs ± 18.3 µs per loop (mean ± std. dev. of 7 runs, 1000 loops each)\n",
            "273 µs ± 9.75 µs per loop (mean ± std. dev. of 7 runs, 1000 loops each)\n",
            "511 µs ± 41.8 µs per loop (mean ± std. dev. of 7 runs, 1000 loops each)\n",
            "2.07 ms ± 44.5 µs per loop (mean ± std. dev. of 7 runs, 100 loops each)\n",
            "271 µs ± 14.1 µs per loop (mean ± std. dev. of 7 runs, 1000 loops each)\n",
            "296 µs ± 12.9 µs per loop (mean ± std. dev. of 7 runs, 1000 loops each)\n",
            "648 µs ± 17.8 µs per loop (mean ± std. dev. of 7 runs, 1000 loops each)\n",
            "3.85 ms ± 52 µs per loop (mean ± std. dev. of 7 runs, 100 loops each)\n"
          ]
        }
      ],
      "source": [
        "euclidean_execution_times = []\n",
        "euclidean_distances_jax_jit.__name__ = \"euclidean_distances_jax_jit\"\n",
        "\n",
        "for function in [euclidean_distances_numpy, euclidean_distances_jax, euclidean_distances_jax_jit]:\n",
        "    for n_dim in [2, 4]:\n",
        "        dataset = create_random_data(n_dataset_points, n_dim)\n",
        "        for n_query_points in [1, 100, 1_000, 10_000]:\n",
        "            query_points = create_random_data(n_query_points, n_dim)\n",
        "            if \"numpy\" in function.__name__:\n",
        "                execution_time = %timeit -o function(query_points, dataset)\n",
        "            else:\n",
        "                function(query_points, dataset).block_until_ready()\n",
        "                execution_time = %timeit -o function(query_points, dataset).block_until_ready()\n",
        "            euclidean_execution_times.append(\n",
        "                {\n",
        "                    \"n_query_points\": n_query_points,\n",
        "                    \"n_dataset_points\": n_dataset_points,\n",
        "                    \"n_dim\": n_dim,\n",
        "                    \"execution_time\": execution_time.average,\n",
        "                    \"function\": function.__name__,\n",
        "                }\n",
        "            )\n"
      ]
    },
    {
      "cell_type": "code",
      "execution_count": null,
      "id": "8ac0fcb7",
      "metadata": {
        "colab": {
          "base_uri": "https://localhost:8080/",
          "height": 542
        },
        "id": "8ac0fcb7",
        "outputId": "f49475ef-767d-4ecb-e329-e5311c521de6"
      },
      "outputs": [
        {
          "data": {
            "text/html": [
              "<html>\n",
              "<head><meta charset=\"utf-8\" /></head>\n",
              "<body>\n",
              "    <div>            <script src=\"https://cdnjs.cloudflare.com/ajax/libs/mathjax/2.7.5/MathJax.js?config=TeX-AMS-MML_SVG\"></script><script type=\"text/javascript\">if (window.MathJax && window.MathJax.Hub && window.MathJax.Hub.Config) {window.MathJax.Hub.Config({SVG: {font: \"STIX-Web\"}});}</script>                <script type=\"text/javascript\">window.PlotlyConfig = {MathJaxConfig: 'local'};</script>\n",
              "        <script charset=\"utf-8\" src=\"https://cdn.plot.ly/plotly-2.35.2.min.js\"></script>                <div id=\"9517df6e-55d8-44bb-a572-d33868410960\" class=\"plotly-graph-div\" style=\"height:525px; width:100%;\"></div>            <script type=\"text/javascript\">                                    window.PLOTLYENV=window.PLOTLYENV || {};                                    if (document.getElementById(\"9517df6e-55d8-44bb-a572-d33868410960\")) {                    Plotly.newPlot(                        \"9517df6e-55d8-44bb-a572-d33868410960\",                        [{\"hovertemplate\":\"function=euclidean_distances_numpy\\u003cbr\\u003en_dim=2\\u003cbr\\u003eNumber of Query Points=%{x}\\u003cbr\\u003eExecution Time (s)=%{y}\\u003cextra\\u003e\\u003c\\u002fextra\\u003e\",\"legendgroup\":\"euclidean_distances_numpy, 2\",\"line\":{\"color\":\"#636efa\",\"dash\":\"solid\"},\"marker\":{\"symbol\":\"circle\"},\"mode\":\"lines+markers\",\"name\":\"euclidean_distances_numpy, 2\",\"orientation\":\"v\",\"showlegend\":true,\"x\":[1,100,1000,10000],\"xaxis\":\"x\",\"y\":[0.0002491174571428587,0.028378242299999912,0.30841474628571824,3.5230218089999914],\"yaxis\":\"y\",\"type\":\"scatter\"},{\"hovertemplate\":\"function=euclidean_distances_numpy\\u003cbr\\u003en_dim=4\\u003cbr\\u003eNumber of Query Points=%{x}\\u003cbr\\u003eExecution Time (s)=%{y}\\u003cextra\\u003e\\u003c\\u002fextra\\u003e\",\"legendgroup\":\"euclidean_distances_numpy, 4\",\"line\":{\"color\":\"#636efa\",\"dash\":\"solid\"},\"marker\":{\"symbol\":\"diamond\"},\"mode\":\"lines+markers\",\"name\":\"euclidean_distances_numpy, 4\",\"orientation\":\"v\",\"showlegend\":true,\"x\":[1,100,1000,10000],\"xaxis\":\"x\",\"y\":[0.00036407558257142876,0.03625930054285748,0.37314731928570055,3.89040970171428],\"yaxis\":\"y\",\"type\":\"scatter\"},{\"hovertemplate\":\"function=euclidean_distances_jax\\u003cbr\\u003en_dim=2\\u003cbr\\u003eNumber of Query Points=%{x}\\u003cbr\\u003eExecution Time (s)=%{y}\\u003cextra\\u003e\\u003c\\u002fextra\\u003e\",\"legendgroup\":\"euclidean_distances_jax, 2\",\"line\":{\"color\":\"#EF553B\",\"dash\":\"solid\"},\"marker\":{\"symbol\":\"circle\"},\"mode\":\"lines+markers\",\"name\":\"euclidean_distances_jax, 2\",\"orientation\":\"v\",\"showlegend\":true,\"x\":[1,100,1000,10000],\"xaxis\":\"x\",\"y\":[0.00046562508071427343,0.014731612149999965,0.15736215615714366,1.6261472462857196],\"yaxis\":\"y\",\"type\":\"scatter\"},{\"hovertemplate\":\"function=euclidean_distances_jax\\u003cbr\\u003en_dim=4\\u003cbr\\u003eNumber of Query Points=%{x}\\u003cbr\\u003eExecution Time (s)=%{y}\\u003cextra\\u003e\\u003c\\u002fextra\\u003e\",\"legendgroup\":\"euclidean_distances_jax, 4\",\"line\":{\"color\":\"#EF553B\",\"dash\":\"solid\"},\"marker\":{\"symbol\":\"diamond\"},\"mode\":\"lines+markers\",\"name\":\"euclidean_distances_jax, 4\",\"orientation\":\"v\",\"showlegend\":true,\"x\":[1,100,1000,10000],\"xaxis\":\"x\",\"y\":[0.0006676207238571449,0.019643538265714335,0.20615984257143186,2.0929947342857367],\"yaxis\":\"y\",\"type\":\"scatter\"},{\"hovertemplate\":\"function=euclidean_distances_jax_jit\\u003cbr\\u003en_dim=2\\u003cbr\\u003eNumber of Query Points=%{x}\\u003cbr\\u003eExecution Time (s)=%{y}\\u003cextra\\u003e\\u003c\\u002fextra\\u003e\",\"legendgroup\":\"euclidean_distances_jax_jit, 2\",\"line\":{\"color\":\"#00cc96\",\"dash\":\"solid\"},\"marker\":{\"symbol\":\"circle\"},\"mode\":\"lines+markers\",\"name\":\"euclidean_distances_jax_jit, 2\",\"orientation\":\"v\",\"showlegend\":true,\"x\":[1,100,1000,10000],\"xaxis\":\"x\",\"y\":[0.0002626202285714336,0.00027331123385714105,0.0005113690278571506,0.002067447075714069],\"yaxis\":\"y\",\"type\":\"scatter\"},{\"hovertemplate\":\"function=euclidean_distances_jax_jit\\u003cbr\\u003en_dim=4\\u003cbr\\u003eNumber of Query Points=%{x}\\u003cbr\\u003eExecution Time (s)=%{y}\\u003cextra\\u003e\\u003c\\u002fextra\\u003e\",\"legendgroup\":\"euclidean_distances_jax_jit, 4\",\"line\":{\"color\":\"#00cc96\",\"dash\":\"solid\"},\"marker\":{\"symbol\":\"diamond\"},\"mode\":\"lines+markers\",\"name\":\"euclidean_distances_jax_jit, 4\",\"orientation\":\"v\",\"showlegend\":true,\"x\":[1,100,1000,10000],\"xaxis\":\"x\",\"y\":[0.00027129165242857715,0.0002957348167142949,0.0006479442057142738,0.0038497878971431227],\"yaxis\":\"y\",\"type\":\"scatter\"}],                        {\"template\":{\"data\":{\"histogram2dcontour\":[{\"type\":\"histogram2dcontour\",\"colorbar\":{\"outlinewidth\":0,\"ticks\":\"\"},\"colorscale\":[[0.0,\"#0d0887\"],[0.1111111111111111,\"#46039f\"],[0.2222222222222222,\"#7201a8\"],[0.3333333333333333,\"#9c179e\"],[0.4444444444444444,\"#bd3786\"],[0.5555555555555556,\"#d8576b\"],[0.6666666666666666,\"#ed7953\"],[0.7777777777777778,\"#fb9f3a\"],[0.8888888888888888,\"#fdca26\"],[1.0,\"#f0f921\"]]}],\"choropleth\":[{\"type\":\"choropleth\",\"colorbar\":{\"outlinewidth\":0,\"ticks\":\"\"}}],\"histogram2d\":[{\"type\":\"histogram2d\",\"colorbar\":{\"outlinewidth\":0,\"ticks\":\"\"},\"colorscale\":[[0.0,\"#0d0887\"],[0.1111111111111111,\"#46039f\"],[0.2222222222222222,\"#7201a8\"],[0.3333333333333333,\"#9c179e\"],[0.4444444444444444,\"#bd3786\"],[0.5555555555555556,\"#d8576b\"],[0.6666666666666666,\"#ed7953\"],[0.7777777777777778,\"#fb9f3a\"],[0.8888888888888888,\"#fdca26\"],[1.0,\"#f0f921\"]]}],\"heatmap\":[{\"type\":\"heatmap\",\"colorbar\":{\"outlinewidth\":0,\"ticks\":\"\"},\"colorscale\":[[0.0,\"#0d0887\"],[0.1111111111111111,\"#46039f\"],[0.2222222222222222,\"#7201a8\"],[0.3333333333333333,\"#9c179e\"],[0.4444444444444444,\"#bd3786\"],[0.5555555555555556,\"#d8576b\"],[0.6666666666666666,\"#ed7953\"],[0.7777777777777778,\"#fb9f3a\"],[0.8888888888888888,\"#fdca26\"],[1.0,\"#f0f921\"]]}],\"heatmapgl\":[{\"type\":\"heatmapgl\",\"colorbar\":{\"outlinewidth\":0,\"ticks\":\"\"},\"colorscale\":[[0.0,\"#0d0887\"],[0.1111111111111111,\"#46039f\"],[0.2222222222222222,\"#7201a8\"],[0.3333333333333333,\"#9c179e\"],[0.4444444444444444,\"#bd3786\"],[0.5555555555555556,\"#d8576b\"],[0.6666666666666666,\"#ed7953\"],[0.7777777777777778,\"#fb9f3a\"],[0.8888888888888888,\"#fdca26\"],[1.0,\"#f0f921\"]]}],\"contourcarpet\":[{\"type\":\"contourcarpet\",\"colorbar\":{\"outlinewidth\":0,\"ticks\":\"\"}}],\"contour\":[{\"type\":\"contour\",\"colorbar\":{\"outlinewidth\":0,\"ticks\":\"\"},\"colorscale\":[[0.0,\"#0d0887\"],[0.1111111111111111,\"#46039f\"],[0.2222222222222222,\"#7201a8\"],[0.3333333333333333,\"#9c179e\"],[0.4444444444444444,\"#bd3786\"],[0.5555555555555556,\"#d8576b\"],[0.6666666666666666,\"#ed7953\"],[0.7777777777777778,\"#fb9f3a\"],[0.8888888888888888,\"#fdca26\"],[1.0,\"#f0f921\"]]}],\"surface\":[{\"type\":\"surface\",\"colorbar\":{\"outlinewidth\":0,\"ticks\":\"\"},\"colorscale\":[[0.0,\"#0d0887\"],[0.1111111111111111,\"#46039f\"],[0.2222222222222222,\"#7201a8\"],[0.3333333333333333,\"#9c179e\"],[0.4444444444444444,\"#bd3786\"],[0.5555555555555556,\"#d8576b\"],[0.6666666666666666,\"#ed7953\"],[0.7777777777777778,\"#fb9f3a\"],[0.8888888888888888,\"#fdca26\"],[1.0,\"#f0f921\"]]}],\"mesh3d\":[{\"type\":\"mesh3d\",\"colorbar\":{\"outlinewidth\":0,\"ticks\":\"\"}}],\"scatter\":[{\"fillpattern\":{\"fillmode\":\"overlay\",\"size\":10,\"solidity\":0.2},\"type\":\"scatter\"}],\"parcoords\":[{\"type\":\"parcoords\",\"line\":{\"colorbar\":{\"outlinewidth\":0,\"ticks\":\"\"}}}],\"scatterpolargl\":[{\"type\":\"scatterpolargl\",\"marker\":{\"colorbar\":{\"outlinewidth\":0,\"ticks\":\"\"}}}],\"bar\":[{\"error_x\":{\"color\":\"#2a3f5f\"},\"error_y\":{\"color\":\"#2a3f5f\"},\"marker\":{\"line\":{\"color\":\"#E5ECF6\",\"width\":0.5},\"pattern\":{\"fillmode\":\"overlay\",\"size\":10,\"solidity\":0.2}},\"type\":\"bar\"}],\"scattergeo\":[{\"type\":\"scattergeo\",\"marker\":{\"colorbar\":{\"outlinewidth\":0,\"ticks\":\"\"}}}],\"scatterpolar\":[{\"type\":\"scatterpolar\",\"marker\":{\"colorbar\":{\"outlinewidth\":0,\"ticks\":\"\"}}}],\"histogram\":[{\"marker\":{\"pattern\":{\"fillmode\":\"overlay\",\"size\":10,\"solidity\":0.2}},\"type\":\"histogram\"}],\"scattergl\":[{\"type\":\"scattergl\",\"marker\":{\"colorbar\":{\"outlinewidth\":0,\"ticks\":\"\"}}}],\"scatter3d\":[{\"type\":\"scatter3d\",\"line\":{\"colorbar\":{\"outlinewidth\":0,\"ticks\":\"\"}},\"marker\":{\"colorbar\":{\"outlinewidth\":0,\"ticks\":\"\"}}}],\"scattermapbox\":[{\"type\":\"scattermapbox\",\"marker\":{\"colorbar\":{\"outlinewidth\":0,\"ticks\":\"\"}}}],\"scatterternary\":[{\"type\":\"scatterternary\",\"marker\":{\"colorbar\":{\"outlinewidth\":0,\"ticks\":\"\"}}}],\"scattercarpet\":[{\"type\":\"scattercarpet\",\"marker\":{\"colorbar\":{\"outlinewidth\":0,\"ticks\":\"\"}}}],\"carpet\":[{\"aaxis\":{\"endlinecolor\":\"#2a3f5f\",\"gridcolor\":\"white\",\"linecolor\":\"white\",\"minorgridcolor\":\"white\",\"startlinecolor\":\"#2a3f5f\"},\"baxis\":{\"endlinecolor\":\"#2a3f5f\",\"gridcolor\":\"white\",\"linecolor\":\"white\",\"minorgridcolor\":\"white\",\"startlinecolor\":\"#2a3f5f\"},\"type\":\"carpet\"}],\"table\":[{\"cells\":{\"fill\":{\"color\":\"#EBF0F8\"},\"line\":{\"color\":\"white\"}},\"header\":{\"fill\":{\"color\":\"#C8D4E3\"},\"line\":{\"color\":\"white\"}},\"type\":\"table\"}],\"barpolar\":[{\"marker\":{\"line\":{\"color\":\"#E5ECF6\",\"width\":0.5},\"pattern\":{\"fillmode\":\"overlay\",\"size\":10,\"solidity\":0.2}},\"type\":\"barpolar\"}],\"pie\":[{\"automargin\":true,\"type\":\"pie\"}]},\"layout\":{\"autotypenumbers\":\"strict\",\"colorway\":[\"#636efa\",\"#EF553B\",\"#00cc96\",\"#ab63fa\",\"#FFA15A\",\"#19d3f3\",\"#FF6692\",\"#B6E880\",\"#FF97FF\",\"#FECB52\"],\"font\":{\"color\":\"#2a3f5f\"},\"hovermode\":\"closest\",\"hoverlabel\":{\"align\":\"left\"},\"paper_bgcolor\":\"white\",\"plot_bgcolor\":\"#E5ECF6\",\"polar\":{\"bgcolor\":\"#E5ECF6\",\"angularaxis\":{\"gridcolor\":\"white\",\"linecolor\":\"white\",\"ticks\":\"\"},\"radialaxis\":{\"gridcolor\":\"white\",\"linecolor\":\"white\",\"ticks\":\"\"}},\"ternary\":{\"bgcolor\":\"#E5ECF6\",\"aaxis\":{\"gridcolor\":\"white\",\"linecolor\":\"white\",\"ticks\":\"\"},\"baxis\":{\"gridcolor\":\"white\",\"linecolor\":\"white\",\"ticks\":\"\"},\"caxis\":{\"gridcolor\":\"white\",\"linecolor\":\"white\",\"ticks\":\"\"}},\"coloraxis\":{\"colorbar\":{\"outlinewidth\":0,\"ticks\":\"\"}},\"colorscale\":{\"sequential\":[[0.0,\"#0d0887\"],[0.1111111111111111,\"#46039f\"],[0.2222222222222222,\"#7201a8\"],[0.3333333333333333,\"#9c179e\"],[0.4444444444444444,\"#bd3786\"],[0.5555555555555556,\"#d8576b\"],[0.6666666666666666,\"#ed7953\"],[0.7777777777777778,\"#fb9f3a\"],[0.8888888888888888,\"#fdca26\"],[1.0,\"#f0f921\"]],\"sequentialminus\":[[0.0,\"#0d0887\"],[0.1111111111111111,\"#46039f\"],[0.2222222222222222,\"#7201a8\"],[0.3333333333333333,\"#9c179e\"],[0.4444444444444444,\"#bd3786\"],[0.5555555555555556,\"#d8576b\"],[0.6666666666666666,\"#ed7953\"],[0.7777777777777778,\"#fb9f3a\"],[0.8888888888888888,\"#fdca26\"],[1.0,\"#f0f921\"]],\"diverging\":[[0,\"#8e0152\"],[0.1,\"#c51b7d\"],[0.2,\"#de77ae\"],[0.3,\"#f1b6da\"],[0.4,\"#fde0ef\"],[0.5,\"#f7f7f7\"],[0.6,\"#e6f5d0\"],[0.7,\"#b8e186\"],[0.8,\"#7fbc41\"],[0.9,\"#4d9221\"],[1,\"#276419\"]]},\"xaxis\":{\"gridcolor\":\"white\",\"linecolor\":\"white\",\"ticks\":\"\",\"title\":{\"standoff\":15},\"zerolinecolor\":\"white\",\"automargin\":true,\"zerolinewidth\":2},\"yaxis\":{\"gridcolor\":\"white\",\"linecolor\":\"white\",\"ticks\":\"\",\"title\":{\"standoff\":15},\"zerolinecolor\":\"white\",\"automargin\":true,\"zerolinewidth\":2},\"scene\":{\"xaxis\":{\"backgroundcolor\":\"#E5ECF6\",\"gridcolor\":\"white\",\"linecolor\":\"white\",\"showbackground\":true,\"ticks\":\"\",\"zerolinecolor\":\"white\",\"gridwidth\":2},\"yaxis\":{\"backgroundcolor\":\"#E5ECF6\",\"gridcolor\":\"white\",\"linecolor\":\"white\",\"showbackground\":true,\"ticks\":\"\",\"zerolinecolor\":\"white\",\"gridwidth\":2},\"zaxis\":{\"backgroundcolor\":\"#E5ECF6\",\"gridcolor\":\"white\",\"linecolor\":\"white\",\"showbackground\":true,\"ticks\":\"\",\"zerolinecolor\":\"white\",\"gridwidth\":2}},\"shapedefaults\":{\"line\":{\"color\":\"#2a3f5f\"}},\"annotationdefaults\":{\"arrowcolor\":\"#2a3f5f\",\"arrowhead\":0,\"arrowwidth\":1},\"geo\":{\"bgcolor\":\"white\",\"landcolor\":\"#E5ECF6\",\"subunitcolor\":\"white\",\"showland\":true,\"showlakes\":true,\"lakecolor\":\"white\"},\"title\":{\"x\":0.05},\"mapbox\":{\"style\":\"light\"}}},\"xaxis\":{\"anchor\":\"y\",\"domain\":[0.0,1.0],\"title\":{\"text\":\"Number of Query Points\"},\"type\":\"log\"},\"yaxis\":{\"anchor\":\"x\",\"domain\":[0.0,1.0],\"title\":{\"text\":\"Execution Time (s)\"},\"type\":\"log\"},\"legend\":{\"title\":{\"text\":\"function, n_dim\"},\"tracegroupgap\":0},\"title\":{\"text\":\"Execution Time: kNN Search\"}},                        {\"responsive\": true}                    ).then(function(){\n",
              "                            \n",
              "var gd = document.getElementById('9517df6e-55d8-44bb-a572-d33868410960');\n",
              "var x = new MutationObserver(function (mutations, observer) {{\n",
              "        var display = window.getComputedStyle(gd).display;\n",
              "        if (!display || display === 'none') {{\n",
              "            console.log([gd, 'removed!']);\n",
              "            Plotly.purge(gd);\n",
              "            observer.disconnect();\n",
              "        }}\n",
              "}});\n",
              "\n",
              "// Listen for the removal of the full notebook cells\n",
              "var notebookContainer = gd.closest('#notebook-container');\n",
              "if (notebookContainer) {{\n",
              "    x.observe(notebookContainer, {childList: true});\n",
              "}}\n",
              "\n",
              "// Listen for the clearing of the current output cell\n",
              "var outputEl = gd.closest('.output');\n",
              "if (outputEl) {{\n",
              "    x.observe(outputEl, {childList: true});\n",
              "}}\n",
              "\n",
              "                        })                };                            </script>        </div>\n",
              "</body>\n",
              "</html>"
            ]
          },
          "metadata": {},
          "output_type": "display_data"
        }
      ],
      "source": [
        "px.line(\n",
        "    euclidean_execution_times,\n",
        "    x=\"n_query_points\",\n",
        "    y=\"execution_time\",\n",
        "    title=\"Execution Time: Euclidean Distance\",\n",
        "    labels={\"n_query_points\": \"Number of Query Points\", \"execution_time\": \"Execution Time (s)\"},\n",
        "    log_x=True,\n",
        "    log_y=True,\n",
        "    markers=True,\n",
        "    color=\"function\",\n",
        "    symbol=\"n_dim\",\n",
        ")"
      ]
    },
    {
      "cell_type": "code",
      "execution_count": null,
      "id": "8MalAO2N73FQ",
      "metadata": {
        "id": "8MalAO2N73FQ"
      },
      "outputs": [],
      "source": []
    }
  ],
  "metadata": {
    "accelerator": "GPU",
    "colab": {
      "gpuType": "T4",
      "provenance": []
    },
    "kernelspec": {
      "display_name": ".venv",
      "language": "python",
      "name": "python3"
    },
    "language_info": {
      "codemirror_mode": {
        "name": "ipython",
        "version": 3
      },
      "file_extension": ".py",
      "mimetype": "text/x-python",
      "name": "python",
      "nbconvert_exporter": "python",
      "pygments_lexer": "ipython3",
      "version": "3.12.5"
    }
  },
  "nbformat": 4,
  "nbformat_minor": 5
}
