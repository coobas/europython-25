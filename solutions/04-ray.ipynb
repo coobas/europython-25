{
 "cells": [
  {
   "cell_type": "markdown",
   "id": "3497647e",
   "metadata": {},
   "source": [
    "# Parallel computation with Ray"
   ]
  },
  {
   "cell_type": "markdown",
   "id": "54735612",
   "metadata": {},
   "source": [
    "[![Open In Colab](https://colab.research.google.com/assets/colab-badge.svg)](https://colab.research.google.com/github/coobas/europython-25/blob/main/solutions/04-ray.ipynb)"
   ]
  },
  {
   "cell_type": "markdown",
   "id": "c0bf1e03",
   "metadata": {},
   "source": [
    "[Ray](https://docs.ray.io/en/latest/index.html) is a set of libraries that (among others) allow an easy parallelisation of Python tasks - both locally and also in clusters. This part is called **Ray Core**.\n",
    "\n",
    "Apart from this, it also provides specialised libraries for data processing (**Ray Data**), for machine learning and even reinforcement learning (**Ray Train**, **Ray Train**, ...). We will not deal with those in this workshop."
   ]
  },
  {
   "cell_type": "code",
   "execution_count": 1,
   "id": "d8631bbe",
   "metadata": {},
   "outputs": [
    {
     "name": "stdout",
     "output_type": "stream",
     "text": [
      "Defaulting to user installation because normal site-packages is not writeable\n",
      "Requirement already satisfied: ray[default] in /home/jan/.local/lib/python3.13/site-packages (2.47.1)\n",
      "Requirement already satisfied: click>=7.0 in /usr/lib/python3.13/site-packages (from ray[default]) (8.1.7)\n",
      "Requirement already satisfied: filelock in /usr/lib/python3.13/site-packages (from ray[default]) (3.15.4)\n",
      "Requirement already satisfied: jsonschema in /usr/lib/python3.13/site-packages (from ray[default]) (4.19.1)\n",
      "Requirement already satisfied: msgpack<2.0.0,>=1.0.0 in /usr/lib64/python3.13/site-packages (from ray[default]) (1.0.6)\n",
      "Requirement already satisfied: packaging in /usr/lib/python3.13/site-packages (from ray[default]) (24.2)\n",
      "Requirement already satisfied: protobuf!=3.19.5,>=3.15.3 in /home/jan/.local/lib/python3.13/site-packages (from ray[default]) (5.29.5)\n",
      "Requirement already satisfied: pyyaml in /usr/lib64/python3.13/site-packages (from ray[default]) (6.0.1)\n",
      "Requirement already satisfied: requests in /usr/lib/python3.13/site-packages (from ray[default]) (2.32.3)\n",
      "Requirement already satisfied: aiohttp>=3.7 in /usr/lib64/python3.13/site-packages (from ray[default]) (3.10.5)\n",
      "Requirement already satisfied: aiohttp_cors in /home/jan/.local/lib/python3.13/site-packages (from ray[default]) (0.8.1)\n",
      "Requirement already satisfied: colorful in /home/jan/.local/lib/python3.13/site-packages (from ray[default]) (0.5.7)\n",
      "Requirement already satisfied: py-spy>=0.4.0 in /home/jan/.local/lib/python3.13/site-packages (from ray[default]) (0.4.0)\n",
      "Requirement already satisfied: grpcio>=1.42.0 in /usr/lib64/python3.13/site-packages (from ray[default]) (1.48.4)\n",
      "Requirement already satisfied: opencensus in /home/jan/.local/lib/python3.13/site-packages (from ray[default]) (0.11.4)\n",
      "Requirement already satisfied: opentelemetry-sdk in /home/jan/.local/lib/python3.13/site-packages (from ray[default]) (1.34.1)\n",
      "Requirement already satisfied: opentelemetry-exporter-prometheus in /home/jan/.local/lib/python3.13/site-packages (from ray[default]) (0.55b1)\n",
      "Requirement already satisfied: opentelemetry-proto in /home/jan/.local/lib/python3.13/site-packages (from ray[default]) (1.34.1)\n",
      "Requirement already satisfied: pydantic!=2.0.*,!=2.1.*,!=2.2.*,!=2.3.*,!=2.4.*,<3 in /home/jan/.local/lib/python3.13/site-packages (from ray[default]) (2.11.7)\n",
      "Requirement already satisfied: prometheus_client>=0.7.1 in /home/jan/.local/lib/python3.13/site-packages (from ray[default]) (0.22.1)\n",
      "Requirement already satisfied: smart_open in /home/jan/.local/lib/python3.13/site-packages (from ray[default]) (7.3.0.post1)\n",
      "Requirement already satisfied: virtualenv!=20.21.1,>=20.0.24 in /home/jan/.local/lib/python3.13/site-packages (from ray[default]) (20.31.2)\n",
      "Requirement already satisfied: aiohappyeyeballs>=2.3.0 in /usr/lib/python3.13/site-packages (from aiohttp>=3.7->ray[default]) (2.4.4)\n",
      "Requirement already satisfied: aiosignal>=1.1.2 in /usr/lib/python3.13/site-packages (from aiohttp>=3.7->ray[default]) (1.3.2)\n",
      "Requirement already satisfied: attrs>=17.3.0 in /usr/lib/python3.13/site-packages (from aiohttp>=3.7->ray[default]) (24.2.0)\n",
      "Requirement already satisfied: frozenlist>=1.1.1 in /usr/lib64/python3.13/site-packages (from aiohttp>=3.7->ray[default]) (1.5.0)\n",
      "Requirement already satisfied: multidict<7.0,>=4.5 in /usr/lib64/python3.13/site-packages (from aiohttp>=3.7->ray[default]) (6.0.5)\n",
      "Requirement already satisfied: yarl<2.0,>=1.0 in /usr/lib64/python3.13/site-packages (from aiohttp>=3.7->ray[default]) (1.9.4)\n",
      "Requirement already satisfied: six>=1.5.2 in /usr/lib/python3.13/site-packages (from grpcio>=1.42.0->ray[default]) (1.16.0)\n",
      "Requirement already satisfied: annotated-types>=0.6.0 in /home/jan/.local/lib/python3.13/site-packages (from pydantic!=2.0.*,!=2.1.*,!=2.2.*,!=2.3.*,!=2.4.*,<3->ray[default]) (0.7.0)\n",
      "Requirement already satisfied: pydantic-core==2.33.2 in /home/jan/.local/lib/python3.13/site-packages (from pydantic!=2.0.*,!=2.1.*,!=2.2.*,!=2.3.*,!=2.4.*,<3->ray[default]) (2.33.2)\n",
      "Requirement already satisfied: typing-extensions>=4.12.2 in /usr/lib/python3.13/site-packages (from pydantic!=2.0.*,!=2.1.*,!=2.2.*,!=2.3.*,!=2.4.*,<3->ray[default]) (4.12.2)\n",
      "Requirement already satisfied: typing-inspection>=0.4.0 in /home/jan/.local/lib/python3.13/site-packages (from pydantic!=2.0.*,!=2.1.*,!=2.2.*,!=2.3.*,!=2.4.*,<3->ray[default]) (0.4.1)\n",
      "Requirement already satisfied: distlib<1,>=0.3.7 in /usr/lib/python3.13/site-packages (from virtualenv!=20.21.1,>=20.0.24->ray[default]) (0.3.8)\n",
      "Requirement already satisfied: platformdirs<5,>=3.9.1 in /usr/lib/python3.13/site-packages (from virtualenv!=20.21.1,>=20.0.24->ray[default]) (4.2.2)\n",
      "Requirement already satisfied: jsonschema-specifications>=2023.03.6 in /usr/lib/python3.13/site-packages (from jsonschema->ray[default]) (2023.11.2)\n",
      "Requirement already satisfied: referencing>=0.28.4 in /usr/lib/python3.13/site-packages (from jsonschema->ray[default]) (0.36.2)\n",
      "Requirement already satisfied: rpds-py>=0.7.1 in /usr/lib64/python3.13/site-packages (from jsonschema->ray[default]) (0.19.1)\n",
      "Requirement already satisfied: opencensus-context>=0.1.3 in /home/jan/.local/lib/python3.13/site-packages (from opencensus->ray[default]) (0.1.3)\n",
      "Requirement already satisfied: google-api-core<3.0.0,>=1.0.0 in /usr/lib/python3.13/site-packages (from opencensus->ray[default]) (2.11.1)\n",
      "Requirement already satisfied: opentelemetry-api~=1.12 in /home/jan/.local/lib/python3.13/site-packages (from opentelemetry-exporter-prometheus->ray[default]) (1.34.1)\n",
      "Requirement already satisfied: opentelemetry-semantic-conventions==0.55b1 in /home/jan/.local/lib/python3.13/site-packages (from opentelemetry-sdk->ray[default]) (0.55b1)\n",
      "Requirement already satisfied: importlib-metadata<8.8.0,>=6.0 in /home/jan/.local/lib/python3.13/site-packages (from opentelemetry-api~=1.12->opentelemetry-exporter-prometheus->ray[default]) (8.7.0)\n",
      "Requirement already satisfied: charset-normalizer<4,>=2 in /usr/lib/python3.13/site-packages (from requests->ray[default]) (3.3.2)\n",
      "Requirement already satisfied: idna<4,>=2.5 in /usr/lib/python3.13/site-packages (from requests->ray[default]) (3.7)\n",
      "Requirement already satisfied: urllib3<3,>=1.21.1 in /usr/lib/python3.13/site-packages (from requests->ray[default]) (1.26.20)\n",
      "Requirement already satisfied: wrapt in /home/jan/.local/lib/python3.13/site-packages (from smart_open->ray[default]) (1.17.2)\n",
      "Requirement already satisfied: googleapis-common-protos<2.0.dev0,>=1.56.2 in /usr/lib/python3.13/site-packages (from google-api-core<3.0.0,>=1.0.0->opencensus->ray[default]) (1.63.0)\n",
      "Requirement already satisfied: google-auth<3.0.dev0,>=2.14.1 in /usr/lib/python3.13/site-packages (from google-api-core<3.0.0,>=1.0.0->opencensus->ray[default]) (2.38.0)\n",
      "Requirement already satisfied: cachetools<6.0,>=2.0.0 in /usr/lib/python3.13/site-packages (from google-auth<3.0.dev0,>=2.14.1->google-api-core<3.0.0,>=1.0.0->opencensus->ray[default]) (5.4.0)\n",
      "Requirement already satisfied: pyasn1-modules>=0.2.1 in /usr/lib/python3.13/site-packages (from google-auth<3.0.dev0,>=2.14.1->google-api-core<3.0.0,>=1.0.0->opencensus->ray[default]) (0.4.0)\n",
      "Requirement already satisfied: rsa<5,>=3.1.4 in /usr/lib/python3.13/site-packages (from google-auth<3.0.dev0,>=2.14.1->google-api-core<3.0.0,>=1.0.0->opencensus->ray[default]) (4.9)\n",
      "Requirement already satisfied: zipp>=3.20 in /home/jan/.local/lib/python3.13/site-packages (from importlib-metadata<8.8.0,>=6.0->opentelemetry-api~=1.12->opentelemetry-exporter-prometheus->ray[default]) (3.23.0)\n",
      "Requirement already satisfied: pyasn1<0.7.0,>=0.4.6 in /usr/lib/python3.13/site-packages (from pyasn1-modules>=0.2.1->google-auth<3.0.dev0,>=2.14.1->google-api-core<3.0.0,>=1.0.0->opencensus->ray[default]) (0.6.0)\n"
     ]
    }
   ],
   "source": [
    "# Run this in Google Collab, not needed if you install this package locally\n",
    "!pip install ray[default]"
   ]
  },
  {
   "cell_type": "code",
   "execution_count": 11,
   "id": "1b8faadc",
   "metadata": {},
   "outputs": [],
   "source": [
    "# Obligatory imports\n",
    "import numpy as np\n",
    "import pandas as pd\n",
    "import ray\n",
    "import plotly.express as px\n",
    "from IPython import get_ipython\n",
    "\n",
    "from pathlib import Path"
   ]
  },
  {
   "cell_type": "code",
   "execution_count": 12,
   "id": "ce591e83",
   "metadata": {},
   "outputs": [],
   "source": [
    "is_colab = \"google.colab\" in str(get_ipython())\n",
    "\n",
    "# Download the data which are part of this repo\n",
    "if is_colab:\n",
    "    import urllib\n",
    "    url = \"https://github.com/coobas/europython-25/raw/refs/heads/main/data.parquet\"\n",
    "    urllib.request.urlretrieve(url, \"data.parquet\")"
   ]
  },
  {
   "cell_type": "code",
   "execution_count": 13,
   "id": "e000c854",
   "metadata": {},
   "outputs": [],
   "source": [
    "def long_running(i: int) -> int:\n",
    "    \"\"\"A long running task that we will parallelise.\"\"\"\n",
    "    import time\n",
    "    time.sleep(1)\n",
    "    return i * i"
   ]
  },
  {
   "cell_type": "code",
   "execution_count": 14,
   "id": "bd2c7a5a",
   "metadata": {},
   "outputs": [
    {
     "name": "stdout",
     "output_type": "stream",
     "text": [
      "CPU times: user 1.69 ms, sys: 1.98 ms, total: 3.67 ms\n",
      "Wall time: 1 s\n"
     ]
    },
    {
     "data": {
      "text/plain": [
       "1"
      ]
     },
     "execution_count": 14,
     "metadata": {},
     "output_type": "execute_result"
    }
   ],
   "source": [
    "%%time\n",
    "long_running(1)"
   ]
  },
  {
   "cell_type": "code",
   "execution_count": 15,
   "id": "cc67e736",
   "metadata": {},
   "outputs": [
    {
     "name": "stdout",
     "output_type": "stream",
     "text": [
      "CPU times: user 13.8 ms, sys: 7.78 ms, total: 21.6 ms\n",
      "Wall time: 10 s\n"
     ]
    },
    {
     "data": {
      "text/plain": [
       "[0, 1, 4, 9, 16, 25, 36, 49, 64, 81]"
      ]
     },
     "execution_count": 15,
     "metadata": {},
     "output_type": "execute_result"
    }
   ],
   "source": [
    "%%time\n",
    "[long_running(i) for i in range(10)]\n",
    "    "
   ]
  },
  {
   "cell_type": "markdown",
   "id": "49eab1e0",
   "metadata": {},
   "source": [
    "If these tasks are independent, we can run them in parallel. There are of course options in Python itself:\n",
    "\n",
    "- multiprocessing (https://docs.python.org/3.13/library/multiprocessing.html) \n",
    "- threading (with GIL-releasing code or with caution in free-threaded Python 3.13+)\n",
    "\n",
    "This does scale exactly well if there are more tasks than CPUs / GPUs on your machine...\n",
    "\n",
    "Other options:\n",
    "- [celery](https://docs.celeryq.dev/en/stable/)\n",
    "- [dask](https://docs.dask.org/en/stable/index.html)\n",
    "\n",
    "With their strengths and weaknesses. "
   ]
  },
  {
   "cell_type": "markdown",
   "id": "a8a5e9c9",
   "metadata": {},
   "source": [
    "## Use ray"
   ]
  },
  {
   "cell_type": "markdown",
   "id": "be6e34b8",
   "metadata": {},
   "source": [
    "Ray always runs a server (even implicitly) and executes the task in nodes that it manages."
   ]
  },
  {
   "cell_type": "code",
   "execution_count": 16,
   "id": "b11fc3dc",
   "metadata": {},
   "outputs": [
    {
     "ename": "RuntimeError",
     "evalue": "Maybe you called ray.init twice by accident? This error can be suppressed by passing in 'ignore_reinit_error=True' or by calling 'ray.shutdown()' prior to 'ray.init()'.",
     "output_type": "error",
     "traceback": [
      "\u001b[31m---------------------------------------------------------------------------\u001b[39m",
      "\u001b[31mRuntimeError\u001b[39m                              Traceback (most recent call last)",
      "\u001b[36mCell\u001b[39m\u001b[36m \u001b[39m\u001b[32mIn[16]\u001b[39m\u001b[32m, line 1\u001b[39m\n\u001b[32m----> \u001b[39m\u001b[32m1\u001b[39m \u001b[43mray\u001b[49m\u001b[43m.\u001b[49m\u001b[43minit\u001b[49m\u001b[43m(\u001b[49m\u001b[43m)\u001b[49m\n",
      "\u001b[36mFile \u001b[39m\u001b[32m~/code/collaboration/europython-25/.venv/lib/python3.12/site-packages/ray/_private/client_mode_hook.py:103\u001b[39m, in \u001b[36mclient_mode_hook.<locals>.wrapper\u001b[39m\u001b[34m(*args, **kwargs)\u001b[39m\n\u001b[32m    101\u001b[39m     \u001b[38;5;28;01mif\u001b[39;00m func.\u001b[34m__name__\u001b[39m != \u001b[33m\"\u001b[39m\u001b[33minit\u001b[39m\u001b[33m\"\u001b[39m \u001b[38;5;129;01mor\u001b[39;00m is_client_mode_enabled_by_default:\n\u001b[32m    102\u001b[39m         \u001b[38;5;28;01mreturn\u001b[39;00m \u001b[38;5;28mgetattr\u001b[39m(ray, func.\u001b[34m__name__\u001b[39m)(*args, **kwargs)\n\u001b[32m--> \u001b[39m\u001b[32m103\u001b[39m \u001b[38;5;28;01mreturn\u001b[39;00m \u001b[43mfunc\u001b[49m\u001b[43m(\u001b[49m\u001b[43m*\u001b[49m\u001b[43margs\u001b[49m\u001b[43m,\u001b[49m\u001b[43m \u001b[49m\u001b[43m*\u001b[49m\u001b[43m*\u001b[49m\u001b[43mkwargs\u001b[49m\u001b[43m)\u001b[49m\n",
      "\u001b[36mFile \u001b[39m\u001b[32m~/code/collaboration/europython-25/.venv/lib/python3.12/site-packages/ray/_private/worker.py:1722\u001b[39m, in \u001b[36minit\u001b[39m\u001b[34m(address, num_cpus, num_gpus, resources, labels, object_store_memory, local_mode, ignore_reinit_error, include_dashboard, dashboard_host, dashboard_port, job_config, configure_logging, logging_level, logging_format, logging_config, log_to_driver, namespace, runtime_env, storage, enable_resource_isolation, system_reserved_cpu, system_reserved_memory, **kwargs)\u001b[39m\n\u001b[32m   1720\u001b[39m         \u001b[38;5;28;01mreturn\u001b[39;00m RayContext(\u001b[38;5;28mdict\u001b[39m(_global_node.address_info, node_id=node_id.hex()))\n\u001b[32m   1721\u001b[39m     \u001b[38;5;28;01melse\u001b[39;00m:\n\u001b[32m-> \u001b[39m\u001b[32m1722\u001b[39m         \u001b[38;5;28;01mraise\u001b[39;00m \u001b[38;5;167;01mRuntimeError\u001b[39;00m(\n\u001b[32m   1723\u001b[39m             \u001b[33m\"\u001b[39m\u001b[33mMaybe you called ray.init twice by accident? \u001b[39m\u001b[33m\"\u001b[39m\n\u001b[32m   1724\u001b[39m             \u001b[33m\"\u001b[39m\u001b[33mThis error can be suppressed by passing in \u001b[39m\u001b[33m\"\u001b[39m\n\u001b[32m   1725\u001b[39m             \u001b[33m\"\u001b[39m\u001b[33m'\u001b[39m\u001b[33mignore_reinit_error=True\u001b[39m\u001b[33m'\u001b[39m\u001b[33m or by calling \u001b[39m\u001b[33m\"\u001b[39m\n\u001b[32m   1726\u001b[39m             \u001b[33m\"\u001b[39m\u001b[33m'\u001b[39m\u001b[33mray.shutdown()\u001b[39m\u001b[33m'\u001b[39m\u001b[33m prior to \u001b[39m\u001b[33m'\u001b[39m\u001b[33mray.init()\u001b[39m\u001b[33m'\u001b[39m\u001b[33m.\u001b[39m\u001b[33m\"\u001b[39m\n\u001b[32m   1727\u001b[39m         )\n\u001b[32m   1729\u001b[39m _system_config = _system_config \u001b[38;5;129;01mor\u001b[39;00m {}\n\u001b[32m   1730\u001b[39m \u001b[38;5;28;01mif\u001b[39;00m \u001b[38;5;129;01mnot\u001b[39;00m \u001b[38;5;28misinstance\u001b[39m(_system_config, \u001b[38;5;28mdict\u001b[39m):\n",
      "\u001b[31mRuntimeError\u001b[39m: Maybe you called ray.init twice by accident? This error can be suppressed by passing in 'ignore_reinit_error=True' or by calling 'ray.shutdown()' prior to 'ray.init()'."
     ]
    }
   ],
   "source": [
    "ray.init()"
   ]
  },
  {
   "cell_type": "markdown",
   "id": "a07305b3",
   "metadata": {},
   "source": [
    "This either connects to an existing local server, or creates a new one. (In the same way, we can connect to a different one)."
   ]
  },
  {
   "cell_type": "markdown",
   "id": "f00e82ff",
   "metadata": {},
   "source": [
    "### Remote functions\n",
    "\n",
    "Any function we decorate with the `ray.remote` decorator, becomes a **task** that can be submitted to this server."
   ]
  },
  {
   "cell_type": "code",
   "execution_count": 17,
   "id": "55769580",
   "metadata": {},
   "outputs": [],
   "source": [
    "@ray.remote\n",
    "def long_running_ray(i: int) -> int:\n",
    "    import time\n",
    "    time.sleep(1)\n",
    "    return i * i"
   ]
  },
  {
   "cell_type": "code",
   "execution_count": 18,
   "id": "b8dff515",
   "metadata": {},
   "outputs": [
    {
     "ename": "TypeError",
     "evalue": "Remote functions cannot be called directly. Instead of running '__main__.long_running_ray()', try '__main__.long_running_ray.remote()'.",
     "output_type": "error",
     "traceback": [
      "\u001b[31m---------------------------------------------------------------------------\u001b[39m",
      "\u001b[31mTypeError\u001b[39m                                 Traceback (most recent call last)",
      "\u001b[36mCell\u001b[39m\u001b[36m \u001b[39m\u001b[32mIn[18]\u001b[39m\u001b[32m, line 1\u001b[39m\n\u001b[32m----> \u001b[39m\u001b[32m1\u001b[39m \u001b[43mlong_running_ray\u001b[49m\u001b[43m(\u001b[49m\u001b[32;43m1\u001b[39;49m\u001b[43m)\u001b[49m  \u001b[38;5;66;03m# This will fail\u001b[39;00m\n",
      "\u001b[36mFile \u001b[39m\u001b[32m~/code/collaboration/europython-25/.venv/lib/python3.12/site-packages/ray/remote_function.py:167\u001b[39m, in \u001b[36mRemoteFunction.__call__\u001b[39m\u001b[34m(self, *args, **kwargs)\u001b[39m\n\u001b[32m    166\u001b[39m \u001b[38;5;28;01mdef\u001b[39;00m\u001b[38;5;250m \u001b[39m\u001b[34m__call__\u001b[39m(\u001b[38;5;28mself\u001b[39m, *args, **kwargs):\n\u001b[32m--> \u001b[39m\u001b[32m167\u001b[39m     \u001b[38;5;28;01mraise\u001b[39;00m \u001b[38;5;167;01mTypeError\u001b[39;00m(\n\u001b[32m    168\u001b[39m         \u001b[33m\"\u001b[39m\u001b[33mRemote functions cannot be called directly. Instead \u001b[39m\u001b[33m\"\u001b[39m\n\u001b[32m    169\u001b[39m         \u001b[33mf\u001b[39m\u001b[33m\"\u001b[39m\u001b[33mof running \u001b[39m\u001b[33m'\u001b[39m\u001b[38;5;132;01m{\u001b[39;00m\u001b[38;5;28mself\u001b[39m._function_name\u001b[38;5;132;01m}\u001b[39;00m\u001b[33m()\u001b[39m\u001b[33m'\u001b[39m\u001b[33m, \u001b[39m\u001b[33m\"\u001b[39m\n\u001b[32m    170\u001b[39m         \u001b[33mf\u001b[39m\u001b[33m\"\u001b[39m\u001b[33mtry \u001b[39m\u001b[33m'\u001b[39m\u001b[38;5;132;01m{\u001b[39;00m\u001b[38;5;28mself\u001b[39m._function_name\u001b[38;5;132;01m}\u001b[39;00m\u001b[33m.remote()\u001b[39m\u001b[33m'\u001b[39m\u001b[33m.\u001b[39m\u001b[33m\"\u001b[39m\n\u001b[32m    171\u001b[39m     )\n",
      "\u001b[31mTypeError\u001b[39m: Remote functions cannot be called directly. Instead of running '__main__.long_running_ray()', try '__main__.long_running_ray.remote()'."
     ]
    }
   ],
   "source": [
    "long_running_ray(1)  # This will fail"
   ]
  },
  {
   "cell_type": "markdown",
   "id": "db49b322",
   "metadata": {},
   "source": [
    "Well, the error message is right. We should use `.remote` (a different one!)\n",
    "\n",
    "Better (and see that we pass arguments the same way):"
   ]
  },
  {
   "cell_type": "code",
   "execution_count": 19,
   "id": "2a2e9046",
   "metadata": {},
   "outputs": [
    {
     "name": "stdout",
     "output_type": "stream",
     "text": [
      "CPU times: user 26.6 ms, sys: 1.9 ms, total: 28.5 ms\n",
      "Wall time: 28.4 ms\n"
     ]
    },
    {
     "data": {
      "text/plain": [
       "ObjectRef(c8ef45ccd0112571ffffffffffffffffffffffff0100000001000000)"
      ]
     },
     "execution_count": 19,
     "metadata": {},
     "output_type": "execute_result"
    }
   ],
   "source": [
    "%%time\n",
    "long_running_ray.remote(1)"
   ]
  },
  {
   "cell_type": "markdown",
   "id": "3ebce590",
   "metadata": {},
   "source": [
    "What happened? The task was submitted to the cluster. But asynchronously. We have to capture the **future** object..."
   ]
  },
  {
   "cell_type": "code",
   "execution_count": 20,
   "id": "3f784399",
   "metadata": {},
   "outputs": [],
   "source": [
    "task_id = long_running_ray.remote(2)"
   ]
  },
  {
   "cell_type": "markdown",
   "id": "e4fcf3d0",
   "metadata": {},
   "source": [
    "...and get its value (synchronously):"
   ]
  },
  {
   "cell_type": "code",
   "execution_count": 21,
   "id": "ecad1b4b",
   "metadata": {},
   "outputs": [
    {
     "data": {
      "text/plain": [
       "4"
      ]
     },
     "execution_count": 21,
     "metadata": {},
     "output_type": "execute_result"
    }
   ],
   "source": [
    "ray.get(task_id)"
   ]
  },
  {
   "cell_type": "code",
   "execution_count": null,
   "id": "21d22b30",
   "metadata": {},
   "outputs": [],
   "source": [
    "%%time\n",
    "task_ids = [long_running_ray.remote(i) for i in range(10)]\n",
    "ray.get(task_ids)"
   ]
  },
  {
   "cell_type": "markdown",
   "id": "23a324db",
   "metadata": {},
   "source": [
    "## Exercise: Compute k nearest neighbours remotely"
   ]
  },
  {
   "cell_type": "markdown",
   "id": "d6f62167",
   "metadata": {},
   "source": [
    "We will reuse our definitions of kNN functions (slightly modified) and for random points fínd their neighbours:"
   ]
  },
  {
   "cell_type": "code",
   "execution_count": 22,
   "id": "6b321460",
   "metadata": {},
   "outputs": [],
   "source": [
    "DEFAULT_K = 4   # How many nearest neighbors to consider\n",
    "\n",
    "def calculate_distances(query_points: np.ndarray, reference_points: np.ndarray, *, n_dim: int = 3) -> np.ndarray:\n",
    "    \"\"\"\n",
    "    Calculate mutual Euclidean distances between M query and N reference points.\n",
    "\n",
    "    Parameters:\n",
    "    ----------\n",
    "    query_points: np.ndarray\n",
    "        (M, n_dim+) array of query points\n",
    "    reference_points: np.ndarray\n",
    "        (N, n_dim+) array of reference points\n",
    "    n_dim: int\n",
    "        Number of dimensions to consider (default: 3, for x, y, floor)\n",
    "\n",
    "    Returns:\n",
    "    --------\n",
    "    distances: np.ndarray\n",
    "        (M, N) array of the distances\n",
    "    \"\"\"\n",
    "    # Expand for broadcasting\n",
    "    query_points = query_points[:, np.newaxis,:n_dim]\n",
    "    reference_points = reference_points[np.newaxis, :, :n_dim]\n",
    "    return np.sqrt(np.sum((reference_points - query_points) ** 2, axis=-1))\n",
    "\n",
    "\n",
    "def knn_search(\n",
    "    query_points: np.ndarray,\n",
    "    reference_points: np.ndarray,\n",
    "    k: int,\n",
    "):\n",
    "    \"\"\"\n",
    "    Find k nearest neighbour reference point indices for N query points.\n",
    "\n",
    "    Returns:\n",
    "    --------\n",
    "    indices: np.ndarray\n",
    "        (N, k) matrix of integral indices\n",
    "    \"\"\"\n",
    "    distances = calculate_distances(query_points, reference_points).T\n",
    "    return np.argpartition(distances, k, axis=0)[:k].T"
   ]
  },
  {
   "cell_type": "markdown",
   "id": "8fc5527e",
   "metadata": {},
   "source": [
    "Let's create some points to test this on:"
   ]
  },
  {
   "cell_type": "code",
   "execution_count": 23,
   "id": "dbc2af31",
   "metadata": {},
   "outputs": [],
   "source": [
    "def create_random_points(\n",
    "    n_points: int, *, n_dim: int = 3, seed: int = 42\n",
    ") -> np.ndarray:\n",
    "    # TODO: Fix floor!\n",
    "    np.random.seed(seed)\n",
    "    return np.random.sample((n_points, n_dim))"
   ]
  },
  {
   "cell_type": "code",
   "execution_count": 25,
   "id": "b9382f9b",
   "metadata": {},
   "outputs": [
    {
     "data": {
      "text/plain": [
       "array([[0.37454012, 0.95071431, 0.73199394],\n",
       "       [0.59865848, 0.15601864, 0.15599452],\n",
       "       [0.05808361, 0.86617615, 0.60111501],\n",
       "       [0.70807258, 0.02058449, 0.96990985],\n",
       "       [0.83244264, 0.21233911, 0.18182497]])"
      ]
     },
     "execution_count": 25,
     "metadata": {},
     "output_type": "execute_result"
    }
   ],
   "source": [
    "query_points = create_random_points(5, seed=42)\n",
    "reference_points = create_random_points(10, seed=84)\n",
    "\n",
    "query_points"
   ]
  },
  {
   "cell_type": "code",
   "execution_count": 24,
   "id": "b9beca39",
   "metadata": {},
   "outputs": [
    {
     "ename": "NameError",
     "evalue": "name 'query_points' is not defined",
     "output_type": "error",
     "traceback": [
      "\u001b[31m---------------------------------------------------------------------------\u001b[39m",
      "\u001b[31mNameError\u001b[39m                                 Traceback (most recent call last)",
      "\u001b[36mCell\u001b[39m\u001b[36m \u001b[39m\u001b[32mIn[24]\u001b[39m\u001b[32m, line 1\u001b[39m\n\u001b[32m----> \u001b[39m\u001b[32m1\u001b[39m calculate_distances(\u001b[43mquery_points\u001b[49m, reference_points)\n",
      "\u001b[31mNameError\u001b[39m: name 'query_points' is not defined"
     ]
    }
   ],
   "source": [
    "calculate_distances(query_points, reference_points)"
   ]
  },
  {
   "cell_type": "markdown",
   "id": "2ce7aae9",
   "metadata": {},
   "source": [
    "First, we run this without ray (for sizable arrays):"
   ]
  },
  {
   "cell_type": "code",
   "execution_count": 26,
   "id": "54d8086c",
   "metadata": {},
   "outputs": [
    {
     "name": "stdout",
     "output_type": "stream",
     "text": [
      "CPU times: user 1.57 s, sys: 98.6 ms, total: 1.67 s\n",
      "Wall time: 1.68 s\n"
     ]
    },
    {
     "data": {
      "text/plain": [
       "array([[532, 606, 302, 371],\n",
       "       [271, 552, 872, 544],\n",
       "       [520, 125, 178, 885],\n",
       "       ...,\n",
       "       [820, 102, 966, 620],\n",
       "       [339, 990, 107, 114],\n",
       "       [847, 267,  66, 724]], shape=(32768, 4))"
      ]
     },
     "execution_count": 26,
     "metadata": {},
     "output_type": "execute_result"
    }
   ],
   "source": [
    "%%time\n",
    "query_points = create_random_points(32768, seed=42)\n",
    "reference_points = create_random_points(1000, seed=84)\n",
    "knn_search(query_points, reference_points, k=DEFAULT_K)"
   ]
  },
  {
   "cell_type": "markdown",
   "id": "9ea75ba2",
   "metadata": {},
   "source": [
    "**Task**\n",
    "\n",
    "1. Change the knn_search function into a task.\n",
    "2. Submit the computation to ray and compare the results.\n",
    "3. Look at the execution times (and compare to local run)"
   ]
  },
  {
   "cell_type": "code",
   "execution_count": null,
   "id": "5dec6640",
   "metadata": {},
   "outputs": [],
   "source": [
    "@ray.remote\n",
    "def knn_search_ray(\n",
    "    query_points: np.ndarray,\n",
    "    reference_points: np.ndarray,\n",
    "    k: int,\n",
    "):\n",
    "    \"\"\"\n",
    "    Find k nearest neighbour reference point indices for N query points.\n",
    "\n",
    "    Returns:\n",
    "    --------\n",
    "    indices: np.ndarray\n",
    "        (N, k) matrix of integral indices\n",
    "    \"\"\"\n",
    "    distances = calculate_distances(query_points, reference_points).T\n",
    "    return np.argpartition(distances, k, axis=0)[:k].T"
   ]
  },
  {
   "cell_type": "code",
   "execution_count": null,
   "id": "29fdb21d",
   "metadata": {},
   "outputs": [],
   "source": [
    "%%time\n",
    "knn_id = knn_search_ray.remote(query_points, reference_points, k=DEFAULT_K)\n",
    "knn_results = ray.get(knn_id)"
   ]
  },
  {
   "cell_type": "markdown",
   "id": "7e276678",
   "metadata": {},
   "source": [
    "**Question:** Is there any improvement yet?"
   ]
  },
  {
   "cell_type": "markdown",
   "id": "773e9ce7",
   "metadata": {},
   "source": [
    "## Monitoring ray"
   ]
  },
  {
   "cell_type": "markdown",
   "id": "18928aa6",
   "metadata": {},
   "source": [
    "Ray comes with a nice dashboard that allows you to observe running jobs. It runs in a local web server, mostly likely http://localhost:8265. This address is not accessible when running within Google Colab, and so you have to use a special trick to show a mini-window forwarded to the dashboard running in the cloud."
   ]
  },
  {
   "cell_type": "code",
   "execution_count": null,
   "id": "cc3e252d",
   "metadata": {},
   "outputs": [],
   "source": [
    "is_colab = \"google.colab\" in str(get_ipython())\n",
    "\n",
    "if is_colab:\n",
    "    from google.colab import output\n",
    "    output.serve_kernel_port_as_iframe(8265)  # The port may differ!\n",
    "else:\n",
    "    print(\"Not in google Colab. Try the local link, it should work.\")"
   ]
  },
  {
   "cell_type": "markdown",
   "id": "4ff7e661",
   "metadata": {},
   "source": [
    "Now we submit something really huge:"
   ]
  },
  {
   "cell_type": "code",
   "execution_count": null,
   "id": "6647a91d",
   "metadata": {},
   "outputs": [],
   "source": [
    "query_points = create_random_points(10000000, seed=42)\n",
    "reference_points = create_random_points(100, seed=84)\n",
    "task_id = knn_search_ray.remote(query_points, reference_points, k=DEFAULT_K)\n"
   ]
  },
  {
   "cell_type": "code",
   "execution_count": null,
   "id": "04ae985f",
   "metadata": {},
   "outputs": [],
   "source": [
    "%%time\n",
    "ray.get(task_id)"
   ]
  },
  {
   "cell_type": "markdown",
   "id": "9589eeba",
   "metadata": {},
   "source": [
    "## Exercise: Parallelize kNN execution"
   ]
  },
  {
   "cell_type": "markdown",
   "id": "4534494f",
   "metadata": {},
   "source": [
    "Ray by itself does not do any optimisations or segments the tasks you send it. So you need to care about splitting the task yourself. Sometimes this is easy, sometimes it requires a deeper thought (or a library ;-)).\n",
    "\n",
    "If you want to improve the computation of nearest neighbours for a bunch of **independent** points, this is really easy (\"embarassingly parallel problem). Just take the 1000000 query points and split them into **batches**:"
   ]
  },
  {
   "cell_type": "code",
   "execution_count": 27,
   "id": "de206ce3",
   "metadata": {},
   "outputs": [],
   "source": [
    "def split_into_batches(array: np.ndarray, max_size: int) -> list[np.ndarray]:\n",
    "    \"\"\"\n",
    "    Split an array into smaller batches of a maximum size.\n",
    "\n",
    "    Parameters:\n",
    "    ----------\n",
    "    array: np.ndarray\n",
    "        The array to split.\n",
    "    max_size: int\n",
    "        The maximum size of each batch.\n",
    "\n",
    "    Returns:\n",
    "    --------\n",
    "    list[np.ndarray]\n",
    "        A list of arrays, each with a maximum size of `max_size`.\n",
    "    \"\"\"\n",
    "    return [array[i:i + max_size] for i in range(0, len(array), max_size)]"
   ]
  },
  {
   "cell_type": "code",
   "execution_count": null,
   "id": "28665191",
   "metadata": {},
   "outputs": [],
   "source": [
    "split_into_batches(np.arange(10), 3)"
   ]
  },
  {
   "cell_type": "markdown",
   "id": "d86a23c6",
   "metadata": {},
   "source": [
    "**Task**: \n",
    "1. Split the query points accordingly (you may experiment with batch_size, 1000 is pretty ok)\n",
    "2. Submit and retrieve the results for the batches\n",
    "3. Combine the results back into one array ([np.vstack](https://numpy.org/doc/stable/reference/generated/numpy.vstack.html) is your friend)"
   ]
  },
  {
   "cell_type": "code",
   "execution_count": null,
   "id": "983c0154",
   "metadata": {},
   "outputs": [],
   "source": [
    "query_points = create_random_points(10000000, seed=42)\n",
    "reference_points = create_random_points(100, seed=84)\n",
    "\n",
    "batches = split_into_batches(query_points, 1000)\n",
    "batches"
   ]
  },
  {
   "cell_type": "code",
   "execution_count": null,
   "id": "7b321737",
   "metadata": {},
   "outputs": [],
   "source": [
    "%%time\n",
    "task_ids = [\n",
    "    knn_search_ray.remote(batch, reference_points, k=DEFAULT_K) for batch in batches\n",
    "]\n",
    "knn_results = ray.get(task_ids)\n",
    "knn_results"
   ]
  },
  {
   "cell_type": "code",
   "execution_count": null,
   "id": "f671772c",
   "metadata": {},
   "outputs": [],
   "source": [
    "np.vstack(knn_results)"
   ]
  },
  {
   "cell_type": "markdown",
   "id": "1a0e5fc6",
   "metadata": {},
   "source": [
    "**Question** Can we parallelise in the reference points dimension?"
   ]
  },
  {
   "cell_type": "markdown",
   "id": "7c8a7388",
   "metadata": {},
   "source": [
    "## Example: Predicting the housing prices with a database of reference points"
   ]
  },
  {
   "cell_type": "markdown",
   "id": "18d53937",
   "metadata": {},
   "source": [
    "We can use the distances to predict the housing prices (in arbitrary units, perhaps the monthly rent in $ for a single-bedroom apartment?) based on our custom regression implementation. "
   ]
  },
  {
   "cell_type": "code",
   "execution_count": 28,
   "id": "67b4561b",
   "metadata": {},
   "outputs": [],
   "source": [
    "def compute_prices(query_points, reference_points, k: int = DEFAULT_K):\n",
    "    \"\"\"\n",
    "    Find prices for N data_points.\n",
    "\n",
    "    Parameters:\n",
    "    query_points: np.ndarray\n",
    "        (N, 3) array of query points\n",
    "    reference_points: np.ndarray\n",
    "        (M, 4) array of data points with x, y, floor, and price\n",
    "    k: int\n",
    "        Number of nearest neighbors to consider\n",
    "\n",
    "    Returns:\n",
    "    --------\n",
    "    prices: np.ndarray\n",
    "        (N,) array of prices\n",
    "    \"\"\"\n",
    "    indices = knn_search(query_points, reference_points, k)\n",
    "    prices: np.ndarray = reference_points[indices, 3]\n",
    "    return prices.mean(axis=1)\n"
   ]
  },
  {
   "cell_type": "markdown",
   "id": "767f7100",
   "metadata": {},
   "source": [
    "We have predefined reference points in an external file, modeled using an (unknown?) analytical function:"
   ]
  },
  {
   "cell_type": "code",
   "execution_count": null,
   "id": "b2394045",
   "metadata": {},
   "outputs": [],
   "source": [
    "is_colab = \"google.colab\" in str(get_ipython())\n",
    "\n",
    "# Download the data which are part of this repo\n",
    "if is_colab:\n",
    "    import urllib\n",
    "    url = \"https://github.com/coobas/europython-25/raw/refs/heads/main/data.parquet\"\n",
    "    urllib.request.urlretrieve(url, \"data.parquet\")\n",
    "    print(\"Data downloaded to data.parquet.\")\n",
    "else:\n",
    "    print(\"Not in Google Colab, skipping data download.\")"
   ]
  },
  {
   "cell_type": "code",
   "execution_count": 29,
   "id": "688d1d59",
   "metadata": {},
   "outputs": [
    {
     "data": {
      "application/vnd.microsoft.datawrangler.viewer.v0+json": {
       "columns": [
        {
         "name": "index",
         "rawType": "int64",
         "type": "integer"
        },
        {
         "name": "x",
         "rawType": "float64",
         "type": "float"
        },
        {
         "name": "y",
         "rawType": "float64",
         "type": "float"
        },
        {
         "name": "floor",
         "rawType": "int64",
         "type": "integer"
        },
        {
         "name": "price",
         "rawType": "float64",
         "type": "float"
        }
       ],
       "ref": "95a55c08-d77e-446c-9459-4adec12424ce",
       "rows": [
        [
         "0",
         "-2.50919762305275",
         "-2.5271836306660305",
         "1",
         "983.7378374405597"
        ],
        [
         "1",
         "9.014286128198322",
         "-3.341758075371935",
         "3",
         "520.453425214813"
        ],
        [
         "2",
         "4.639878836228101",
         "-6.4769217499427985",
         "12",
         "621.4984306846509"
        ],
        [
         "3",
         "1.973169683940732",
         "2.1453334020297596",
         "12",
         "1751.2343581985049"
        ],
        [
         "4",
         "-6.87962719115127",
         "-0.46751678982742284",
         "16",
         "672.6900474613864"
        ],
        [
         "5",
         "-6.880109593275947",
         "7.314019846480072",
         "5",
         "540.9816754276393"
        ],
        [
         "6",
         "-8.83832775663601",
         "-9.357808390358835",
         "10",
         "597.426703722583"
        ],
        [
         "7",
         "7.323522915498703",
         "2.8773585511025264",
         "18",
         "699.8412275755346"
        ],
        [
         "8",
         "2.0223002348641756",
         "5.258977570231222",
         "15",
         "829.0231933642551"
        ],
        [
         "9",
         "4.161451555920909",
         "5.189731383766141",
         "7",
         "581.540901586512"
        ],
        [
         "10",
         "-9.588310114083951",
         "7.721479341910502",
         "0",
         "490.0540509357214"
        ],
        [
         "11",
         "9.398197043239886",
         "4.580674856589882",
         "9",
         "585.6479047710745"
        ],
        [
         "12",
         "6.648852816008436",
         "8.556201232953924",
         "1",
         "499.8892194675629"
        ],
        [
         "13",
         "-5.753217786434477",
         "-3.3468680035821707",
         "18",
         "700.3241865885568"
        ],
        [
         "14",
         "-6.363500655857988",
         "0.06418833503086141",
         "13",
         "634.145407504658"
        ],
        [
         "15",
         "-6.331909802931324",
         "-9.718406734342187",
         "2",
         "510.13154695433724"
        ],
        [
         "16",
         "-3.9151551408092455",
         "-9.860848253934176",
         "8",
         "574.1632555475303"
        ],
        [
         "17",
         "0.49512863264475726",
         "-5.197467590969602",
         "7",
         "1225.68654833129"
        ],
        [
         "18",
         "-1.3610996271576852",
         "-7.983856057218295",
         "10",
         "597.3839608351115"
        ],
        [
         "19",
         "-4.175417196039161",
         "-4.795772641284928",
         "14",
         "646.6849996044493"
        ],
        [
         "20",
         "2.23705789444759",
         "-6.459134109432052",
         "5",
         "696.8512918509493"
        ],
        [
         "21",
         "-7.210122786959163",
         "-9.429599503227035",
         "1",
         "499.8276414357586"
        ],
        [
         "22",
         "-4.157107029295637",
         "8.186082928120989",
         "0",
         "490.19051405430156"
        ],
        [
         "23",
         "-2.672763134126166",
         "-9.83553737222217",
         "2",
         "509.9629254029556"
        ],
        [
         "24",
         "-0.8786003156592805",
         "4.721642886741709",
         "17",
         "1107.497169553157"
        ],
        [
         "25",
         "5.703519227860273",
         "-6.957042261609669",
         "13",
         "633.8436883783806"
        ],
        [
         "26",
         "-6.006524356832806",
         "8.244592439992001",
         "16",
         "672.754293444064"
        ],
        [
         "27",
         "0.28468876827223255",
         "7.855918791797716",
         "1",
         "499.9798192363739"
        ],
        [
         "28",
         "1.8482913772408498",
         "3.078022927385147",
         "18",
         "1704.8467898683539"
        ],
        [
         "29",
         "-9.070991745600045",
         "3.4446829960121033",
         "8",
         "574.2409788439785"
        ],
        [
         "30",
         "2.1508970380287664",
         "-9.893217160606229",
         "7",
         "563.0482758285381"
        ],
        [
         "31",
         "-6.58951752625417",
         "9.697431322272042",
         "9",
         "586.0768504035532"
        ],
        [
         "32",
         "-8.69896814029441",
         "7.5566520715162895",
         "8",
         "574.588072311808"
        ],
        [
         "33",
         "8.977710745066666",
         "7.902124514601841",
         "7",
         "562.9540227748142"
        ],
        [
         "34",
         "9.312640661491187",
         "3.1848907410174387",
         "6",
         "552.2088427437778"
        ],
        [
         "35",
         "6.167946962329221",
         "-3.10426142690927",
         "5",
         "541.4152684893583"
        ],
        [
         "36",
         "-3.9077246165325867",
         "7.8729729818096175",
         "1",
         "500.05933804211725"
        ],
        [
         "37",
         "-8.046557719872322",
         "-4.169661436976153",
         "8",
         "574.2707968057683"
        ],
        [
         "38",
         "3.6846605302431374",
         "1.2542308668440576",
         "8",
         "1498.865373299506"
        ],
        [
         "39",
         "-1.196950125207973",
         "-8.005380553122352",
         "18",
         "699.7811036915044"
        ],
        [
         "40",
         "-7.5592353031044235",
         "8.439112602655005",
         "8",
         "574.3391280346714"
        ],
        [
         "41",
         "-0.09646179777459629",
         "-7.184590844575734",
         "1",
         "499.7536046606026"
        ],
        [
         "42",
         "-9.312229577695632",
         "-5.502063885391855",
         "18",
         "700.0199144792724"
        ],
        [
         "43",
         "8.186408041575643",
         "1.1626831625642993",
         "15",
         "659.5000346020411"
        ],
        [
         "44",
         "-4.824400367999662",
         "5.281860004259631",
         "13",
         "634.2555697714013"
        ],
        [
         "45",
         "3.2504456870796403",
         "2.387026118725979",
         "19",
         "1811.7292310862954"
        ],
        [
         "46",
         "-3.7657784782117805",
         "-5.357321743996877",
         "0",
         "490.3774419103389"
        ],
        [
         "47",
         "0.40136042355621626",
         "-9.981139149450193",
         "12",
         "621.6072671095952"
        ],
        [
         "48",
         "0.934205586865593",
         "5.143011606148784",
         "1",
         "622.9479414772554"
        ],
        [
         "49",
         "-6.302910889489459",
         "9.704146518221876",
         "13",
         "633.8784468015394"
        ]
       ],
       "shape": {
        "columns": 4,
        "rows": 10000
       }
      },
      "text/html": [
       "<div>\n",
       "<style scoped>\n",
       "    .dataframe tbody tr th:only-of-type {\n",
       "        vertical-align: middle;\n",
       "    }\n",
       "\n",
       "    .dataframe tbody tr th {\n",
       "        vertical-align: top;\n",
       "    }\n",
       "\n",
       "    .dataframe thead th {\n",
       "        text-align: right;\n",
       "    }\n",
       "</style>\n",
       "<table border=\"1\" class=\"dataframe\">\n",
       "  <thead>\n",
       "    <tr style=\"text-align: right;\">\n",
       "      <th></th>\n",
       "      <th>x</th>\n",
       "      <th>y</th>\n",
       "      <th>floor</th>\n",
       "      <th>price</th>\n",
       "    </tr>\n",
       "  </thead>\n",
       "  <tbody>\n",
       "    <tr>\n",
       "      <th>0</th>\n",
       "      <td>-2.509198</td>\n",
       "      <td>-2.527184</td>\n",
       "      <td>1</td>\n",
       "      <td>983.737837</td>\n",
       "    </tr>\n",
       "    <tr>\n",
       "      <th>1</th>\n",
       "      <td>9.014286</td>\n",
       "      <td>-3.341758</td>\n",
       "      <td>3</td>\n",
       "      <td>520.453425</td>\n",
       "    </tr>\n",
       "    <tr>\n",
       "      <th>2</th>\n",
       "      <td>4.639879</td>\n",
       "      <td>-6.476922</td>\n",
       "      <td>12</td>\n",
       "      <td>621.498431</td>\n",
       "    </tr>\n",
       "    <tr>\n",
       "      <th>3</th>\n",
       "      <td>1.973170</td>\n",
       "      <td>2.145333</td>\n",
       "      <td>12</td>\n",
       "      <td>1751.234358</td>\n",
       "    </tr>\n",
       "    <tr>\n",
       "      <th>4</th>\n",
       "      <td>-6.879627</td>\n",
       "      <td>-0.467517</td>\n",
       "      <td>16</td>\n",
       "      <td>672.690047</td>\n",
       "    </tr>\n",
       "    <tr>\n",
       "      <th>...</th>\n",
       "      <td>...</td>\n",
       "      <td>...</td>\n",
       "      <td>...</td>\n",
       "      <td>...</td>\n",
       "    </tr>\n",
       "    <tr>\n",
       "      <th>9995</th>\n",
       "      <td>7.153120</td>\n",
       "      <td>7.540773</td>\n",
       "      <td>3</td>\n",
       "      <td>520.173028</td>\n",
       "    </tr>\n",
       "    <tr>\n",
       "      <th>9996</th>\n",
       "      <td>7.950177</td>\n",
       "      <td>-9.063721</td>\n",
       "      <td>3</td>\n",
       "      <td>520.453522</td>\n",
       "    </tr>\n",
       "    <tr>\n",
       "      <th>9997</th>\n",
       "      <td>8.934158</td>\n",
       "      <td>-3.926031</td>\n",
       "      <td>16</td>\n",
       "      <td>673.260987</td>\n",
       "    </tr>\n",
       "    <tr>\n",
       "      <th>9998</th>\n",
       "      <td>-2.050240</td>\n",
       "      <td>-1.133600</td>\n",
       "      <td>1</td>\n",
       "      <td>1325.611747</td>\n",
       "    </tr>\n",
       "    <tr>\n",
       "      <th>9999</th>\n",
       "      <td>-5.657192</td>\n",
       "      <td>-6.554704</td>\n",
       "      <td>14</td>\n",
       "      <td>646.913957</td>\n",
       "    </tr>\n",
       "  </tbody>\n",
       "</table>\n",
       "<p>10000 rows × 4 columns</p>\n",
       "</div>"
      ],
      "text/plain": [
       "             x         y  floor        price\n",
       "0    -2.509198 -2.527184      1   983.737837\n",
       "1     9.014286 -3.341758      3   520.453425\n",
       "2     4.639879 -6.476922     12   621.498431\n",
       "3     1.973170  2.145333     12  1751.234358\n",
       "4    -6.879627 -0.467517     16   672.690047\n",
       "...        ...       ...    ...          ...\n",
       "9995  7.153120  7.540773      3   520.173028\n",
       "9996  7.950177 -9.063721      3   520.453522\n",
       "9997  8.934158 -3.926031     16   673.260987\n",
       "9998 -2.050240 -1.133600      1  1325.611747\n",
       "9999 -5.657192 -6.554704     14   646.913957\n",
       "\n",
       "[10000 rows x 4 columns]"
      ]
     },
     "execution_count": 29,
     "metadata": {},
     "output_type": "execute_result"
    }
   ],
   "source": [
    "def load_reference_points_df(path: Path = Path(\"../data.parquet\")) -> np.ndarray:\n",
    "    \"\"\"\n",
    "    Load reference data points from a parquet file.\n",
    "\n",
    "    Returns:\n",
    "    --------\n",
    "    data_points: np.ndarray\n",
    "        (N, 4) array of data points with x, y, floor, and price columns\n",
    "    \"\"\"\n",
    "\n",
    "    return pd.read_parquet(path)\n",
    "    # return df[[\"x\", \"y\", \"floor\", \"price\"]].to_numpy().astype(float)\n",
    "\n",
    "reference_points_df = load_reference_points_df()\n",
    "reference_points_df"
   ]
  },
  {
   "cell_type": "markdown",
   "id": "cb88b9e0",
   "metadata": {},
   "source": [
    "And we also want to run something against this. Let's start with random points:"
   ]
  },
  {
   "cell_type": "code",
   "execution_count": 30,
   "id": "05185963",
   "metadata": {},
   "outputs": [
    {
     "data": {
      "text/plain": [
       "array([[-4.58733654,  8.41607641, 17.        ],\n",
       "       [ 3.74643276, -7.22572255, 15.        ],\n",
       "       [-2.14036507,  1.09481508, 18.        ],\n",
       "       [ 4.0533283 ,  2.7300244 , 10.        ],\n",
       "       [-4.24262995, -4.75579104,  6.        ],\n",
       "       [-4.78100895, -6.49377754, 15.        ],\n",
       "       [-4.41257889,  1.35382663,  6.        ],\n",
       "       [ 1.66507327, -4.70075815,  5.        ],\n",
       "       [ 9.3244321 ,  5.15729383, 13.        ],\n",
       "       [ 1.15120558, -0.54369229, 17.        ],\n",
       "       [-4.88242204,  8.77821153, 11.        ],\n",
       "       [ 5.82075014,  9.37918177, 18.        ],\n",
       "       [ 8.87804357, -5.15921442, 10.        ],\n",
       "       [-2.29330358, -3.86109528, 15.        ],\n",
       "       [-8.07298018,  4.49233142,  7.        ],\n",
       "       [ 2.76832987,  7.29164771, 15.        ],\n",
       "       [-1.11923795, -4.84902064,  3.        ],\n",
       "       [ 9.70916004, -9.7192668 ,  5.        ],\n",
       "       [ 3.47764399,  9.20511543, 16.        ],\n",
       "       [-3.74296151,  6.39198537, 10.        ],\n",
       "       [ 9.05752068, -0.30257105,  3.        ],\n",
       "       [ 4.43657782,  5.41786588, 19.        ],\n",
       "       [ 9.92119928,  5.24592592,  9.        ],\n",
       "       [-2.85829886,  0.12205886, 17.        ],\n",
       "       [ 9.79050615,  4.33875309, 13.        ],\n",
       "       [ 6.40631314, -5.19970467,  9.        ],\n",
       "       [-0.59103113,  7.5555138 ,  5.        ],\n",
       "       [-5.89715263,  3.80768429,  3.        ],\n",
       "       [-9.72431459, -6.21668385, 18.        ],\n",
       "       [ 0.35791857, -0.74516606,  7.        ],\n",
       "       [-0.91090818,  3.49080572, 17.        ],\n",
       "       [-3.33174591,  5.75893511,  2.        ],\n",
       "       [ 2.99054471, -8.26804861, 15.        ],\n",
       "       [-3.40903364, -5.99471758,  9.        ],\n",
       "       [-3.42533694,  2.24461267,  9.        ],\n",
       "       [-1.36200797, -0.09368421,  8.        ],\n",
       "       [ 3.46926354, -0.24501944,  9.        ],\n",
       "       [-6.91738499,  0.4988978 ,  6.        ],\n",
       "       [ 7.02560073, -1.69206879, 17.        ],\n",
       "       [ 4.89535936, -0.55036638,  9.        ],\n",
       "       [ 3.27615077,  0.76799635, 14.        ],\n",
       "       [-7.9814344 ,  2.91623766, 12.        ],\n",
       "       [-4.59101719, -9.54395728, 17.        ],\n",
       "       [ 4.47122945, -0.24186281, 11.        ],\n",
       "       [-4.47842323,  5.87195566,  1.        ],\n",
       "       [ 3.77202546,  9.00445696,  6.        ],\n",
       "       [-6.00376874, -7.91366991, 10.        ],\n",
       "       [-5.93960697,  9.75917479,  3.        ],\n",
       "       [ 4.19647087, -8.98603058,  9.        ],\n",
       "       [-0.75651738,  3.98258759, 13.        ],\n",
       "       [-7.63185556, -5.533382  ,  7.        ],\n",
       "       [-2.71754298,  6.73403173,  7.        ],\n",
       "       [-9.3537225 , -7.05173319,  7.        ],\n",
       "       [ 5.67174122, -7.20176375,  8.        ],\n",
       "       [ 4.00724214, -1.35494236,  3.        ],\n",
       "       [-7.84324142, -1.37126159,  4.        ],\n",
       "       [-6.961182  ,  8.73988613, 17.        ],\n",
       "       [-2.23752275,  6.52624298,  9.        ],\n",
       "       [-1.12827066, -3.22531428,  5.        ],\n",
       "       [-4.39803375, -7.16335072, 13.        ],\n",
       "       [-8.8416585 , -4.13218996,  9.        ],\n",
       "       [ 8.98202326,  7.61076964,  4.        ],\n",
       "       [ 7.14225442, -3.02191073,  2.        ],\n",
       "       [ 0.86213203, -7.27955695,  7.        ],\n",
       "       [-6.80479947, -1.03867275,  9.        ],\n",
       "       [ 4.87956217,  8.63013591,  5.        ],\n",
       "       [-0.5782461 , -6.94038493,  9.        ],\n",
       "       [-4.16421898,  0.23530254, 17.        ],\n",
       "       [ 5.96817862,  5.74845291, 19.        ],\n",
       "       [-7.00143305, -9.18063036, 18.        ],\n",
       "       [-3.98692132, -5.20074453, 13.        ],\n",
       "       [-8.62370638, -1.71779971, 10.        ],\n",
       "       [ 8.51084278, -3.67875521, 16.        ],\n",
       "       [ 2.66895651,  2.26600309,  8.        ],\n",
       "       [-3.34056287,  4.83062938,  8.        ],\n",
       "       [-4.9414741 , -5.93764922, 13.        ],\n",
       "       [ 4.71629661, -2.29021529, 18.        ],\n",
       "       [-6.32400861,  7.16226886, 16.        ],\n",
       "       [-9.69912878, -4.5652604 , 13.        ],\n",
       "       [ 0.32808834, -5.67607042,  5.        ],\n",
       "       [ 1.36346935, -8.24086623, 14.        ],\n",
       "       [-4.5007681 , -7.05396396, 17.        ],\n",
       "       [-3.18198645, -3.25284   , 16.        ],\n",
       "       [ 0.07211769,  7.69575226,  4.        ],\n",
       "       [ 1.59160369,  7.91375362,  3.        ],\n",
       "       [ 2.78010945,  0.45439945,  4.        ],\n",
       "       [ 1.36595249,  3.40908615,  3.        ],\n",
       "       [-1.08197443, -9.40239913, 13.        ],\n",
       "       [-4.37354512, -2.85353362, 11.        ],\n",
       "       [-3.00701662,  8.48352051, 19.        ],\n",
       "       [ 9.77273148,  2.74026919, 18.        ],\n",
       "       [-9.63146879,  4.4609969 ,  2.        ],\n",
       "       [ 3.46084034,  6.88263539, 14.        ],\n",
       "       [-6.19621808,  3.0849563 , 10.        ],\n",
       "       [-8.71815808, -0.81423912,  9.        ],\n",
       "       [ 4.29502966, -8.53345443,  9.        ],\n",
       "       [ 7.47788295,  9.35082552, 13.        ],\n",
       "       [-1.32132765, -4.44104616, 17.        ],\n",
       "       [-1.12115315, -3.3821519 ,  5.        ],\n",
       "       [ 4.35264199,  3.15007828,  3.        ]])"
      ]
     },
     "execution_count": 30,
     "metadata": {},
     "output_type": "execute_result"
    }
   ],
   "source": [
    "def create_random_3d_points(\n",
    "        n_points: int = 100, *, ranges: list[tuple[float, float]] = [(-10, 10), (-10, 10), (1, 20)], ) -> np.ndarray:\n",
    "    \"\"\"\n",
    "    Create random 3D points within specified ranges.\n",
    "\n",
    "    Parameters:\n",
    "    ----------\n",
    "    n_points: int\n",
    "        Number of points to generate.    \n",
    "    ranges: list[tuple[float, float]]\n",
    "        List of tuples specifying the range for each dimension.\n",
    "\n",
    "\n",
    "    Returns:\n",
    "    --------\n",
    "    points: np.ndarray\n",
    "        (n_points, len(ranges)) array of random points.\n",
    "    \"\"\"\n",
    "    if not ranges or len(ranges) != 3:\n",
    "        raise ValueError(\"Ranges must be a list of three tuples for x, y, and floor dimensions.\")\n",
    "    df = np.random.uniform(\n",
    "        low=[r[0] for r in ranges],\n",
    "        high=[r[1] for r in ranges],\n",
    "        size=(n_points, len(ranges))\n",
    "    )\n",
    "    df[:, 2] = df[:, 2].astype(int)  # Ensure the floor is an integer\n",
    "    return df\n",
    "\n",
    "query_points = create_random_3d_points()\n",
    "query_points"
   ]
  },
  {
   "cell_type": "markdown",
   "id": "ddd4572d",
   "metadata": {},
   "source": [
    "Our query points need to live in the same dimension (i.e. x,y between -10 and 10, floor between 1 and 20). Note that the floor distibution probably is not \"uniform\", but for demonstration purposes, it should not matter that much."
   ]
  },
  {
   "cell_type": "markdown",
   "id": "9405e809",
   "metadata": {},
   "source": [
    "Let's see how the whole thing looks without ray:"
   ]
  },
  {
   "cell_type": "code",
   "execution_count": 34,
   "id": "a8b5b7c7",
   "metadata": {},
   "outputs": [
    {
     "data": {
      "text/plain": [
       "array([ 686.44695276,  669.22860565, 1998.32335584, 1322.72351069,\n",
       "        557.45894749,  659.78175268,  585.0934468 , 1530.06942809,\n",
       "        637.31870009, 2530.695501  ,  609.5603613 ,  699.95208497,\n",
       "        600.51269649, 1076.53978255,  562.98149036,  659.73703114,\n",
       "        898.73516043,  541.27539212,  673.04914706,  597.64827466,\n",
       "        522.82919186,  714.54249459,  588.60622981, 1548.41028468,\n",
       "        637.29328336,  582.87338273,  541.28975894,  517.65718187,\n",
       "        700.09487413, 2067.80720814, 1479.76171179,  509.94821624,\n",
       "        669.52392544,  585.8892699 ,  631.09973196, 1920.15135273,\n",
       "       1442.23041114,  549.38755315,  691.31543722, 1025.25381979,\n",
       "       1752.89525215,  618.64701215,  689.7435575 , 1429.71398818,\n",
       "        500.06785043,  551.98817403,  597.62698711,  520.24233612,\n",
       "        588.82739055, 1186.02020719,  565.79991178,  563.19088851,\n",
       "        563.10260533,  574.41713557, 1257.32730012,  530.53992897,\n",
       "        693.33778602,  585.90597449, 1488.14221272,  634.06216265,\n",
       "        585.74950597,  530.55227066,  505.01140848,  688.18598187,\n",
       "        583.03582597,  541.24873364,  628.60648631,  807.7955738 ,\n",
       "        721.21685158,  699.95899142,  637.25145367,  597.54533146,\n",
       "        673.01434806, 1505.97038323,  618.11428008,  634.13772332,\n",
       "       1181.2572352 ,  672.82359453,  634.11770881,  914.18656031,\n",
       "        646.82901952,  689.73326167, 1048.63031713,  530.4953817 ,\n",
       "        517.69135295, 1515.32125355, 1117.06575599,  631.25100041,\n",
       "        611.56000499,  714.3461107 ,  700.08133795,  510.02558299,\n",
       "        646.81087234,  597.49554887,  585.696533  ,  588.80681472,\n",
       "        631.15887453, 1331.97182144, 1512.90448104,  936.28116401])"
      ]
     },
     "execution_count": 34,
     "metadata": {},
     "output_type": "execute_result"
    }
   ],
   "source": [
    "prices = compute_prices(query_points, reference_points_df.to_numpy(), k=DEFAULT_K)\n",
    "prices"
   ]
  },
  {
   "cell_type": "code",
   "execution_count": 33,
   "id": "291c06af",
   "metadata": {},
   "outputs": [],
   "source": [
    "def combine_points_and_prices(\n",
    "    query_points: np.ndarray, prices: np.ndarray\n",
    ") -> pd.DataFrame:\n",
    "    \"\"\"\n",
    "    Prepare human-friendly output from numpy arrays.\n",
    "\n",
    "    Parameters:\n",
    "    ----------\n",
    "    query_points: np.ndarray\n",
    "        (N, 3) array of query points\n",
    "    prices: np.ndarray\n",
    "        (N,) array of prices\n",
    "\n",
    "    Returns:\n",
    "    --------\n",
    "    df: pd.DataFrame\n",
    "        DataFrame with columns x, y, floor, price\n",
    "    \"\"\"\n",
    "    return pd.DataFrame(\n",
    "        {\n",
    "            \"x\": query_points[:,0],\n",
    "            \"y\": query_points[:,1],\n",
    "            \"floor\": query_points[:,2].astype(int),\n",
    "        }\n",
    "    )"
   ]
  },
  {
   "cell_type": "code",
   "execution_count": 35,
   "id": "08da8537",
   "metadata": {},
   "outputs": [
    {
     "data": {
      "application/vnd.microsoft.datawrangler.viewer.v0+json": {
       "columns": [
        {
         "name": "index",
         "rawType": "int64",
         "type": "integer"
        },
        {
         "name": "x",
         "rawType": "float64",
         "type": "float"
        },
        {
         "name": "y",
         "rawType": "float64",
         "type": "float"
        },
        {
         "name": "floor",
         "rawType": "int64",
         "type": "integer"
        }
       ],
       "ref": "5cd9987f-a091-4663-8793-e3295549bd78",
       "rows": [
        [
         "0",
         "-4.587336544784748",
         "8.416076413899674",
         "17"
        ],
        [
         "1",
         "3.7464327554396846",
         "-7.225722546470747",
         "15"
        ],
        [
         "2",
         "-2.1403650664504674",
         "1.0948150807082655",
         "18"
        ],
        [
         "3",
         "4.05332830077532",
         "2.730024398908844",
         "10"
        ],
        [
         "4",
         "-4.242629948771183",
         "-4.755791039436026",
         "6"
        ],
        [
         "5",
         "-4.781008952028756",
         "-6.493777538154273",
         "15"
        ],
        [
         "6",
         "-4.4125788937434685",
         "1.3538266316471699",
         "6"
        ],
        [
         "7",
         "1.6650732744348122",
         "-4.700758153820788",
         "5"
        ],
        [
         "8",
         "9.324432103386293",
         "5.157293831964383",
         "13"
        ],
        [
         "9",
         "1.1512055757140054",
         "-0.5436922863242071",
         "17"
        ],
        [
         "10",
         "-4.882422035302845",
         "8.778211531096787",
         "11"
        ],
        [
         "11",
         "5.820750140127696",
         "9.379181770950606",
         "18"
        ],
        [
         "12",
         "8.878043569684952",
         "-5.159214420294759",
         "10"
        ],
        [
         "13",
         "-2.293303577723888",
         "-3.8610952761946553",
         "15"
        ],
        [
         "14",
         "-8.072980183265395",
         "4.492331424607713",
         "7"
        ],
        [
         "15",
         "2.7683298685828124",
         "7.291647710158131",
         "15"
        ],
        [
         "16",
         "-1.1192379455540458",
         "-4.849020644417097",
         "3"
        ],
        [
         "17",
         "9.709160042125347",
         "-9.719266797337824",
         "5"
        ],
        [
         "18",
         "3.4776439874124687",
         "9.205115431482874",
         "16"
        ],
        [
         "19",
         "-3.7429615117986614",
         "6.391985366070607",
         "10"
        ],
        [
         "20",
         "9.057520678179834",
         "-0.3025710482119095",
         "3"
        ],
        [
         "21",
         "4.436577816823867",
         "5.417865877390307",
         "19"
        ],
        [
         "22",
         "9.921199284578812",
         "5.245925917635075",
         "9"
        ],
        [
         "23",
         "-2.858298861457542",
         "0.12205885766724656",
         "17"
        ],
        [
         "24",
         "9.79050615004228",
         "4.338753090916651",
         "13"
        ],
        [
         "25",
         "6.406313135716296",
         "-5.199704667663045",
         "9"
        ],
        [
         "26",
         "-0.591031128454226",
         "7.555513800705629",
         "5"
        ],
        [
         "27",
         "-5.897152630982108",
         "3.807684286607296",
         "3"
        ],
        [
         "28",
         "-9.724314588345349",
         "-6.216683851450815",
         "18"
        ],
        [
         "29",
         "0.3579185708009831",
         "-0.745166056078725",
         "7"
        ],
        [
         "30",
         "-0.9109081824482441",
         "3.4908057163414075",
         "17"
        ],
        [
         "31",
         "-3.331745910226667",
         "5.758935106240706",
         "2"
        ],
        [
         "32",
         "2.990544712833426",
         "-8.268048605731131",
         "15"
        ],
        [
         "33",
         "-3.4090336412279036",
         "-5.994717581939311",
         "9"
        ],
        [
         "34",
         "-3.425336936160761",
         "2.244612674375295",
         "9"
        ],
        [
         "35",
         "-1.3620079689338667",
         "-0.09368421123650705",
         "8"
        ],
        [
         "36",
         "3.4692635438585366",
         "-0.2450194362876772",
         "9"
        ],
        [
         "37",
         "-6.9173849936828535",
         "0.4988977956342069",
         "6"
        ],
        [
         "38",
         "7.025600734218585",
         "-1.6920687895677844",
         "17"
        ],
        [
         "39",
         "4.895359363940457",
         "-0.5503663803129122",
         "9"
        ],
        [
         "40",
         "3.2761507651670385",
         "0.7679963477403895",
         "14"
        ],
        [
         "41",
         "-7.9814344049305275",
         "2.916237662631138",
         "12"
        ],
        [
         "42",
         "-4.591017186343955",
         "-9.543957279289106",
         "17"
        ],
        [
         "43",
         "4.471229446072789",
         "-0.24186281027337486",
         "11"
        ],
        [
         "44",
         "-4.478423230342907",
         "5.871955658123863",
         "1"
        ],
        [
         "45",
         "3.7720254606512693",
         "9.004456956334288",
         "6"
        ],
        [
         "46",
         "-6.003768744149642",
         "-7.913669905630558",
         "10"
        ],
        [
         "47",
         "-5.939606966107367",
         "9.759174785630151",
         "3"
        ],
        [
         "48",
         "4.196470869391359",
         "-8.98603058419791",
         "9"
        ],
        [
         "49",
         "-0.7565173849093316",
         "3.982587587085993",
         "13"
        ]
       ],
       "shape": {
        "columns": 3,
        "rows": 100
       }
      },
      "text/html": [
       "<div>\n",
       "<style scoped>\n",
       "    .dataframe tbody tr th:only-of-type {\n",
       "        vertical-align: middle;\n",
       "    }\n",
       "\n",
       "    .dataframe tbody tr th {\n",
       "        vertical-align: top;\n",
       "    }\n",
       "\n",
       "    .dataframe thead th {\n",
       "        text-align: right;\n",
       "    }\n",
       "</style>\n",
       "<table border=\"1\" class=\"dataframe\">\n",
       "  <thead>\n",
       "    <tr style=\"text-align: right;\">\n",
       "      <th></th>\n",
       "      <th>x</th>\n",
       "      <th>y</th>\n",
       "      <th>floor</th>\n",
       "    </tr>\n",
       "  </thead>\n",
       "  <tbody>\n",
       "    <tr>\n",
       "      <th>0</th>\n",
       "      <td>-4.587337</td>\n",
       "      <td>8.416076</td>\n",
       "      <td>17</td>\n",
       "    </tr>\n",
       "    <tr>\n",
       "      <th>1</th>\n",
       "      <td>3.746433</td>\n",
       "      <td>-7.225723</td>\n",
       "      <td>15</td>\n",
       "    </tr>\n",
       "    <tr>\n",
       "      <th>2</th>\n",
       "      <td>-2.140365</td>\n",
       "      <td>1.094815</td>\n",
       "      <td>18</td>\n",
       "    </tr>\n",
       "    <tr>\n",
       "      <th>3</th>\n",
       "      <td>4.053328</td>\n",
       "      <td>2.730024</td>\n",
       "      <td>10</td>\n",
       "    </tr>\n",
       "    <tr>\n",
       "      <th>4</th>\n",
       "      <td>-4.242630</td>\n",
       "      <td>-4.755791</td>\n",
       "      <td>6</td>\n",
       "    </tr>\n",
       "    <tr>\n",
       "      <th>...</th>\n",
       "      <td>...</td>\n",
       "      <td>...</td>\n",
       "      <td>...</td>\n",
       "    </tr>\n",
       "    <tr>\n",
       "      <th>95</th>\n",
       "      <td>4.295030</td>\n",
       "      <td>-8.533454</td>\n",
       "      <td>9</td>\n",
       "    </tr>\n",
       "    <tr>\n",
       "      <th>96</th>\n",
       "      <td>7.477883</td>\n",
       "      <td>9.350826</td>\n",
       "      <td>13</td>\n",
       "    </tr>\n",
       "    <tr>\n",
       "      <th>97</th>\n",
       "      <td>-1.321328</td>\n",
       "      <td>-4.441046</td>\n",
       "      <td>17</td>\n",
       "    </tr>\n",
       "    <tr>\n",
       "      <th>98</th>\n",
       "      <td>-1.121153</td>\n",
       "      <td>-3.382152</td>\n",
       "      <td>5</td>\n",
       "    </tr>\n",
       "    <tr>\n",
       "      <th>99</th>\n",
       "      <td>4.352642</td>\n",
       "      <td>3.150078</td>\n",
       "      <td>3</td>\n",
       "    </tr>\n",
       "  </tbody>\n",
       "</table>\n",
       "<p>100 rows × 3 columns</p>\n",
       "</div>"
      ],
      "text/plain": [
       "           x         y  floor\n",
       "0  -4.587337  8.416076     17\n",
       "1   3.746433 -7.225723     15\n",
       "2  -2.140365  1.094815     18\n",
       "3   4.053328  2.730024     10\n",
       "4  -4.242630 -4.755791      6\n",
       "..       ...       ...    ...\n",
       "95  4.295030 -8.533454      9\n",
       "96  7.477883  9.350826     13\n",
       "97 -1.321328 -4.441046     17\n",
       "98 -1.121153 -3.382152      5\n",
       "99  4.352642  3.150078      3\n",
       "\n",
       "[100 rows x 3 columns]"
      ]
     },
     "execution_count": 35,
     "metadata": {},
     "output_type": "execute_result"
    }
   ],
   "source": [
    "combine_points_and_prices(query_points, prices)"
   ]
  },
  {
   "cell_type": "markdown",
   "id": "f6b25c8d",
   "metadata": {},
   "source": [
    "We already know how to parallelise this:"
   ]
  },
  {
   "cell_type": "code",
   "execution_count": 36,
   "id": "70520155",
   "metadata": {},
   "outputs": [],
   "source": [
    "# Note we can apply the decorator directly to the function\n",
    "compute_prices_ray = ray.remote(compute_prices)"
   ]
  },
  {
   "cell_type": "code",
   "execution_count": null,
   "id": "f5ca9f19",
   "metadata": {},
   "outputs": [],
   "source": [
    "%%time\n",
    "query_points = create_random_3d_points(100_000)\n",
    "batches = split_into_batches(query_points, 1_000)\n",
    "task_ids = [\n",
    "    compute_prices_ray.remote(batch, reference_points_df.to_numpy(), k=DEFAULT_K) \n",
    "    for batch in batches\n",
    "]\n",
    "np.hstack(ray.get(task_ids))"
   ]
  },
  {
   "cell_type": "markdown",
   "id": "24025360",
   "metadata": {},
   "source": [
    "This is relatively fine but mind that we are passing the same reference points over and over again to ray (which requires repeated serialisation, ...). It does not matter that much in our case but if the reference points dataframe were larger, we might see a significant performance penalty."
   ]
  },
  {
   "cell_type": "markdown",
   "id": "b9a1f9e9",
   "metadata": {},
   "source": [
    "### Storing objects in ray"
   ]
  },
  {
   "cell_type": "markdown",
   "id": "954cf046",
   "metadata": {},
   "source": [
    "What we can do instead, is to pass the object to ray just once and pass its **object id**. Ray automatically cares about using the referenced value.\n",
    "\n",
    "Let's take it to the extreme and compute the price for each of 10,000 points in a separate task:"
   ]
  },
  {
   "cell_type": "code",
   "execution_count": null,
   "id": "0a4095cb",
   "metadata": {},
   "outputs": [],
   "source": [
    "%%time\n",
    "query_points = create_random_3d_points(10_000)\n",
    "batches = split_into_batches(query_points, 1_000)\n",
    "task_ids = [\n",
    "    compute_prices_ray.remote(batch, reference_points_df.to_numpy(), k=DEFAULT_K) \n",
    "    for batch in batches\n",
    "]\n",
    "ray.get(task_ids);"
   ]
  },
  {
   "cell_type": "code",
   "execution_count": null,
   "id": "e5e2aaf2",
   "metadata": {},
   "outputs": [],
   "source": [
    "%%time\n",
    "query_points = create_random_3d_points(10_000)\n",
    "batches = split_into_batches(query_points, 1)\n",
    "task_ids = [\n",
    "    compute_prices_ray.remote(batch, reference_points_df.to_numpy(), k=DEFAULT_K) \n",
    "    for batch in batches\n",
    "]\n",
    "ray.get(task_ids);"
   ]
  },
  {
   "cell_type": "markdown",
   "id": "cddff209",
   "metadata": {},
   "source": [
    "Do you see the degraded performance?\n",
    "\n",
    "Of course it is mostly due to creating a task per point but part of the penalty is coming from passing the array so many times."
   ]
  },
  {
   "cell_type": "markdown",
   "id": "81f861ca",
   "metadata": {},
   "source": [
    "Putting objects into a ray cluster is very simple, actually:"
   ]
  },
  {
   "cell_type": "code",
   "execution_count": null,
   "id": "a936976e",
   "metadata": {},
   "outputs": [],
   "source": [
    "i = 9\n",
    "arg_id = ray.put(i)\n",
    "arg_id"
   ]
  },
  {
   "cell_type": "code",
   "execution_count": null,
   "id": "02f3553a",
   "metadata": {},
   "outputs": [],
   "source": [
    "ray.get(long_running_ray.remote(arg_id))"
   ]
  },
  {
   "cell_type": "markdown",
   "id": "8a44f6de",
   "metadata": {},
   "source": [
    "**Task**\n",
    "\n",
    "1. Modify the `compute_prices_ray` from above so that `reference_points_df.to_numpy()` is stored in the ray cluster and reused in each task.\n",
    "2. Compare the execution time."
   ]
  },
  {
   "cell_type": "code",
   "execution_count": null,
   "id": "21b3524c",
   "metadata": {},
   "outputs": [],
   "source": [
    "%%time\n",
    "query_points = create_random_3d_points(10000)\n",
    "batches = split_into_batches(query_points, 1)\n",
    "reference_id = ray.put(reference_points_df.to_numpy())\n",
    "task_ids = [\n",
    "    compute_prices_ray.remote(batch, reference_id, k=DEFAULT_K) \n",
    "    for batch in batches\n",
    "]\n",
    "ray.get(task_ids);"
   ]
  },
  {
   "cell_type": "markdown",
   "id": "da39ad63",
   "metadata": {},
   "source": [
    "Is it better now?"
   ]
  },
  {
   "cell_type": "markdown",
   "id": "872b6700",
   "metadata": {},
   "source": [
    "**Question**: Would putting query points (either whole or batched) to ray help as well?"
   ]
  },
  {
   "cell_type": "markdown",
   "id": "bfc8044f",
   "metadata": {},
   "source": [
    "## TODO: Optional: Actors"
   ]
  },
  {
   "cell_type": "markdown",
   "id": "d189a6d8",
   "metadata": {},
   "source": [
    "We would like to create a map of prices, i.e. sample data in a grid over the allowed area and use our kNN model to predict a price for each of those (given the floor as a parameter). "
   ]
  },
  {
   "cell_type": "code",
   "execution_count": 40,
   "id": "1a4a0515",
   "metadata": {},
   "outputs": [],
   "source": [
    "class PriceMap:\n",
    "    DEFAULT_POINTS_PER_DIM = 21\n",
    "    DEFAULT_LIMIT = 10.0\n",
    "\n",
    "    points_per_dim: int\n",
    "    limit: float\n",
    "    floor: int\n",
    "\n",
    "    query_points: np.ndarray\n",
    "\n",
    "    def __init__(\n",
    "        self,\n",
    "        reference_points: np.ndarray,\n",
    "        points_per_dim: int = DEFAULT_POINTS_PER_DIM,\n",
    "        floor: int = 1,\n",
    "        limit: float = DEFAULT_LIMIT,\n",
    "    ):\n",
    "        self.points_per_dim = points_per_dim\n",
    "        self.reference_points = reference_points\n",
    "        self.floor = floor\n",
    "        self.limit = limit\n",
    "        self._create_query_points()\n",
    "\n",
    "    def _create_query_points(self) -> np.ndarray:\n",
    "        \"\"\"\n",
    "        Create a homogenous grid of points with a floor to create a map.\n",
    "\n",
    "        Returns:\n",
    "        --------\n",
    "        query_points: np.ndarray\n",
    "            (n_points x n_points, 3) array of query points\n",
    "        \"\"\"\n",
    "        x = np.linspace(-self.limit, self.limit, self.points_per_dim)\n",
    "        y = np.linspace(-self.limit, self.limit, self.points_per_dim)\n",
    "        x, y = (arr.flatten() for arr in np.meshgrid(x, y))\n",
    "        self.query_points = np.vstack([x, y, np.ones(x.shape[0]) * self.floor]).T\n",
    "\n",
    "    def compute_prices(self) -> np.ndarray:\n",
    "        return compute_prices(self.query_points, self.reference_points, k=DEFAULT_K)"
   ]
  },
  {
   "cell_type": "code",
   "execution_count": 41,
   "id": "7ff6d44f",
   "metadata": {},
   "outputs": [
    {
     "data": {
      "text/plain": [
       "array([ 502.62571959,  495.10341566,  500.08443712,  502.40907427,\n",
       "        500.03661855,  507.47369674,  500.02074848,  497.59564911,\n",
       "        497.49921835,  502.54348979,  497.44893985,  497.58921302,\n",
       "        497.55507817,  502.60535371,  497.64007895,  497.46649233,\n",
       "        500.10013491,  497.55388254,  500.01996648,  502.59657281,\n",
       "        500.09682999,  495.03729668,  495.06522865,  516.69827692,\n",
       "        829.9530909 ,  971.00173282,  694.15259394,  502.61249975,\n",
       "        499.94960905,  502.55920568,  502.65341359,  499.88948164,\n",
       "        499.9896255 ,  678.16758431, 1376.8727563 , 1615.59885139,\n",
       "       1242.70934716,  607.62934693,  497.54972248,  504.89269373,\n",
       "        497.6841445 ,  505.11672521,  497.46523006,  863.30632403,\n",
       "       1483.997877  , 1715.3985825 , 1241.6947183 ,  519.76844346,\n",
       "        500.00961586,  497.5518391 ,  500.06356972,  499.95023628,\n",
       "        500.02303676,  798.79329671, 1643.64638986, 1662.70738472,\n",
       "       1333.3549859 ,  688.79540446,  500.02268248,  495.0922878 ,\n",
       "        500.09882342,  500.14046726,  500.04269796,  549.01940141,\n",
       "       1153.20510479, 1012.92851994, 1084.93311499,  616.21469819,\n",
       "        502.47494323,  499.86639254,  499.96546198,  497.65733481,\n",
       "        500.07648946,  500.12286763,  598.6949125 ,  544.41910977,\n",
       "        532.3216403 ,  502.57034123,  499.83175173,  499.9093197 ,\n",
       "        500.04711293,  499.95940204,  499.94557232,  497.63288724,\n",
       "        497.49469731,  500.02994227,  500.064458  ,  502.6086895 ,\n",
       "        502.45788769,  497.54230682,  497.64758741,  500.05620477,\n",
       "        502.5575972 ,  502.40699553,  502.36002285,  505.12022925,\n",
       "        502.60440718,  497.68690713,  500.01934626,  497.50167414])"
      ]
     },
     "execution_count": 41,
     "metadata": {},
     "output_type": "execute_result"
    }
   ],
   "source": [
    "price_map = PriceMap(reference_points_df.to_numpy(), points_per_dim=10, floor=1)\n",
    "price_map.compute_prices()"
   ]
  },
  {
   "cell_type": "markdown",
   "id": "aa9309eb",
   "metadata": {},
   "source": [
    "TODO: Create an actor?"
   ]
  },
  {
   "cell_type": "code",
   "execution_count": null,
   "id": "f3607f99",
   "metadata": {},
   "outputs": [],
   "source": [
    "def draw_points(points: np.ndarray) -> None:\n",
    "    \"\"\"\n",
    "    Draw points on a map.\n",
    "\n",
    "    Parameters:\n",
    "    -----------\n",
    "    points: np.ndarray\n",
    "        (N, 3) array of points to draw\n",
    "    \"\"\"\n",
    "    df = pd.DataFrame({\"x\": points[:,0], \"y\": points[:,1]})\n",
    "    fig = px.scatter(df, x=\"x\", y=\"y\", title=\"Query points\")\n",
    "    fig.show()\n",
    "\n",
    "draw_points(create_query_points(5))"
   ]
  },
  {
   "cell_type": "markdown",
   "id": "cb1511b6",
   "metadata": {},
   "source": []
  }
 ],
 "metadata": {
  "kernelspec": {
   "display_name": "accelerating-scientific-python",
   "language": "python",
   "name": "python3"
  },
  "language_info": {
   "codemirror_mode": {
    "name": "ipython",
    "version": 3
   },
   "file_extension": ".py",
   "mimetype": "text/x-python",
   "name": "python",
   "nbconvert_exporter": "python",
   "pygments_lexer": "ipython3",
   "version": "3.12.7"
  }
 },
 "nbformat": 4,
 "nbformat_minor": 5
}
