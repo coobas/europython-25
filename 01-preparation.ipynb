{
 "cells": [
  {
   "cell_type": "markdown",
   "id": "46aa7330",
   "metadata": {},
   "source": [
    "# Preparation\n",
    "\n",
    "Preparation instructions for the [*Accelerating Scientific Python: JAX, Numba, and Ray in Action* tutorial](https://programme.europython.eu/europython-2025/talk/D9JGFG/)."
   ]
  },
  {
   "cell_type": "markdown",
   "id": "059702e3",
   "metadata": {},
   "source": [
    "## 1. Open in Google Colab\n",
    "\n",
    "Click the link below to open the preparation notebook directly in Google Colab:\n",
    "\n",
    "[![Open In Colab](https://colab.research.google.com/assets/colab-badge.svg)](https://colab.research.google.com/github/coobas/europython-25/blob/main/01-preparation.ipynb)\n",
    "\n",
    "## 2. Check the environment\n",
    "\n",
    "Execute the following code cell to test the environment.\n"
   ]
  },
  {
   "cell_type": "code",
   "execution_count": null,
   "id": "b0046dc8",
   "metadata": {},
   "outputs": [],
   "source": [
    "import sys\n",
    "\n",
    "import numpy as np\n",
    "import jax\n",
    "\n",
    "print(f\"Python version: {sys.version}\")\n",
    "print(f\"NumPy version: {np.__version__}\")\n",
    "print(f\"JAX version: {jax.__version__}\")\n",
    "print(f\"JAX devices: {jax.devices()}\")"
   ]
  },
  {
   "cell_type": "markdown",
   "id": "cd6fe9a2",
   "metadata": {},
   "source": [
    "You should see the following output:\n",
    "\n",
    "```\n",
    "Python version: 3.12.5 (main, Aug 14 2024, 04:32:18) [Clang 18.1.8 ]\n",
    "NumPy version: 2.2.6\n",
    "JAX version: 0.6.0\n",
    "JAX devices: [CpuDevice(id=0)]\n",
    "```"
   ]
  },
  {
   "cell_type": "markdown",
   "id": "9d8c74b5",
   "metadata": {},
   "source": []
  }
 ],
 "metadata": {
  "kernelspec": {
   "display_name": ".venv",
   "language": "python",
   "name": "python3"
  },
  "language_info": {
   "codemirror_mode": {
    "name": "ipython",
    "version": 3
   },
   "file_extension": ".py",
   "mimetype": "text/x-python",
   "name": "python",
   "nbconvert_exporter": "python",
   "pygments_lexer": "ipython3",
   "version": "3.12.5"
  }
 },
 "nbformat": 4,
 "nbformat_minor": 5
}
