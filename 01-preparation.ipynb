{
 "cells": [
  {
   "cell_type": "markdown",
   "id": "958999bc",
   "metadata": {},
   "source": [
    "# Preparation\n"
   ]
  },
  {
   "cell_type": "markdown",
   "id": "bc29238f",
   "metadata": {},
   "source": [
    "## Test the environment\n",
    "\n",
    "Execute the following code cell to test the environment.\n"
   ]
  },
  {
   "cell_type": "code",
   "execution_count": 3,
   "id": "b0046dc8",
   "metadata": {},
   "outputs": [
    {
     "name": "stdout",
     "output_type": "stream",
     "text": [
      "Python version: 3.12.5 (main, Aug 14 2024, 04:32:18) [Clang 18.1.8 ]\n",
      "NumPy version: 2.2.6\n",
      "JAX version: 0.6.0\n",
      "JAX devices: [CpuDevice(id=0)]\n"
     ]
    }
   ],
   "source": [
    "import sys\n",
    "\n",
    "import numpy as np\n",
    "import jax\n",
    "\n",
    "print(f\"Python version: {sys.version}\")\n",
    "print(f\"NumPy version: {np.__version__}\")\n",
    "print(f\"JAX version: {jax.__version__}\")\n",
    "print(f\"JAX devices: {jax.devices()}\")"
   ]
  },
  {
   "cell_type": "code",
   "execution_count": null,
   "id": "82dc8504",
   "metadata": {},
   "outputs": [],
   "source": []
  }
 ],
 "metadata": {
  "kernelspec": {
   "display_name": ".venv",
   "language": "python",
   "name": "python3"
  },
  "language_info": {
   "codemirror_mode": {
    "name": "ipython",
    "version": 3
   },
   "file_extension": ".py",
   "mimetype": "text/x-python",
   "name": "python",
   "nbconvert_exporter": "python",
   "pygments_lexer": "ipython3",
   "version": "3.12.5"
  }
 },
 "nbformat": 4,
 "nbformat_minor": 5
}
