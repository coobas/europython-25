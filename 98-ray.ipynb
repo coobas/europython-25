{
 "cells": [
  {
   "cell_type": "markdown",
   "id": "3497647e",
   "metadata": {},
   "source": [
    "# Parallel computation with Ray"
   ]
  },
  {
   "cell_type": "markdown",
   "id": "54735612",
   "metadata": {},
   "source": [
    "[![Open In Colab](https://colab.research.google.com/assets/colab-badge.svg)](https://colab.research.google.com/github/coobas/europython-25/blob/main/98-ray.ipynb)"
   ]
  },
  {
   "cell_type": "code",
   "execution_count": null,
   "id": "d8631bbe",
   "metadata": {},
   "outputs": [],
   "source": [
    "# Run this in Google Collab, perhaps not elsewhere\n",
    "!pip install numpy ray[default] polars\n",
    "!europython-25/*.parquet local_data/\n",
    "!git clone https://github.com/coobas/europython-25.git\n",
    "!mkdir -p local_data\n",
    "!cp europython-25/*.parquet local_data/"
   ]
  },
  {
   "cell_type": "code",
   "execution_count": 5,
   "id": "1b8faadc",
   "metadata": {},
   "outputs": [],
   "source": [
    "import numpy as np\n",
    "import polars as pl\n",
    "import ray\n",
    "\n",
    "from pathlib import Path"
   ]
  },
  {
   "cell_type": "code",
   "execution_count": 11,
   "id": "c08c34ba",
   "metadata": {},
   "outputs": [],
   "source": [
    "# Constants\n",
    "N_POINTS = 10   # Number of points in each dimension for the grid\n",
    "LIMIT = 10.0    # +/- Span of the grid\n",
    "DEFAULT_K = 4   # How many nearest neighbors to consider"
   ]
  },
  {
   "cell_type": "code",
   "execution_count": 7,
   "id": "378c24e6",
   "metadata": {},
   "outputs": [],
   "source": [
    "def calculate_distances(query_points: np.ndarray, reference_points: np.ndarray) -> np.ndarray:\n",
    "    \"\"\"\n",
    "    Calculate mutual distances between M query and N reference points.\n",
    "\n",
    "    Returns:\n",
    "    --------\n",
    "    distances: np.ndarray\n",
    "        (N, M) array of the distances\n",
    "    \"\"\"\n",
    "    # Expand for broadcasting\n",
    "    query_points = query_points[:, :, np.newaxis]\n",
    "    reference_points = reference_points[:3, np.newaxis]\n",
    "    return np.sqrt(np.sum((reference_points - query_points) ** 2, axis=0))\n",
    "\n",
    "\n",
    "def knn_search(\n",
    "    query_points: np.ndarray,\n",
    "    reference_points: np.ndarray,\n",
    "    k: int,\n",
    "    distances_func=calculate_distances,\n",
    "):\n",
    "    \"\"\"\n",
    "    Find k nearest neighbour reference point indices for N query points.\n",
    "\n",
    "    Returns:\n",
    "    --------\n",
    "    indices: np.ndarray\n",
    "        (N, k) matrix of integral indices\n",
    "\n",
    "    \"\"\"\n",
    "    distances = distances_func(query_points, reference_points).T\n",
    "    nearest_indices = np.argpartition(distances, k, axis=0)[:k].T\n",
    "    return nearest_indices"
   ]
  },
  {
   "cell_type": "code",
   "execution_count": 12,
   "id": "9ca859ba",
   "metadata": {},
   "outputs": [],
   "source": [
    "def create_point_grid(n_points: int = N_POINTS) -> tuple[np.ndarray, ...]:\n",
    "    \"\"\"\n",
    "    Create a homogenous grid of points to create a map.\n",
    "\n",
    "    Returns:\n",
    "    --------\n",
    "    x: np.ndarray\n",
    "        Flattened (N_POINTS x N_POINTS,) array of x values\n",
    "    y: np.ndarray\n",
    "        Flattened (N_POINTS x N_POINTS,) array of x values\n",
    "    \"\"\"\n",
    "    # TODO: Add floor\n",
    "    x = np.linspace(-LIMIT, LIMIT, n_points)\n",
    "    y = np.linspace(-LIMIT, LIMIT, n_points)\n",
    "    return tuple(arr.flatten() for arr in np.meshgrid(x, y))\n",
    "\n",
    "\n",
    "def create_query_points(n_points: int = N_POINTS, floor: int = 1) -> np.ndarray:\n",
    "    \"\"\"\n",
    "    Create a homogenous grid of points with a floor to create a map.\n",
    "\n",
    "    Returns:\n",
    "    --------\n",
    "    query_points: np.ndarray\n",
    "        (n_points x n_points, 3) array of query points\n",
    "    \"\"\"\n",
    "    x, y = create_point_grid(n_points=n_points)\n",
    "    return np.vstack([x, y, np.ones(x.shape[0]) * floor])"
   ]
  },
  {
   "cell_type": "code",
   "execution_count": 9,
   "id": "58b91cd5",
   "metadata": {},
   "outputs": [],
   "source": [
    "def compute_prices(query_points: np.ndarray, reference_points: np.ndarray) -> np.ndarray:\n",
    "    \"\"\"\n",
    "    Find prices for N data_points.\n",
    "\n",
    "    Returns:\n",
    "    --------\n",
    "    prices: np.ndarray\n",
    "        (N,) array of prices\n",
    "    \"\"\"\n",
    "    indices = knn_search(query_points, reference_points, DEFAULT_K)\n",
    "    prices: np.ndarray = reference_points[3][indices]\n",
    "    return prices.mean(axis=1)\n",
    "\n",
    "\n",
    "def combine_points_and_prices(\n",
    "    query_points: np.ndarray, prices: np.ndarray\n",
    ") -> pl.DataFrame:\n",
    "    \"\"\"\n",
    "    Prepare human-friendly output from numpy arrays.\n",
    "\n",
    "    Returns:\n",
    "    --------\n",
    "    df: pl.DataFrame\n",
    "        DataFrame with columns x, y, floor, price\n",
    "    \"\"\"\n",
    "    return pl.DataFrame(\n",
    "        {\n",
    "            \"x\": query_points[0],\n",
    "            \"y\": query_points[1],\n",
    "            \"floor\": query_points[2],\n",
    "            \"price\": prices,\n",
    "        }\n",
    "    )"
   ]
  },
  {
   "cell_type": "code",
   "execution_count": 10,
   "id": "20a7774f",
   "metadata": {},
   "outputs": [
    {
     "data": {
      "text/plain": [
       "array([[-2.50919762e+00,  9.01428613e+00,  4.63987884e+00, ...,\n",
       "         8.93415830e+00, -2.05024015e+00, -5.65719192e+00],\n",
       "       [-2.52718363e+00, -3.34175808e+00, -6.47692175e+00, ...,\n",
       "        -3.92603062e+00, -1.13359987e+00, -6.55470371e+00],\n",
       "       [ 1.00000000e+00,  3.00000000e+00,  1.20000000e+01, ...,\n",
       "         1.60000000e+01,  1.00000000e+00,  1.40000000e+01],\n",
       "       [ 9.83737837e+02,  5.20453425e+02,  6.21498431e+02, ...,\n",
       "         6.73260987e+02,  1.32561175e+03,  6.46913957e+02]],\n",
       "      shape=(4, 10000))"
      ]
     },
     "execution_count": 10,
     "metadata": {},
     "output_type": "execute_result"
    }
   ],
   "source": [
    "def load_reference_points(path: Path = Path(\"local_data/data.parquet\")) -> np.ndarray:\n",
    "    \"\"\"\n",
    "    Load reference data points from a Parquet file.\n",
    "\n",
    "    Returns:\n",
    "    --------\n",
    "    data_points: np.ndarray\n",
    "        (N, 4) array of data points with x, y, floor, and price columns\n",
    "    \"\"\"\n",
    "\n",
    "    df = pl.read_parquet(path)\n",
    "    return np.vstack(\n",
    "        [\n",
    "            df[\"x\"].to_numpy(),\n",
    "            df[\"y\"].to_numpy(),\n",
    "            df[\"floor\"].to_numpy(),\n",
    "            df[\"price\"].to_numpy(),\n",
    "        ]\n",
    "    )\n",
    "\n",
    "load_reference_points()"
   ]
  },
  {
   "cell_type": "markdown",
   "id": "20bc510c",
   "metadata": {},
   "source": [
    "## Run without ray"
   ]
  },
  {
   "cell_type": "code",
   "execution_count": null,
   "id": "2c811011",
   "metadata": {},
   "outputs": [],
   "source": [
    "reference_points = load_reference_points()\n",
    "query_points = create_query_points(n_points=21)  # 21x21 grid"
   ]
  },
  {
   "cell_type": "code",
   "execution_count": null,
   "id": "ddcecfae",
   "metadata": {},
   "outputs": [],
   "source": [
    "prices = compute_prices(query_points, reference_points)\n",
    "prices"
   ]
  },
  {
   "cell_type": "code",
   "execution_count": null,
   "id": "8720f27f",
   "metadata": {},
   "outputs": [],
   "source": [
    "%%time\n",
    "points_and_prices = combine_points_and_prices(query_points=query_points, prices=prices)\n",
    "points_and_prices"
   ]
  },
  {
   "cell_type": "code",
   "execution_count": 15,
   "id": "e5a8bc40",
   "metadata": {},
   "outputs": [],
   "source": [
    "@ray.remote\n",
    "def long_running_task():\n",
    "    import time\n",
    "    time.sleep(60)\n",
    "    return \"Finished long running task\""
   ]
  },
  {
   "cell_type": "code",
   "execution_count": 18,
   "id": "080caa3c",
   "metadata": {},
   "outputs": [
    {
     "data": {
      "text/plain": [
       "'Finished long running task'"
      ]
     },
     "execution_count": 18,
     "metadata": {},
     "output_type": "execute_result"
    }
   ],
   "source": [
    "ray.get(long_running_task.remote())"
   ]
  },
  {
   "cell_type": "markdown",
   "id": "74ddd048",
   "metadata": {},
   "source": [
    "## Monitoring ray"
   ]
  },
  {
   "cell_type": "markdown",
   "id": "4a33f860",
   "metadata": {},
   "source": [
    "Ray comes with a nice dashboard that allows you to observe running jobs. It runs in a local web server, mostly likely http://localhost:8265. This address is not accessible when running within Google Colab, and so you have to use a special trick to show a mini-window forwarded to the dashboard running in the cloud."
   ]
  },
  {
   "cell_type": "code",
   "execution_count": null,
   "id": "bdfb2484",
   "metadata": {},
   "outputs": [
    {
     "name": "stdout",
     "output_type": "stream",
     "text": [
      "Not in google Colab. Try the local link, it might work.\n"
     ]
    }
   ],
   "source": [
    "try:\n",
    "    from google.colab import output\n",
    "    output.serve_kernel_port_as_iframe(8265)\n",
    "except ImportError:\n",
    "    print(\"Not in google Colab. Try the local link, it might work.\")"
   ]
  },
  {
   "cell_type": "markdown",
   "id": "91ff5948",
   "metadata": {},
   "source": [
    "## Compute prices in ray"
   ]
  },
  {
   "cell_type": "code",
   "execution_count": null,
   "id": "7cfeece6",
   "metadata": {},
   "outputs": [],
   "source": [
    "@ray.remote\n",
    "def compute_prices(query_points: np.ndarray, reference_points: np.ndarray) -> np.ndarray:\n",
    "    \"\"\"\n",
    "    Find prices for N data_points.\n",
    "\n",
    "    Returns:\n",
    "    --------\n",
    "    prices: np.ndarray\n",
    "        (N,) array of prices\n",
    "    \"\"\"\n",
    "    indices = knn_search(query_points, reference_points, DEFAULT_K)\n",
    "    prices: np.ndarray = reference_points[3][indices]\n",
    "    return prices.mean(axis=1)"
   ]
  },
  {
   "cell_type": "code",
   "execution_count": 14,
   "id": "64ad7271",
   "metadata": {},
   "outputs": [
    {
     "name": "stderr",
     "output_type": "stream",
     "text": [
      "2025-07-13 21:09:45,253\tINFO worker.py:1879 -- Started a local Ray instance. View the dashboard at \u001b[1m\u001b[32mhttp://127.0.0.1:8266 \u001b[39m\u001b[22m\n"
     ]
    },
    {
     "ename": "AttributeError",
     "evalue": "'function' object has no attribute 'remote'",
     "output_type": "error",
     "traceback": [
      "\u001b[31m---------------------------------------------------------------------------\u001b[39m",
      "\u001b[31mAttributeError\u001b[39m                            Traceback (most recent call last)",
      "\u001b[36mCell\u001b[39m\u001b[36m \u001b[39m\u001b[32mIn[14]\u001b[39m\u001b[32m, line 6\u001b[39m\n\u001b[32m      2\u001b[39m query_points = create_query_points(n_points=\u001b[32m21\u001b[39m)  \n\u001b[32m      4\u001b[39m ray.init(ignore_reinit_error=\u001b[38;5;28;01mTrue\u001b[39;00m)\n\u001b[32m----> \u001b[39m\u001b[32m6\u001b[39m prices = \u001b[43mcompute_prices\u001b[49m\u001b[43m.\u001b[49m\u001b[43mremote\u001b[49m(query_points, reference_points)\n\u001b[32m      7\u001b[39m prices\n",
      "\u001b[31mAttributeError\u001b[39m: 'function' object has no attribute 'remote'"
     ]
    }
   ],
   "source": [
    "reference_points = load_reference_points()\n",
    "query_points = create_query_points(n_points=21)  \n",
    "\n",
    "ray.init(ignore_reinit_error=True)\n",
    "\n",
    "prices = compute_prices.remote(query_points, reference_points)\n",
    "prices"
   ]
  },
  {
   "cell_type": "code",
   "execution_count": null,
   "id": "790e553d",
   "metadata": {},
   "outputs": [],
   "source": [
    "ray.get(prices)"
   ]
  }
 ],
 "metadata": {
  "kernelspec": {
   "display_name": "accelerating-scientific-python",
   "language": "python",
   "name": "python3"
  },
  "language_info": {
   "codemirror_mode": {
    "name": "ipython",
    "version": 3
   },
   "file_extension": ".py",
   "mimetype": "text/x-python",
   "name": "python",
   "nbconvert_exporter": "python",
   "pygments_lexer": "ipython3",
   "version": "3.12.7"
  }
 },
 "nbformat": 4,
 "nbformat_minor": 5
}
