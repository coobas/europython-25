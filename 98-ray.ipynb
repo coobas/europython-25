{
 "cells": [
  {
   "cell_type": "markdown",
   "id": "3497647e",
   "metadata": {},
   "source": [
    "# Parallel computation with Ray"
   ]
  },
  {
   "cell_type": "markdown",
   "id": "54735612",
   "metadata": {},
   "source": [
    "[![Open In Colab](https://colab.research.google.com/assets/colab-badge.svg)](https://colab.research.google.com/github/coobas/europython-25/blob/main/98.ray.ipynb)"
   ]
  },
  {
   "cell_type": "code",
   "execution_count": null,
   "id": "d8631bbe",
   "metadata": {},
   "outputs": [],
   "source": [
    "# Run this in Google Collab, perhaps not elsewhere\n",
    "!pip install numpy ray[default] polars\n",
    "!europython-25/*.parquet local_data/\n",
    "!git clone https://github.com/coobas/europython-25.git\n",
    "!mkdir -p local_data\n",
    "!cp europython-25/*.parquet local_data/"
   ]
  },
  {
   "cell_type": "code",
   "execution_count": null,
   "id": "1b8faadc",
   "metadata": {},
   "outputs": [],
   "source": [
    "import numpy as np\n",
    "import polars as pl\n",
    "import ray\n",
    "\n",
    "from pathlib import Path"
   ]
  },
  {
   "cell_type": "code",
   "execution_count": null,
   "id": "c08c34ba",
   "metadata": {},
   "outputs": [],
   "source": [
    "# Constants\n",
    "N_POINTS = 10   # Number of points in each dimension for the grid\n",
    "LIMIT = 10.0    # +/- Span of the grid\n",
    "DEFAULT_K = 4   # How many nearest neighbors to consider"
   ]
  },
  {
   "cell_type": "code",
   "execution_count": null,
   "id": "378c24e6",
   "metadata": {},
   "outputs": [],
   "source": [
    "def calculate_distances(query_points: np.ndarray, reference_points: np.ndarray) -> np.ndarray:\n",
    "    \"\"\"\n",
    "    Calculate mutual distances between M query and N reference points.\n",
    "\n",
    "    Returns:\n",
    "    --------\n",
    "    distances: np.ndarray\n",
    "        (N, M) array of the distances\n",
    "    \"\"\"\n",
    "    # Expand for broadcasting\n",
    "    query_points = query_points[:, :, np.newaxis]\n",
    "    reference_points = reference_points[:3, np.newaxis]\n",
    "    return np.sqrt(np.sum((reference_points - query_points) ** 2, axis=0))\n",
    "\n",
    "\n",
    "def knn_search(\n",
    "    query_points: np.ndarray,\n",
    "    reference_points: np.ndarray,\n",
    "    k: int,\n",
    "    distances_func=calculate_distances,\n",
    "):\n",
    "    \"\"\"\n",
    "    Find k nearest neighbour reference point indices for N query points.\n",
    "\n",
    "    Returns:\n",
    "    --------\n",
    "    indices: np.ndarray\n",
    "        (N, k) matrix of integral indices\n",
    "\n",
    "    \"\"\"\n",
    "    distances = distances_func(query_points, reference_points).T\n",
    "    nearest_indices = np.argpartition(distances, k, axis=0)[:k].T\n",
    "    return nearest_indices"
   ]
  },
  {
   "cell_type": "code",
   "execution_count": null,
   "id": "9ca859ba",
   "metadata": {},
   "outputs": [],
   "source": [
    "def create_point_grid(n_points: int = N_POINTS) -> tuple[np.ndarray, ...]:\n",
    "    \"\"\"\n",
    "    Create a homogenous grid of points to create a map.\n",
    "\n",
    "    Returns:\n",
    "    --------\n",
    "    x: np.ndarray\n",
    "        Flattened (N_POINTS x N_POINTS,) array of x values\n",
    "    y: np.ndarray\n",
    "        Flattened (N_POINTS x N_POINTS,) array of x values\n",
    "    \"\"\"\n",
    "    # TODO: Add floor\n",
    "    x = np.linspace(-LIMIT, LIMIT, n_points)\n",
    "    y = np.linspace(-LIMIT, LIMIT, n_points)\n",
    "    return tuple(arr.flatten() for arr in np.meshgrid(x, y))\n",
    "\n",
    "\n",
    "def create_query_points(n_points: int = N_POINTS, floor: int = 1) -> np.ndarray:\n",
    "    \"\"\"\n",
    "    Create a homogenous grid of points with a floor to create a map.\n",
    "\n",
    "    Returns:\n",
    "    --------\n",
    "    query_points: np.ndarray\n",
    "        (n_points x n_points, 3) array of query points\n",
    "    \"\"\"\n",
    "    x, y = create_point_grid(n_points=n_points)\n",
    "    return np.vstack([x, y, np.ones(x.shape[0]) * floor])"
   ]
  },
  {
   "cell_type": "code",
   "execution_count": null,
   "id": "58b91cd5",
   "metadata": {},
   "outputs": [],
   "source": [
    "def compute_prices(query_points: np.ndarray, reference_points: np.ndarray) -> np.ndarray:\n",
    "    \"\"\"\n",
    "    Find prices for N data_points.\n",
    "\n",
    "    Returns:\n",
    "    --------\n",
    "    prices: np.ndarray\n",
    "        (N,) array of prices\n",
    "    \"\"\"\n",
    "    indices = knn_search(query_points, reference_points, DEFAULT_K)\n",
    "    prices: np.ndarray = reference_points[3][indices]\n",
    "    return prices.mean(axis=1)\n",
    "\n",
    "\n",
    "def combine_points_and_prices(\n",
    "    query_points: np.ndarray, prices: np.ndarray\n",
    ") -> pl.DataFrame:\n",
    "    \"\"\"\n",
    "    Prepare human-friendly output from numpy arrays.\n",
    "\n",
    "    Returns:\n",
    "    --------\n",
    "    df: pl.DataFrame\n",
    "        DataFrame with columns x, y, floor, price\n",
    "    \"\"\"\n",
    "    return pl.DataFrame(\n",
    "        {\n",
    "            \"x\": query_points[0],\n",
    "            \"y\": query_points[1],\n",
    "            \"floor\": query_points[2],\n",
    "            \"price\": prices,\n",
    "        }\n",
    "    )"
   ]
  },
  {
   "cell_type": "code",
   "execution_count": null,
   "id": "20a7774f",
   "metadata": {},
   "outputs": [],
   "source": [
    "def load_reference_points(path: Path = Path(\"local_data/data.parquet\")) -> np.ndarray:\n",
    "    \"\"\"\n",
    "    Load reference data points from a Parquet file.\n",
    "\n",
    "    Returns:\n",
    "    --------\n",
    "    data_points: np.ndarray\n",
    "        (N, 4) array of data points with x, y, floor, and price columns\n",
    "    \"\"\"\n",
    "\n",
    "    df = pl.read_parquet(path)\n",
    "    return np.vstack(\n",
    "        [\n",
    "            df[\"x\"].to_numpy(),\n",
    "            df[\"y\"].to_numpy(),\n",
    "            df[\"floor\"].to_numpy(),\n",
    "            df[\"price\"].to_numpy(),\n",
    "        ]\n",
    "    )\n",
    "\n",
    "load_reference_points()"
   ]
  },
  {
   "cell_type": "markdown",
   "id": "20bc510c",
   "metadata": {},
   "source": [
    "## Run without ray"
   ]
  },
  {
   "cell_type": "code",
   "execution_count": null,
   "id": "2c811011",
   "metadata": {},
   "outputs": [],
   "source": [
    "reference_points = load_reference_points()\n",
    "query_points = create_query_points(n_points=21)  # 21x21 grid"
   ]
  },
  {
   "cell_type": "code",
   "execution_count": null,
   "id": "ddcecfae",
   "metadata": {},
   "outputs": [],
   "source": [
    "prices = compute_prices(query_points, reference_points)\n",
    "prices"
   ]
  },
  {
   "cell_type": "code",
   "execution_count": null,
   "id": "8720f27f",
   "metadata": {},
   "outputs": [],
   "source": [
    "%%time\n",
    "points_and_prices = combine_points_and_prices(query_points=query_points, prices=prices)\n",
    "points_and_prices"
   ]
  },
  {
   "cell_type": "markdown",
   "id": "4b8fe0b2",
   "metadata": {},
   "source": [
    "## Run compute_prices in ray"
   ]
  },
  {
   "cell_type": "code",
   "execution_count": null,
   "id": "7cfeece6",
   "metadata": {},
   "outputs": [],
   "source": [
    "@ray.remote\n",
    "def compute_prices(query_points: np.ndarray, reference_points: np.ndarray) -> np.ndarray:\n",
    "    \"\"\"\n",
    "    Find prices for N data_points.\n",
    "\n",
    "    Returns:\n",
    "    --------\n",
    "    prices: np.ndarray\n",
    "        (N,) array of prices\n",
    "    \"\"\"\n",
    "    indices = knn_search(query_points, reference_points, DEFAULT_K)\n",
    "    prices: np.ndarray = reference_points[3][indices]\n",
    "    return prices.mean(axis=1)"
   ]
  },
  {
   "cell_type": "code",
   "execution_count": null,
   "id": "64ad7271",
   "metadata": {},
   "outputs": [],
   "source": [
    "reference_points = load_reference_points()\n",
    "query_points = create_query_points(n_points=21)  \n",
    "\n",
    "ray.init(ignore_reinit_error=True)\n",
    "\n",
    "prices = compute_prices.remote(query_points, reference_points)\n",
    "prices"
   ]
  },
  {
   "cell_type": "code",
   "execution_count": null,
   "id": "790e553d",
   "metadata": {},
   "outputs": [],
   "source": [
    "ray.get(prices)"
   ]
  }
 ],
 "metadata": {
  "kernelspec": {
   "display_name": "accelerating-scientific-python",
   "language": "python",
   "name": "python3"
  },
  "language_info": {
   "codemirror_mode": {
    "name": "ipython",
    "version": 3
   },
   "file_extension": ".py",
   "mimetype": "text/x-python",
   "name": "python",
   "nbconvert_exporter": "python",
   "pygments_lexer": "ipython3",
   "version": "3.12.7"
  }
 },
 "nbformat": 4,
 "nbformat_minor": 5
}
